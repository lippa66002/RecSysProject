{
 "cells": [
  {
   "metadata": {},
   "cell_type": "code",
   "outputs": [],
   "execution_count": null,
   "source": [
    "import pandas as pd\n",
    "import scipy.sparse as sps\n",
    "from Data_manager.split_functions.split_train_validation_random_holdout import split_train_in_two_percentage_global_sample"
   ],
   "id": "a609ee4d4d9a120d"
  },
  {
   "metadata": {},
   "cell_type": "code",
   "outputs": [],
   "execution_count": null,
   "source": [
    "URM_all_dataframe = pd.read_csv(filepath_or_buffer=\"Data/data_train.csv\",\n",
    "                                sep=\",\",\n",
    "                                dtype={0:int, 1:int, 2:float},\n",
    "                                engine='python')\n",
    "users = pd.read_csv(filepath_or_buffer=\"Data/data_target_users_test.csv\")"
   ],
   "id": "af81a997c276d61d"
  },
  {
   "metadata": {},
   "cell_type": "code",
   "outputs": [],
   "execution_count": null,
   "source": [
    "n_interactions = len(URM_all_dataframe)\n",
    "mapped_id, original_id = pd.factorize(URM_all_dataframe[\"user_id\"].unique())\n",
    "user_original_ID_to_index = pd.Series(mapped_id, index=original_id)\n",
    "mapped_id, original_id = pd.factorize(URM_all_dataframe[\"item_id\"].unique())\n",
    "item_original_ID_to_index = pd.Series(mapped_id, index=original_id)\n",
    "\n",
    "userID_unique = URM_all_dataframe[\"user_id\"].unique()\n",
    "itemID_unique = URM_all_dataframe[\"item_id\"].unique()\n",
    "\n",
    "URM_all = sps.coo_matrix((URM_all_dataframe[\"data\"].values,\n",
    "                          (URM_all_dataframe[\"user_id\"].values, URM_all_dataframe[\"item_id\"].values)))\n",
    "\n",
    "URM_all.tocsr()"
   ],
   "id": "895ef22dd771e694"
  },
  {
   "metadata": {},
   "cell_type": "code",
   "outputs": [],
   "execution_count": null,
   "source": [
    "from Evaluation.Evaluator import EvaluatorHoldout\n",
    "\n",
    "URM_train_validation, URM_test = split_train_in_two_percentage_global_sample(URM_all, train_percentage = 0.8)\n",
    "URM_train, URM_validation = split_train_in_two_percentage_global_sample(URM_train_validation, train_percentage = 0.8)\n",
    "\n",
    "evaluator_validation = EvaluatorHoldout(URM_validation, cutoff_list=[10])\n",
    "evaluator_test = EvaluatorHoldout(URM_test, cutoff_list=[10])"
   ],
   "id": "3885e5581c69c9dd"
  },
  {
   "metadata": {},
   "cell_type": "code",
   "outputs": [],
   "execution_count": null,
   "source": [
    "from torch.utils.data import DataLoader\n",
    "\n",
    "batch_size = 64\n",
    "\n",
    "# Create data loaders.\n",
    "train_dataloader = DataLoader(URM_train, batch_size=batch_size)\n",
    "validation_dataloader = DataLoader(URM_validation, batch_size=batch_size)\n",
    "test_dataloader = DataLoader(URM_test, batch_size=batch_size)\n",
    "\n",
    "for X, y in test_dataloader:\n",
    "    print(f\"Shape of X [N, C, H, W]: {X.shape}\")\n",
    "    print(f\"Shape of y: {y.shape} {y.dtype}\")\n",
    "    break"
   ],
   "id": "58b20704a8aacb48"
  },
  {
   "metadata": {},
   "cell_type": "code",
   "outputs": [],
   "execution_count": null,
   "source": [
    "import torch\n",
    "# Get cpu, gpu or mps device for training.\n",
    "device = (\n",
    "    \"cuda\"\n",
    "    if torch.cuda.is_available()\n",
    "    else \"mps\"\n",
    "    if torch.backends.mps.is_available()\n",
    "    else \"cpu\"\n",
    ")\n",
    "print(f\"Using {device} device\")"
   ],
   "id": "891950f79559d710"
  },
  {
   "metadata": {},
   "cell_type": "code",
   "outputs": [],
   "execution_count": null,
   "source": "/*TODO: MODEL*/",
   "id": "c025f63b5ae64065"
  },
  {
   "metadata": {},
   "cell_type": "code",
   "outputs": [],
   "execution_count": null,
   "source": "/*TODO: TRAINING*/",
   "id": "7db79bf5ad0bd53c"
  },
  {
   "metadata": {},
   "cell_type": "code",
   "outputs": [],
   "execution_count": null,
   "source": "/*TODO: HYPERPARAMETERS TUNING*/",
   "id": "132f01d76c129b64"
  }
 ],
 "metadata": {},
 "nbformat": 5,
 "nbformat_minor": 9
}
