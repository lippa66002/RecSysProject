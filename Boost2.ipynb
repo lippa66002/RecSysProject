{
 "cells": [
  {
   "metadata": {},
   "cell_type": "code",
   "outputs": [],
   "execution_count": null,
   "source": [
    "import pandas as pd\n",
    "import DataHandler\n",
    "from ModelController import ModelController\n",
    "from Recommenders.GraphBased.RP3betaRecommender import RP3betaRecommender\n",
    "from Recommenders.KNN.ItemKNNCBFRecommender import ItemKNNCBFRecommender\n",
    "from Recommenders.KNN.ItemKNNCFRecommender import ItemKNNCFRecommender\n",
    "from Recommenders.SLIM.SLIMElasticNetRecommender import SLIMElasticNetRecommender\n",
    "from xgboost import XGBRanker\n",
    "from tqdm import tqdm\n",
    "import scipy.sparse as sps\n",
    "import numpy as np"
   ],
   "id": "b048c5b49f0eddb7"
  },
  {
   "metadata": {},
   "cell_type": "code",
   "outputs": [],
   "execution_count": null,
   "source": [
    "# import machine learning libraries\n",
    "import xgboost as xgb\n",
    "from sklearn.metrics import accuracy_score\n",
    "\n",
    "\n",
    "# import packages for hyperparameters tuning\n",
    "from hyperopt import STATUS_OK, Trials, fmin, hp, tpe"
   ],
   "id": "d1c771557235539e"
  },
  {
   "metadata": {},
   "cell_type": "code",
   "outputs": [],
   "execution_count": null,
   "source": [
    "URM_all_dataframe = pd.read_csv(filepath_or_buffer=\"Data/data_train.csv\",\n",
    "                                sep=\",\",\n",
    "                                dtype={0:int, 1:int, 2:float},\n",
    "                                engine='python')\n",
    "users = pd.read_csv(filepath_or_buffer=\"Data/data_target_users_test.csv\")\n",
    "\n",
    "ICM = pd.read_csv(filepath_or_buffer=\"Data/data_ICM_metadata.csv\",\n",
    "                                sep=\",\",\n",
    "                                dtype={0:int, 1:int, 2:float},\n",
    "                                engine='python')"
   ],
   "id": "86f9cbbbf04f6216"
  },
  {
   "metadata": {},
   "cell_type": "code",
   "outputs": [],
   "execution_count": null,
   "source": [
    "URM_all, ICM_all = DataHandler.create_urm_icm(URM_all_dataframe, ICM)\n",
    "\n",
    "controller = ModelController()"
   ],
   "id": "9e93191db1336401"
  },
  {
   "metadata": {},
   "cell_type": "code",
   "outputs": [],
   "execution_count": null,
   "source": [
    "from Recommenders.KNN.UserKNNCFRecommender import UserKNNCFRecommender\n",
    "from Recommenders.ScoresHybridRecommender import ScoresHybridRecommender\n",
    "from EASE_R_Recommender import EASE_R_Recommender\n",
    "from Recommenders.HybridOptunable2 import HybridOptunable2\n",
    "\n",
    "stacked = sps.vstack([0.6814451172353111 * URM_all, (1 - 0.6814451172353111) * controller.ICM_all.T]).tocsr()\n",
    "slim = SLIMElasticNetRecommender(stacked)\n",
    "slim.load_model(folder_path=\"_saved_models\", file_name=\"SLIMstackedAll1\")\n",
    "\n",
    "rp3 = RP3betaRecommender(controller.URM_all)\n",
    "rp3.fit(topK= 18, beta= 0.2449115248846201, alpha= 0.34381573319072084)\n",
    "\n",
    "easeR = EASE_R_Recommender(controller.URM_all)\n",
    "easeR.fit(topK= 32, l2_norm= 20.402285200199643, normalize_matrix= False)\n",
    "\n",
    "user = UserKNNCFRecommender(controller.URM_all)\n",
    "user.fit(topK= 1000, shrink= 16, similarity ='cosine', normalize= True, feature_weighting= 'BM25')\n",
    "\n",
    "hybrid_all = ScoresHybridRecommender(controller.URM_all, slim, rp3, easeR, user, slim)\n",
    "#TODO: put parameters\n",
    "hybrid_all.fit(0, 0, 0, 0, 0)"
   ],
   "id": "45d74ca782aa331d"
  },
  {
   "metadata": {},
   "cell_type": "code",
   "outputs": [],
   "execution_count": null,
   "source": [
    "def write_recommendations(recommender, file_name):\n",
    "    # Apertura del file in modalità scrittura\n",
    "    f = open(file_name + \".csv\", \"w\")\n",
    "\n",
    "    # Scrittura dell'intestazione del file\n",
    "    f.write(\"user_id,item_list\\n\")\n",
    "\n",
    "    # Iterazione su tutti gli utenti\n",
    "    for user_id in users[\"user_id\"]:\n",
    "        # Selezione delle prime 10 raccomandazioni per ogni utente\n",
    "        recommendations_per_user = recommender.recommend(user_id_array=id, remove_seen_flag=True, cutoff=10)\n",
    "\n",
    "        # Creazione della riga formattata\n",
    "        recommendation_string = f\"{user_id},\" + \" \".join(map(str, recommendations_per_user))\n",
    "\n",
    "        # Scrittura della riga nel file\n",
    "        f.write(recommendation_string + \"\\n\")\n",
    "\n",
    "    # Chiusura del file\n",
    "    f.close()\n"
   ],
   "id": "24e257158904c80e"
  },
  {
   "metadata": {},
   "cell_type": "code",
   "outputs": [],
   "execution_count": null,
   "source": "write_recommendations(recommender = hybrid_all, file_name = \"submission_norerank\")\n",
   "id": "4cf2c9e029d33173"
  },
  {
   "metadata": {},
   "cell_type": "code",
   "outputs": [],
   "execution_count": null,
   "source": [
    "hybrid_submission = pd.read_csv(\"submission_norerank.csv\")\n",
    "hybrid_submission"
   ],
   "id": "1d2df76c3638b9b8"
  },
  {
   "metadata": {},
   "cell_type": "code",
   "outputs": [],
   "execution_count": null,
   "source": [
    "from Recommenders.KNN.UserKNNCFRecommender import UserKNNCFRecommender\n",
    "from Recommenders.ScoresHybridRecommender import ScoresHybridRecommender\n",
    "from EASE_R_Recommender import EASE_R_Recommender\n",
    "from Recommenders.HybridOptunable2 import HybridOptunable2\n",
    "\n",
    "slim1 = SLIMElasticNetRecommender(controller.URM_train)\n",
    "slim1.load_model(folder_path=\"_saved_models\", file_name=\"SLIMtrain\")\n",
    "\n",
    "rp3 = RP3betaRecommender(controller.URM_train)\n",
    "rp3.fit(topK= 18, beta= 0.2449115248846201, alpha= 0.34381573319072084)\n",
    "\n",
    "easeR = EASE_R_Recommender(controller.URM_train)\n",
    "easeR.fit(topK= 32, l2_norm= 20.402285200199643, normalize_matrix= False)\n",
    "\n",
    "user = UserKNNCFRecommender(controller.URM_train)\n",
    "user.fit(topK= 1000, shrink= 16, similarity ='cosine', normalize= True, feature_weighting= 'BM25')\n",
    "\n",
    "hybrid_train = ScoresHybridRecommender(controller.URM_train, slim, rp3, easeR, user, slim)\n",
    "#TODO: put parameters\n",
    "hybrid_train.fit(0, 0, 0, 0, 0)"
   ],
   "id": "5ff39a39a110ff1"
  },
  {
   "metadata": {},
   "cell_type": "code",
   "outputs": [],
   "execution_count": null,
   "source": [
    "n_users, n_items = controller.URM_train.shape\n",
    "\n",
    "training_dataframe = pd.DataFrame(index=range(0,n_users), columns = [\"ItemID\"])\n",
    "training_dataframe.index.name='UserID'\n",
    "\n",
    "training_dataframe"
   ],
   "id": "2b10e81fb3af327"
  },
  {
   "metadata": {},
   "cell_type": "code",
   "outputs": [],
   "execution_count": null,
   "source": [
    "cutoff = 30\n",
    "\n",
    "for user_id in tqdm(range(n_users)):\n",
    "    recommendations = hybrid_train.recommend(user_id, cutoff = cutoff)\n",
    "    training_dataframe.loc[user_id, \"ItemID\"] = recommendations\n",
    "\n",
    "training_dataframe = training_dataframe.explode(\"ItemID\")\n",
    "training_dataframe"
   ],
   "id": "371f00462110cd2e"
  },
  {
   "metadata": {},
   "cell_type": "code",
   "outputs": [],
   "execution_count": null,
   "source": [
    "URM_validation_coo = sps.coo_matrix(controller.URM_test)\n",
    "\n",
    "correct_recommendations = pd.DataFrame({\"UserID\": URM_validation_coo.row,\n",
    "                                        \"ItemID\": URM_validation_coo.col})\n",
    "correct_recommendations"
   ],
   "id": "1084a439e677b177"
  },
  {
   "metadata": {},
   "cell_type": "code",
   "outputs": [],
   "execution_count": null,
   "source": [
    "training_dataframe = pd.merge(training_dataframe, correct_recommendations, on=['UserID','ItemID'], how='left', indicator='Exist')\n",
    "training_dataframe"
   ],
   "id": "6d78ac83effda12d"
  },
  {
   "metadata": {},
   "cell_type": "code",
   "outputs": [],
   "execution_count": null,
   "source": [
    "training_dataframe[\"Label\"] = training_dataframe[\"Exist\"] == \"both\"\n",
    "training_dataframe.drop(columns = ['Exist'], inplace=True)\n",
    "training_dataframe"
   ],
   "id": "eec961cfa149d4be"
  },
  {
   "metadata": {},
   "cell_type": "code",
   "outputs": [],
   "execution_count": null,
   "source": [
    "from Recommenders.SLIM.Cython.SLIM_BPR_Cython import SLIM_BPR_Cython\n",
    "from Recommenders.NonPersonalizedRecommender import TopPop\n",
    "\n",
    "top_pop = TopPop(controller.URM_train)\n",
    "top_pop.fit()\n",
    "\n",
    "\n",
    "item_cf = ItemKNNCFRecommender(controller.URM_train)\n",
    "item_cf.load_model(folder_path=\"_saved_models\", file_name=\"itemtrain\")\n",
    "\n",
    "\n",
    "item_cbf = ItemKNNCBFRecommender(controller.URM_train, controller.ICM_all)\n",
    "item_cbf.fit()\n",
    "\n",
    "rp3beta = RP3betaRecommender(controller.URM_train)\n",
    "rp3beta.load_model(folder_path= \"_saved_models\",file_name=\"rp3train\")\n",
    "\n",
    "slimbpr = SLIM_BPR_Cython(controller.URM_train)\n",
    "slimbpr.load_model(folder_path= \"_saved_models\",file_name=\"bprtrain\")\n",
    "\n",
    "#TODO: add other promising algorithms\n",
    "\n",
    "other_algorithms = {\n",
    "    \"top_pop\": top_pop,\n",
    "    \"item_cf\": item_cf,\n",
    "    \"item_cbf\": item_cbf,\n",
    "    \"rp3beta\": rp3beta,\n",
    "    \"SLIM_BPR\": slimbpr\n",
    "}"
   ],
   "id": "bb32d41a040bc34e"
  },
  {
   "metadata": {},
   "cell_type": "code",
   "outputs": [],
   "execution_count": null,
   "source": [
    "training_dataframe = training_dataframe.set_index('UserID')\n",
    "\n",
    "for user_id in tqdm(range(n_users)):\n",
    "    for rec_label, rec_instance in other_algorithms.items():\n",
    "\n",
    "        item_list = training_dataframe.loc[user_id, \"ItemID\"].values.tolist()\n",
    "\n",
    "        all_item_scores = rec_instance._compute_item_score([user_id], items_to_compute = item_list)\n",
    "\n",
    "        training_dataframe.loc[user_id, rec_label] = all_item_scores[0, item_list]\n",
    "\n",
    "training_dataframe = training_dataframe.reset_index()\n",
    "training_dataframe = training_dataframe.rename(columns = {\"index\": \"UserID\"})\n",
    "training_dataframe"
   ],
   "id": "73a5d5f4b1b4d968"
  },
  {
   "metadata": {},
   "cell_type": "code",
   "outputs": [],
   "execution_count": null,
   "source": [
    "\n",
    "'''ICM_features = controller.ICM_all.to_dict()[\"feature_id\"]\n",
    "ICM_features'''\n",
    "\n",
    "\n"
   ],
   "id": "656bf14e3d29a89c"
  },
  {
   "metadata": {},
   "cell_type": "code",
   "outputs": [],
   "execution_count": null,
   "source": [
    "item_popularity = np.ediff1d(sps.csc_matrix(controller.URM_train).indptr)\n",
    "\n",
    "training_dataframe['item_popularity'] = item_popularity[training_dataframe[\"ItemID\"].values.astype(int)]\n",
    "\n",
    "user_popularity = np.ediff1d(sps.csr_matrix(controller.URM_train).indptr)\n",
    "training_dataframe['user_profile_len'] = user_popularity[training_dataframe[\"UserID\"].values.astype(int)]\n",
    "\n",
    "\n",
    "training_dataframe"
   ],
   "id": "cd4a6331fe3b23af"
  },
  {
   "metadata": {},
   "cell_type": "code",
   "outputs": [],
   "execution_count": null,
   "source": "type(training_dataframe[\"ItemID\"])",
   "id": "a1de5d63784c5a37"
  },
  {
   "metadata": {},
   "cell_type": "code",
   "outputs": [],
   "execution_count": null,
   "source": [
    "training_dataframe = training_dataframe.sort_values(\"UserID\").reset_index()\n",
    "training_dataframe.drop(columns = ['index'], inplace=True)\n",
    "training_dataframe"
   ],
   "id": "eb8dd4761e16eb21"
  },
  {
   "metadata": {},
   "cell_type": "code",
   "outputs": [],
   "execution_count": null,
   "source": [
    "groups = training_dataframe.groupby(\"UserID\").size().values\n",
    "groups"
   ],
   "id": "ff05f54198449ed2"
  },
  {
   "metadata": {},
   "cell_type": "code",
   "outputs": [],
   "execution_count": null,
   "source": [
    "n_estimators = 50\n",
    "learning_rate = 1e-1\n",
    "reg_alpha = 1e-1\n",
    "reg_lambda = 1e-1\n",
    "max_depth = 5\n",
    "max_leaves = 0\n",
    "grow_policy = \"depthwise\"\n",
    "objective = \"pairwise\"\n",
    "booster = \"gbtree\"\n",
    "use_user_profile = False\n",
    "random_seed = None\n",
    "\n",
    "XGB_model = XGBRanker(objective='rank:{}'.format(objective),\n",
    "                      n_estimators = int(n_estimators),\n",
    "                      random_state = random_seed,\n",
    "                      learning_rate = learning_rate,\n",
    "                      reg_alpha = reg_alpha,\n",
    "                      reg_lambda = reg_lambda,\n",
    "                      max_depth = int(max_depth),\n",
    "                      max_leaves = int(max_leaves),\n",
    "                      grow_policy = grow_policy,\n",
    "                      verbosity = 0, # 2 if self.verbose else 0,\n",
    "                      booster = booster,\n",
    "                      )"
   ],
   "id": "a3a08d2ec4379a3f"
  },
  {
   "metadata": {},
   "cell_type": "code",
   "outputs": [],
   "execution_count": null,
   "source": [
    "'''candidate_recommender = SLIMElasticNetRecommender(controller.URM_train)\n",
    "candidate_recommender.fit(alpha= 0.00022742003969239836, topK= 709, l1_ratio= 0.1488442906776265)\n",
    "candidate_recommender.save_model(folder_path=\"_saved_models\", file_name = \"ModelName.SLIM_ElasticNetTrain\")'''"
   ],
   "id": "4576fe6d0d77fec2"
  },
  {
   "metadata": {},
   "cell_type": "code",
   "outputs": [],
   "execution_count": null,
   "source": [
    "# Check the data types of the columns in training_dataframe\n",
    "print(training_dataframe.dtypes)\n",
    "\n",
    "# Convert unsupported data types to supported ones\n",
    "for column in training_dataframe.columns:\n",
    "    if training_dataframe[column].dtype not in [int, float, bool, 'category']:\n",
    "        training_dataframe[column] = training_dataframe[column].astype(float)\n",
    "\n",
    "# Verify the data types after conversion\n",
    "print(training_dataframe.dtypes)\n",
    "y_train = training_dataframe[\"Label\"]\n",
    "X_train = training_dataframe.drop(columns=[\"Label\"])\n",
    "\n",
    "XGB_model.fit(X_train,\n",
    "          y_train,\n",
    "          group=groups,\n",
    "          verbose=True)"
   ],
   "id": "9d9878b05dd36851"
  },
  {
   "metadata": {},
   "cell_type": "code",
   "outputs": [],
   "execution_count": null,
   "source": [
    "# Let's say I want to compute the prediction for a group of user-item pairs, for simplicity I will use a slice of the data used\n",
    "# for training because it already contains all the features\n",
    "X_to_predict = X_train[X_train[\"UserID\"] == 10]\n",
    "\n",
    "XGB_model.predict(X_to_predict)"
   ],
   "id": "e09592815abd7d55"
  },
  {
   "metadata": {},
   "cell_type": "code",
   "outputs": [],
   "execution_count": null,
   "source": [
    "from xgboost import plot_importance\n",
    "\n",
    "plot_importance(XGB_model, importance_type='weight', title='Weight (Frequence)')"
   ],
   "id": "443e046323f7ce65"
  },
  {
   "metadata": {},
   "cell_type": "code",
   "outputs": [],
   "execution_count": null,
   "source": [
    "X_train[\"UserID\"] = X_train[\"UserID\"].astype(\"category\")\n",
    "X_train[\"ItemID\"] = X_train[\"ItemID\"].astype(\"category\")"
   ],
   "id": "8685a2d8fb46deff"
  },
  {
   "metadata": {},
   "cell_type": "code",
   "outputs": [],
   "execution_count": null,
   "source": [
    "XGB_model = XGBRanker(objective='rank:{}'.format(objective),\n",
    "                      n_estimators = int(n_estimators),\n",
    "                      random_state = random_seed,\n",
    "                      learning_rate = learning_rate,\n",
    "                      reg_alpha = reg_alpha,\n",
    "                      reg_lambda = reg_lambda,\n",
    "                      max_depth = int(max_depth),\n",
    "                      max_leaves = int(max_leaves),\n",
    "                      grow_policy = grow_policy,\n",
    "                      verbosity = 0, # 2 if self.verbose else 0,\n",
    "                      booster = booster,\n",
    "                      enable_categorical = True,\n",
    "                      tree_method = \"hist\",  # Supported tree methods are `gpu_hist`, `approx`, and `hist`.\n",
    "                      )\n",
    "\n",
    "XGB_model.fit(X_train,\n",
    "          y_train,\n",
    "          group=groups,\n",
    "          verbose=True)"
   ],
   "id": "5b66a76c8b01acb"
  },
  {
   "metadata": {},
   "cell_type": "code",
   "outputs": [],
   "execution_count": null,
   "source": [
    "X_to_predict = X_train[X_train[\"UserID\"] == 10]\n",
    "\n",
    "XGB_model.predict(X_to_predict)"
   ],
   "id": "7efd3408b7832ed0"
  },
  {
   "metadata": {},
   "cell_type": "code",
   "outputs": [],
   "execution_count": null,
   "source": "plot_importance(XGB_model, importance_type='weight', title='Weight (Frequence)')",
   "id": "5d6c59f647e1789f"
  },
  {
   "metadata": {},
   "cell_type": "code",
   "outputs": [],
   "execution_count": null,
   "source": [
    "slim1 = SLIMElasticNetRecommender(URM_all)\n",
    "slim1.load_model(folder_path=\"_saved_models\", file_name=\"SLIM_ElasticNetAll\")\n",
    "stacked = sps.vstack([0.6814451172353111 * URM_all, (1 - 0.6814451172353111) * controller.ICM_all.T]).tocsr()\n",
    "slim2 = SLIMElasticNetRecommender(stacked)\n",
    "slim2.load_model(folder_path=\"_saved_models\", file_name=\"SLIMstackedAll1\")\n",
    "bestrp3 = RP3betaRecommender(URM_all)\n",
    "bestrp3.fit(topK= 12 , alpha = 0.25843, beta= 0.357834)\n",
    "hyb1 = HybridOptunable2(URM_all)\n",
    "hyb1.fit(0.27959722573911727,slim1,slim2)\n",
    "ease1 = EASE_R_Recommender(URM_all)\n",
    "ease1.load_model(folder_path=\"_saved_models\", file_name=\"easeall\")\n",
    "hyb2 = HybridOptunable2(URM_all)\n",
    "hyb2.fit(0.18923840370620948,hyb1,bestrp3)\n",
    "hyb3 = ScoresHybridRecommender(controller.URM_train, ease1, hyb2, bestrp3, slim1, slim1)\n",
    "alpha=0.689217356\n",
    "hyb3.fit(alpha,1-alpha,0,0,0)"
   ],
   "id": "26050af61549943e"
  },
  {
   "metadata": {},
   "cell_type": "code",
   "outputs": [],
   "execution_count": null,
   "source": [
    "user_recommendations_items = []\n",
    "user_recommendations_user_id = []\n",
    "\n",
    "for user_id in tqdm(range(n_users)):\n",
    "    recommendations = hyb3.recommend(user_id, cutoff = cutoff)\n",
    "    \n",
    "    user_recommendations_items.extend(recommendations)\n",
    "    user_recommendations_user_id.extend([user_id]*len(recommendations))"
   ],
   "id": "c70aefaa1ec7ad03"
  },
  {
   "metadata": {},
   "cell_type": "code",
   "outputs": [],
   "execution_count": null,
   "source": [
    "test_dataframe = pd.DataFrame({\"UserID\":user_recommendations_user_id, \"ItemID\":user_recommendations_items})\n",
    "test_dataframe"
   ],
   "id": "253de25591de76c3"
  },
  {
   "metadata": {},
   "cell_type": "code",
   "outputs": [],
   "execution_count": null,
   "source": [
    "top_pop = TopPop(URM_all)\n",
    "top_pop.fit()\n",
    "item_cf = ItemKNNCFRecommender(URM_all)\n",
    "item_cf.fit(similarity= 'tversky', topK= 5, shrink= 19, tversky_alpha= 0.20343700501082568, tversky_beta= 1.8980319969315242)\n",
    "item_cbf = ItemKNNCBFRecommender(URM_all, ICM_all)\n",
    "item_cbf.load_model(folder_path=\"_saved_models\", file_name=\"ItemKNNCBFRecommender_all\")\n",
    "SLIM_BPR = SLIM_BPR_Cython(URM_all)\n",
    "rp3beta=bestrp3\n",
    "\n",
    "other_algorithms_all = {\n",
    "    \"top_pop\": top_pop,\n",
    "    \"item_cf\": item_cf,\n",
    "    \"item_cbf\": item_cbf,\n",
    "    \"rp3beta\": rp3beta,\n",
    "    \"SLIM_BPR\": slimbpr\n",
    "}"
   ],
   "id": "93e8ac14b9c9ed37"
  },
  {
   "metadata": {},
   "cell_type": "code",
   "outputs": [],
   "execution_count": null,
   "source": [
    "\n",
    "test_dataframe = test_dataframe.set_index('UserID')\n",
    "\n",
    "for user_id in tqdm(range(n_users)):\n",
    "    for rec_label, rec_instance in other_algorithms_all.items():\n",
    "\n",
    "        item_list = test_dataframe.loc[user_id, \"ItemID\"].values.tolist()\n",
    "\n",
    "        all_item_scores = rec_instance._compute_item_score([user_id], items_to_compute = item_list)\n",
    "\n",
    "        test_dataframe.loc[user_id, rec_label] = all_item_scores[0, item_list]\n",
    "\n",
    "test_dataframe = test_dataframe.reset_index()\n",
    "test_dataframe = test_dataframe.rename(columns = {\"index\": \"UserID\"})\n",
    "\n",
    "\n"
   ],
   "id": "cfc308c58d300d4e"
  },
  {
   "metadata": {},
   "cell_type": "code",
   "outputs": [],
   "execution_count": null,
   "source": [
    "item_popularity = np.ediff1d(sps.csc_matrix(URM_all).indptr)\n",
    "test_dataframe['item_popularity'] = item_popularity[test_dataframe[\"ItemID\"].values.astype(int)]\n",
    "\n",
    "user_popularity = np.ediff1d(sps.csr_matrix(URM_all).indptr)\n",
    "test_dataframe['user_profile_len'] = user_popularity[test_dataframe[\"UserID\"].values.astype(int)]\n",
    "\n",
    "test_dataframe"
   ],
   "id": "315a6cdfcb55c144"
  },
  {
   "metadata": {},
   "cell_type": "code",
   "outputs": [],
   "execution_count": null,
   "source": [
    "test_dataframe = test_dataframe.sort_values(\"UserID\").reset_index()\n",
    "test_dataframe.drop(columns = ['index'], inplace=True)\n",
    "\n",
    "\n",
    "test_dataframe"
   ],
   "id": "6fa231c9cd318b4c"
  },
  {
   "metadata": {},
   "cell_type": "code",
   "outputs": [],
   "execution_count": null,
   "source": "X = test_dataframe\n",
   "id": "875a9c77d2bb1e35"
  },
  {
   "metadata": {},
   "cell_type": "code",
   "outputs": [],
   "execution_count": null,
   "source": [
    "predictions = XGB_model.predict(X)\n",
    "predictions"
   ],
   "id": "5551fcf614b7a435"
  },
  {
   "metadata": {},
   "cell_type": "code",
   "outputs": [],
   "execution_count": null,
   "source": [
    "reranked_dataframe = test_dataframe.copy()\n",
    "reranked_dataframe['rating_xgb'] = pd.Series(predictions, index=reranked_dataframe.index)\n",
    "reranked_dataframe"
   ],
   "id": "9a41fdb43a3905da"
  },
  {
   "metadata": {},
   "cell_type": "code",
   "outputs": [],
   "execution_count": null,
   "source": [
    "reranked_dataframe = reranked_dataframe.sort_values(['UserID','rating_xgb'], ascending=[True, False])\n",
    "reranked_dataframe"
   ],
   "id": "2decd27a68fa1e28"
  },
  {
   "metadata": {},
   "cell_type": "code",
   "outputs": [],
   "execution_count": null,
   "source": "write_reranked_recommendations(file_name = \"recomm\")\n",
   "id": "60210c6217d67b4f"
  },
  {
   "metadata": {},
   "cell_type": "code",
   "outputs": [],
   "execution_count": null,
   "source": [
    "\n",
    "submission = pd.read_csv(\"recomm.csv\")\n",
    "submission"
   ],
   "id": "7b49e6272e527400"
  }
 ],
 "metadata": {},
 "nbformat": 5,
 "nbformat_minor": 9
}
