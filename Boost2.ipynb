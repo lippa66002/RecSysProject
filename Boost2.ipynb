{
 "cells": [
  {
   "metadata": {},
   "cell_type": "code",
   "outputs": [],
   "execution_count": null,
   "source": [
    "import pandas as pd\n",
    "import DataHandler\n",
    "from ModelController import ModelController\n",
    "from Recommenders.GraphBased.RP3betaRecommender import RP3betaRecommender\n",
    "from Recommenders.KNN.ItemKNNCBFRecommender import ItemKNNCBFRecommender\n",
    "from Recommenders.KNN.ItemKNNCFRecommender import ItemKNNCFRecommender\n",
    "from Recommenders.SLIM.SLIMElasticNetRecommender import SLIMElasticNetRecommender\n",
    "from xgboost import XGBRanker\n",
    "from tqdm import tqdm\n",
    "import scipy.sparse as sps\n",
    "import numpy as np"
   ],
   "id": "e1005657b1e5df5"
  },
  {
   "metadata": {},
   "cell_type": "code",
   "outputs": [],
   "execution_count": null,
   "source": [
    "# import machine learning libraries\n",
    "import xgboost as xgb\n",
    "from sklearn.metrics import accuracy_score\n",
    "\n",
    "\n",
    "# import packages for hyperparameters tuning\n",
    "from hyperopt import STATUS_OK, Trials, fmin, hp, tpe"
   ],
   "id": "2468fa53f5c62855"
  },
  {
   "metadata": {},
   "cell_type": "code",
   "outputs": [],
   "execution_count": null,
   "source": [
    "URM_all_dataframe = pd.read_csv(filepath_or_buffer=\"Data/data_train.csv\",\n",
    "                                sep=\",\",\n",
    "                                dtype={0:int, 1:int, 2:float},\n",
    "                                engine='python')\n",
    "users = pd.read_csv(filepath_or_buffer=\"Data/data_target_users_test.csv\")\n",
    "\n",
    "ICM = pd.read_csv(filepath_or_buffer=\"Data/data_ICM_metadata.csv\",\n",
    "                                sep=\",\",\n",
    "                                dtype={0:int, 1:int, 2:float},\n",
    "                                engine='python')"
   ],
   "id": "3800e9af34fbdbd9"
  },
  {
   "metadata": {},
   "cell_type": "code",
   "outputs": [],
   "execution_count": null,
   "source": [
    "URM_all, ICM_all = DataHandler.create_urm_icm(URM_all_dataframe, ICM)\n",
    "\n",
    "controller = ModelController()"
   ],
   "id": "2b034d7f550bbeed"
  },
  {
   "metadata": {},
   "cell_type": "code",
   "outputs": [],
   "execution_count": null,
   "source": [
    "from Recommenders.KNN.UserKNNCFRecommender import UserKNNCFRecommender\n",
    "from Recommenders.ScoresHybridRecommender import ScoresHybridRecommender\n",
    "from EASE_R_Recommender import EASE_R_Recommender\n",
    "from Recommenders.HybridOptunable2 import HybridOptunable2\n",
    "\n",
    "stacked = sps.vstack([0.6814451172353111 * URM_all, (1 - 0.6814451172353111) * controller.ICM_all.T]).tocsr()\n",
    "slim = SLIMElasticNetRecommender(stacked)\n",
    "slim.load_model(folder_path=\"_saved_models\", file_name=\"SLIMstackedAll1\")\n",
    "\n",
    "rp3 = RP3betaRecommender(controller.URM_all)\n",
    "rp3.fit(topK= 18, beta= 0.2449115248846201, alpha= 0.34381573319072084)\n",
    "\n",
    "easeR = EASE_R_Recommender(controller.URM_all)\n",
    "easeR.fit(topK= 32, l2_norm= 20.402285200199643, normalize_matrix= False)\n",
    "\n",
    "user = UserKNNCFRecommender(controller.URM_all)\n",
    "user.fit(topK= 1000, shrink= 16, similarity ='cosine', normalize= True, feature_weighting= 'BM25')\n",
    "\n",
    "hybrid_all = ScoresHybridRecommender(controller.URM_all, slim, rp3, easeR, user, slim)\n",
    "#TODO: put parameters\n",
    "hybrid_all.fit(0, 0, 0, 0, 0)"
   ],
   "id": "612726c673629c49"
  },
  {
   "metadata": {},
   "cell_type": "code",
   "outputs": [],
   "execution_count": null,
   "source": [
    "def write_recommendations(recommender, file_name):\n",
    "    # Apertura del file in modalità scrittura\n",
    "    f = open(file_name + \".csv\", \"w\")\n",
    "\n",
    "    # Scrittura dell'intestazione del file\n",
    "    f.write(\"user_id,item_list\\n\")\n",
    "\n",
    "    # Iterazione su tutti gli utenti\n",
    "    for user_id in users[\"user_id\"]:\n",
    "        # Selezione delle prime 10 raccomandazioni per ogni utente\n",
    "        recommendations_per_user = recommender.recommend(user_id_array=id, remove_seen_flag=True, cutoff=10)\n",
    "\n",
    "        # Creazione della riga formattata\n",
    "        recommendation_string = f\"{user_id},\" + \" \".join(map(str, recommendations_per_user))\n",
    "\n",
    "        # Scrittura della riga nel file\n",
    "        f.write(recommendation_string + \"\\n\")\n",
    "\n",
    "    # Chiusura del file\n",
    "    f.close()\n"
   ],
   "id": "6950ecc7b9288a62"
  },
  {
   "metadata": {},
   "cell_type": "code",
   "outputs": [],
   "execution_count": null,
   "source": "write_recommendations(recommender = hybrid_all, file_name = \"submission_norerank\")\n",
   "id": "d7ba772e54c0ba6c"
  },
  {
   "metadata": {},
   "cell_type": "code",
   "outputs": [],
   "execution_count": null,
   "source": [
    "hybrid_submission = pd.read_csv(\"submission_norerank.csv\")\n",
    "hybrid_submission"
   ],
   "id": "370afd4b739dc91d"
  },
  {
   "metadata": {},
   "cell_type": "code",
   "outputs": [],
   "execution_count": null,
   "source": [
    "from Recommenders.KNN.UserKNNCFRecommender import UserKNNCFRecommender\n",
    "from Recommenders.ScoresHybridRecommender import ScoresHybridRecommender\n",
    "from EASE_R_Recommender import EASE_R_Recommender\n",
    "from Recommenders.HybridOptunable2 import HybridOptunable2\n",
    "\n",
    "slim1 = SLIMElasticNetRecommender(controller.URM_train)\n",
    "slim1.load_model(folder_path=\"_saved_models\", file_name=\"SLIMtrain\")\n",
    "\n",
    "rp3 = RP3betaRecommender(controller.URM_train)\n",
    "rp3.fit(topK= 18, beta= 0.2449115248846201, alpha= 0.34381573319072084)\n",
    "\n",
    "easeR = EASE_R_Recommender(controller.URM_train)\n",
    "easeR.fit(topK= 32, l2_norm= 20.402285200199643, normalize_matrix= False)\n",
    "\n",
    "user = UserKNNCFRecommender(controller.URM_train)\n",
    "user.fit(topK= 1000, shrink= 16, similarity ='cosine', normalize= True, feature_weighting= 'BM25')\n",
    "\n",
    "hybrid_train = ScoresHybridRecommender(controller.URM_train, slim, rp3, easeR, user, slim)\n",
    "#TODO: put parameters\n",
    "hybrid_train.fit(0, 0, 0, 0, 0)"
   ],
   "id": "1ec0d1396bc53ca6"
  },
  {
   "metadata": {},
   "cell_type": "code",
   "outputs": [],
   "execution_count": null,
   "source": [
    "n_users, n_items = controller.URM_train.shape\n",
    "\n",
    "training_dataframe = pd.DataFrame(index=range(0,n_users), columns = [\"ItemID\"])\n",
    "training_dataframe.index.name='UserID'\n",
    "\n",
    "training_dataframe"
   ],
   "id": "8882a8ef2b89f762"
  },
  {
   "metadata": {},
   "cell_type": "code",
   "outputs": [],
   "execution_count": null,
   "source": [
    "cutoff = 30\n",
    "\n",
    "for user_id in tqdm(range(n_users)):\n",
    "    recommendations = hybrid_train.recommend(user_id, cutoff = cutoff)\n",
    "    training_dataframe.loc[user_id, \"ItemID\"] = recommendations\n",
    "\n",
    "training_dataframe = training_dataframe.explode(\"ItemID\")\n",
    "training_dataframe"
   ],
   "id": "2f201b599e5ce37e"
  },
  {
   "metadata": {},
   "cell_type": "code",
   "outputs": [],
   "execution_count": null,
   "source": [
    "URM_validation_coo = sps.coo_matrix(controller.URM_test)\n",
    "\n",
    "correct_recommendations = pd.DataFrame({\"UserID\": URM_validation_coo.row,\n",
    "                                        \"ItemID\": URM_validation_coo.col})\n",
    "correct_recommendations"
   ],
   "id": "c8d1ec2a157220ea"
  },
  {
   "metadata": {},
   "cell_type": "code",
   "outputs": [],
   "execution_count": null,
   "source": [
    "training_dataframe = pd.merge(training_dataframe, correct_recommendations, on=['UserID','ItemID'], how='left', indicator='Exist')\n",
    "training_dataframe"
   ],
   "id": "bf01641a663684ab"
  },
  {
   "metadata": {},
   "cell_type": "code",
   "outputs": [],
   "execution_count": null,
   "source": [
    "training_dataframe[\"Label\"] = training_dataframe[\"Exist\"] == \"both\"\n",
    "training_dataframe.drop(columns = ['Exist'], inplace=True)\n",
    "training_dataframe"
   ],
   "id": "677fc187607226b7"
  },
  {
   "metadata": {},
   "cell_type": "code",
   "outputs": [],
   "execution_count": null,
   "source": [
    "from Recommenders.SLIM.Cython.SLIM_BPR_Cython import SLIM_BPR_Cython\n",
    "from Recommenders.NonPersonalizedRecommender import TopPop\n",
    "\n",
    "top_pop = TopPop(controller.URM_train)\n",
    "top_pop.fit()\n",
    "\n",
    "\n",
    "item_cf = ItemKNNCFRecommender(controller.URM_train)\n",
    "item_cf.load_model(folder_path=\"_saved_models\", file_name=\"itemtrain\")\n",
    "\n",
    "\n",
    "item_cbf = ItemKNNCBFRecommender(controller.URM_train, controller.ICM_all)\n",
    "item_cbf.fit()\n",
    "\n",
    "rp3beta = RP3betaRecommender(controller.URM_train)\n",
    "rp3beta.load_model(folder_path= \"_saved_models\",file_name=\"rp3train\")\n",
    "\n",
    "slimbpr = SLIM_BPR_Cython(controller.URM_train)\n",
    "slimbpr.load_model(folder_path= \"_saved_models\",file_name=\"bprtrain\")\n",
    "\n",
    "#TODO: add other promising algorithms\n",
    "\n",
    "other_algorithms = {\n",
    "    \"top_pop\": top_pop,\n",
    "    \"item_cf\": item_cf,\n",
    "    \"item_cbf\": item_cbf,\n",
    "    \"rp3beta\": rp3beta,\n",
    "    \"SLIM_BPR\": slimbpr\n",
    "}"
   ],
   "id": "5b9c2c87f4c2c167"
  },
  {
   "metadata": {},
   "cell_type": "code",
   "outputs": [],
   "execution_count": null,
   "source": [
    "training_dataframe = training_dataframe.set_index('UserID')\n",
    "\n",
    "for user_id in tqdm(range(n_users)):\n",
    "    for rec_label, rec_instance in other_algorithms.items():\n",
    "\n",
    "        item_list = training_dataframe.loc[user_id, \"ItemID\"].values.tolist()\n",
    "\n",
    "        all_item_scores = rec_instance._compute_item_score([user_id], items_to_compute = item_list)\n",
    "\n",
    "        training_dataframe.loc[user_id, rec_label] = all_item_scores[0, item_list]\n",
    "\n",
    "training_dataframe = training_dataframe.reset_index()\n",
    "training_dataframe = training_dataframe.rename(columns = {\"index\": \"UserID\"})\n",
    "training_dataframe"
   ],
   "id": "89572480b4f9baff"
  },
  {
   "metadata": {},
   "cell_type": "code",
   "outputs": [],
   "execution_count": null,
   "source": [
    "item_popularity = np.ediff1d(sps.csc_matrix(controller.URM_train).indptr)\n",
    "\n",
    "training_dataframe['item_popularity'] = item_popularity[training_dataframe[\"ItemID\"].values.astype(int)]\n",
    "\n",
    "user_popularity = np.ediff1d(sps.csr_matrix(controller.URM_train).indptr)\n",
    "training_dataframe['user_profile_len'] = user_popularity[training_dataframe[\"UserID\"].values.astype(int)]\n",
    "\n",
    "\n",
    "training_dataframe"
   ],
   "id": "81381d2658502512"
  },
  {
   "metadata": {},
   "cell_type": "code",
   "outputs": [],
   "execution_count": null,
   "source": "type(training_dataframe[\"ItemID\"])",
   "id": "53adf6e7f885edb2"
  },
  {
   "metadata": {},
   "cell_type": "code",
   "outputs": [],
   "execution_count": null,
   "source": [
    "training_dataframe = training_dataframe.sort_values(\"UserID\").reset_index()\n",
    "training_dataframe.drop(columns = ['index'], inplace=True)\n",
    "training_dataframe"
   ],
   "id": "85414f76904e6a56"
  },
  {
   "metadata": {},
   "cell_type": "code",
   "outputs": [],
   "execution_count": null,
   "source": [
    "groups = training_dataframe.groupby(\"UserID\").size().values\n",
    "groups"
   ],
   "id": "56fb367a0716a438"
  },
  {
   "metadata": {},
   "cell_type": "code",
   "outputs": [],
   "execution_count": null,
   "source": [
    "n_estimators = 50\n",
    "learning_rate = 1e-1\n",
    "reg_alpha = 1e-1\n",
    "reg_lambda = 1e-1\n",
    "max_depth = 5\n",
    "max_leaves = 0\n",
    "grow_policy = \"depthwise\"\n",
    "objective = \"pairwise\"\n",
    "booster = \"gbtree\"\n",
    "use_user_profile = False\n",
    "random_seed = None\n",
    "\n",
    "XGB_model = XGBRanker(objective='rank:{}'.format(objective),\n",
    "                      n_estimators = int(n_estimators),\n",
    "                      random_state = random_seed,\n",
    "                      learning_rate = learning_rate,\n",
    "                      reg_alpha = reg_alpha,\n",
    "                      reg_lambda = reg_lambda,\n",
    "                      max_depth = int(max_depth),\n",
    "                      max_leaves = int(max_leaves),\n",
    "                      grow_policy = grow_policy,\n",
    "                      verbosity = 0, # 2 if self.verbose else 0,\n",
    "                      booster = booster,\n",
    "                      )"
   ],
   "id": "d08e2f944685fe62"
  },
  {
   "metadata": {},
   "cell_type": "code",
   "outputs": [],
   "execution_count": null,
   "source": [
    "'''candidate_recommender = SLIMElasticNetRecommender(controller.URM_train)\n",
    "candidate_recommender.fit(alpha= 0.00022742003969239836, topK= 709, l1_ratio= 0.1488442906776265)\n",
    "candidate_recommender.save_model(folder_path=\"_saved_models\", file_name = \"ModelName.SLIM_ElasticNetTrain\")'''"
   ],
   "id": "d383d53df999c83a"
  },
  {
   "metadata": {},
   "cell_type": "code",
   "outputs": [],
   "execution_count": null,
   "source": [
    "# Check the data types of the columns in training_dataframe\n",
    "print(training_dataframe.dtypes)\n",
    "\n",
    "# Convert unsupported data types to supported ones\n",
    "for column in training_dataframe.columns:\n",
    "    if training_dataframe[column].dtype not in [int, float, bool, 'category']:\n",
    "        training_dataframe[column] = training_dataframe[column].astype(float)\n",
    "\n",
    "# Verify the data types after conversion\n",
    "print(training_dataframe.dtypes)\n",
    "y_train = training_dataframe[\"Label\"]\n",
    "X_train = training_dataframe.drop(columns=[\"Label\"])\n",
    "\n",
    "XGB_model.fit(X_train,\n",
    "          y_train,\n",
    "          group=groups,\n",
    "          verbose=True)"
   ],
   "id": "f66b4739ca8a6800"
  },
  {
   "metadata": {},
   "cell_type": "code",
   "outputs": [],
   "execution_count": null,
   "source": [
    "# Let's say I want to compute the prediction for a group of user-item pairs, for simplicity I will use a slice of the data used\n",
    "# for training because it already contains all the features\n",
    "X_to_predict = X_train[X_train[\"UserID\"] == 10]\n",
    "\n",
    "XGB_model.predict(X_to_predict)"
   ],
   "id": "ae83323a26da19cc"
  },
  {
   "metadata": {},
   "cell_type": "code",
   "outputs": [],
   "execution_count": null,
   "source": [
    "from xgboost import plot_importance\n",
    "\n",
    "plot_importance(XGB_model, importance_type='weight', title='Weight (Frequence)')"
   ],
   "id": "517aa20c6dc53d27"
  },
  {
   "metadata": {},
   "cell_type": "code",
   "outputs": [],
   "execution_count": null,
   "source": [
    "X_train[\"UserID\"] = X_train[\"UserID\"].astype(\"category\")\n",
    "X_train[\"ItemID\"] = X_train[\"ItemID\"].astype(\"category\")"
   ],
   "id": "5bda02e13f9299e3"
  },
  {
   "metadata": {},
   "cell_type": "code",
   "outputs": [],
   "execution_count": null,
   "source": [
    "XGB_model = XGBRanker(objective='rank:{}'.format(objective),\n",
    "                      n_estimators = int(n_estimators),\n",
    "                      random_state = random_seed,\n",
    "                      learning_rate = learning_rate,\n",
    "                      reg_alpha = reg_alpha,\n",
    "                      reg_lambda = reg_lambda,\n",
    "                      max_depth = int(max_depth),\n",
    "                      max_leaves = int(max_leaves),\n",
    "                      grow_policy = grow_policy,\n",
    "                      verbosity = 0, # 2 if self.verbose else 0,\n",
    "                      booster = booster,\n",
    "                      enable_categorical = True,\n",
    "                      tree_method = \"hist\",  # Supported tree methods are `gpu_hist`, `approx`, and `hist`.\n",
    "                      )\n",
    "\n",
    "XGB_model.fit(X_train,\n",
    "          y_train,\n",
    "          group=groups,\n",
    "          verbose=True)"
   ],
   "id": "97d5dbf9e8fb8aa8"
  },
  {
   "metadata": {},
   "cell_type": "code",
   "outputs": [],
   "execution_count": null,
   "source": [
    "X_to_predict = X_train[X_train[\"UserID\"] == 10]\n",
    "\n",
    "XGB_model.predict(X_to_predict)"
   ],
   "id": "a06f66ad602b8f3"
  },
  {
   "metadata": {},
   "cell_type": "code",
   "outputs": [],
   "execution_count": null,
   "source": "plot_importance(XGB_model, importance_type='weight', title='Weight (Frequence)')",
   "id": "d1462d023fb1df0"
  },
  {
   "metadata": {},
   "cell_type": "code",
   "outputs": [],
   "execution_count": null,
   "source": [
    "slim1 = SLIMElasticNetRecommender(URM_all)\n",
    "slim1.load_model(folder_path=\"_saved_models\", file_name=\"SLIM_ElasticNetAll\")\n",
    "stacked = sps.vstack([0.6814451172353111 * URM_all, (1 - 0.6814451172353111) * controller.ICM_all.T]).tocsr()\n",
    "slim2 = SLIMElasticNetRecommender(stacked)\n",
    "slim2.load_model(folder_path=\"_saved_models\", file_name=\"SLIMstackedAll1\")\n",
    "bestrp3 = RP3betaRecommender(URM_all)\n",
    "bestrp3.fit(topK= 12 , alpha = 0.25843, beta= 0.357834)\n",
    "hyb1 = HybridOptunable2(URM_all)\n",
    "hyb1.fit(0.27959722573911727,slim1,slim2)\n",
    "ease1 = EASE_R_Recommender(URM_all)\n",
    "ease1.load_model(folder_path=\"_saved_models\", file_name=\"easeall\")\n",
    "hyb2 = HybridOptunable2(URM_all)\n",
    "hyb2.fit(0.18923840370620948,hyb1,bestrp3)\n",
    "hyb3 = ScoresHybridRecommender(controller.URM_train, ease1, hyb2, bestrp3, slim1, slim1)\n",
    "alpha=0.689217356\n",
    "hyb3.fit(alpha,1-alpha,0,0,0)"
   ],
   "id": "67feb2ca6879a704"
  },
  {
   "metadata": {},
   "cell_type": "code",
   "outputs": [],
   "execution_count": null,
   "source": [
    "user_recommendations_items = []\n",
    "user_recommendations_user_id = []\n",
    "\n",
    "for user_id in tqdm(range(n_users)):\n",
    "    recommendations = hyb3.recommend(user_id, cutoff = cutoff)\n",
    "    \n",
    "    user_recommendations_items.extend(recommendations)\n",
    "    user_recommendations_user_id.extend([user_id]*len(recommendations))"
   ],
   "id": "b17962933a52193a"
  },
  {
   "metadata": {},
   "cell_type": "code",
   "outputs": [],
   "execution_count": null,
   "source": [
    "test_dataframe = pd.DataFrame({\"UserID\":user_recommendations_user_id, \"ItemID\":user_recommendations_items})\n",
    "test_dataframe"
   ],
   "id": "d52aa61ad7479809"
  },
  {
   "metadata": {},
   "cell_type": "code",
   "outputs": [],
   "execution_count": null,
   "source": [
    "top_pop = TopPop(URM_all)\n",
    "top_pop.fit()\n",
    "item_cf = ItemKNNCFRecommender(URM_all)\n",
    "item_cf.fit(similarity= 'tversky', topK= 5, shrink= 19, tversky_alpha= 0.20343700501082568, tversky_beta= 1.8980319969315242)\n",
    "item_cbf = ItemKNNCBFRecommender(URM_all, ICM_all)\n",
    "item_cbf.load_model(folder_path=\"_saved_models\", file_name=\"ItemKNNCBFRecommender_all\")\n",
    "SLIM_BPR = SLIM_BPR_Cython(URM_all)\n",
    "rp3beta=bestrp3\n",
    "\n",
    "other_algorithms_all = {\n",
    "    \"top_pop\": top_pop,\n",
    "    \"item_cf\": item_cf,\n",
    "    \"item_cbf\": item_cbf,\n",
    "    \"rp3beta\": rp3beta,\n",
    "    \"SLIM_BPR\": slimbpr\n",
    "}"
   ],
   "id": "b289343bdaa807c5"
  },
  {
   "metadata": {},
   "cell_type": "code",
   "outputs": [],
   "execution_count": null,
   "source": [
    "\n",
    "test_dataframe = test_dataframe.set_index('UserID')\n",
    "\n",
    "for user_id in tqdm(range(n_users)):\n",
    "    for rec_label, rec_instance in other_algorithms_all.items():\n",
    "\n",
    "        item_list = test_dataframe.loc[user_id, \"ItemID\"].values.tolist()\n",
    "\n",
    "        all_item_scores = rec_instance._compute_item_score([user_id], items_to_compute = item_list)\n",
    "\n",
    "        test_dataframe.loc[user_id, rec_label] = all_item_scores[0, item_list]\n",
    "\n",
    "test_dataframe = test_dataframe.reset_index()\n",
    "test_dataframe = test_dataframe.rename(columns = {\"index\": \"UserID\"})\n",
    "\n",
    "\n"
   ],
   "id": "de941172d2c582d8"
  },
  {
   "metadata": {},
   "cell_type": "code",
   "outputs": [],
   "execution_count": null,
   "source": [
    "item_popularity = np.ediff1d(sps.csc_matrix(URM_all).indptr)\n",
    "test_dataframe['item_popularity'] = item_popularity[test_dataframe[\"ItemID\"].values.astype(int)]\n",
    "\n",
    "user_popularity = np.ediff1d(sps.csr_matrix(URM_all).indptr)\n",
    "test_dataframe['user_profile_len'] = user_popularity[test_dataframe[\"UserID\"].values.astype(int)]\n",
    "\n",
    "test_dataframe"
   ],
   "id": "206cd3f5d514ee1a"
  },
  {
   "metadata": {},
   "cell_type": "code",
   "outputs": [],
   "execution_count": null,
   "source": [
    "test_dataframe = test_dataframe.sort_values(\"UserID\").reset_index()\n",
    "test_dataframe.drop(columns = ['index'], inplace=True)\n",
    "\n",
    "\n",
    "test_dataframe"
   ],
   "id": "4af72a4996b55e57"
  },
  {
   "metadata": {},
   "cell_type": "code",
   "outputs": [],
   "execution_count": null,
   "source": "X = test_dataframe\n",
   "id": "31e13fcd7beafd2b"
  },
  {
   "metadata": {},
   "cell_type": "code",
   "outputs": [],
   "execution_count": null,
   "source": [
    "predictions = XGB_model.predict(X)\n",
    "predictions"
   ],
   "id": "c0824c60c1abe32"
  },
  {
   "metadata": {},
   "cell_type": "code",
   "outputs": [],
   "execution_count": null,
   "source": [
    "reranked_dataframe = test_dataframe.copy()\n",
    "reranked_dataframe['rating_xgb'] = pd.Series(predictions, index=reranked_dataframe.index)\n",
    "reranked_dataframe"
   ],
   "id": "991c1f3c160af53d"
  },
  {
   "metadata": {},
   "cell_type": "code",
   "outputs": [],
   "execution_count": null,
   "source": [
    "reranked_dataframe = reranked_dataframe.sort_values(['UserID','rating_xgb'], ascending=[True, False])\n",
    "reranked_dataframe"
   ],
   "id": "eb6d1691dc735b97"
  },
  {
   "metadata": {},
   "cell_type": "code",
   "outputs": [],
   "execution_count": null,
   "source": "write_reranked_recommendations(file_name = \"recomm\")\n",
   "id": "1eca833595a5828f"
  },
  {
   "metadata": {},
   "cell_type": "code",
   "outputs": [],
   "execution_count": null,
   "source": [
    "\n",
    "submission = pd.read_csv(\"recomm.csv\")\n",
    "submission"
   ],
   "id": "2d879bffb575c862"
  }
 ],
 "metadata": {},
 "nbformat": 5,
 "nbformat_minor": 9
}
