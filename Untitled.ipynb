{
 "cells": [
  {
   "cell_type": "code",
   "execution_count": 8,
   "id": "9a3852c6-0c31-430c-8654-b307c90f5077",
   "metadata": {},
   "outputs": [],
   "source": [
    "import numpy as np\n",
    "import pandas as pd\n",
    "import scipy.sparse as sp\n",
    "from sklearn.model_selection import train_test_split"
   ]
  },
  {
   "cell_type": "markdown",
   "id": "3ca9ebab-645b-42d6-9b52-4e499afd878e",
   "metadata": {},
   "source": [
    "DATA LOADING"
   ]
  },
  {
   "cell_type": "code",
   "execution_count": 9,
   "id": "ae754693-cc33-4d35-adaf-2c07599c7740",
   "metadata": {},
   "outputs": [],
   "source": [
    "URM = pd.read_csv(filepath_or_buffer=\"Data/data_train.csv\",\n",
    "                                sep=\",\",\n",
    "                                header=0,\n",
    "                                dtype={0:int, 1:int, 2:float},\n",
    "                                engine='python')\n",
    "URM.columns = [\"user_id\", \"item_id\", \"data\"]\n",
    "\n",
    "users = pd.read_csv(filepath_or_buffer=\"Data/data_target_users_test.csv\",\n",
    "                    header=0)\n",
    "\n",
    "ICM = pd.read_csv(filepath_or_buffer=\"Data/data_ICM_metadata.csv\",\n",
    "                  sep=\",\",\n",
    "                  header=0,\n",
    "                  dtype={0:int, 1:int, 2:float},\n",
    "                  engine='python')\n",
    "ICM.columns = [\"item_id\", \"feature_id\", \"data\"]"
   ]
  },
  {
   "cell_type": "markdown",
   "id": "638ce57f-84d9-44d0-9bf5-2ab848bd5c0f",
   "metadata": {},
   "source": [
    "DATA PREPROCESSING"
   ]
  },
  {
   "cell_type": "code",
   "execution_count": 11,
   "id": "a40f8f4b-b87a-4e62-98ef-77e1b62e18cc",
   "metadata": {},
   "outputs": [
    {
     "name": "stdout",
     "output_type": "stream",
     "text": [
      "Number of items\t 38121, Number of users\t 35736\n",
      "Max ID items\t 38120, Max Id users\t 35735\n",
      "\n",
      "Average interactions per user 49.38\n",
      "Average interactions per item 46.29\n",
      "\n",
      "Sparsity 99.87 %\n"
     ]
    }
   ],
   "source": [
    "#create new sequential indexes for users and items\n",
    "mapped_id, original_id = pd.factorize(URM[\"user_id\"].unique())\n",
    "user_original_ID_to_index = pd.Series(mapped_id, index=original_id)\n",
    "\n",
    "mapped_id, original_id = pd.factorize(URM[\"item_id\"].unique())\n",
    "item_original_ID_to_index = pd.Series(mapped_id, index=original_id)\n",
    "\n",
    "URM[\"user_id\"] = URM[\"user_id\"].map(user_original_ID_to_index)\n",
    "URM[\"item_id\"] = URM[\"item_id\"].map(item_original_ID_to_index)\n",
    "\n",
    "unique_users = URM[\"user_id\"].unique()\n",
    "unique_items = URM[\"item_id\"].unique()\n",
    "\n",
    "num_users = len(unique_users)\n",
    "num_items = len(unique_items)\n",
    "num_interactions = len(URM)\n",
    "\n",
    "print (\"Number of items\\t {}, Number of users\\t {}\".format(num_items, num_users))\n",
    "print (\"Max ID items\\t {}, Max Id users\\t {}\\n\".format(max(unique_items), max(unique_users)))\n",
    "print (\"Average interactions per user {:.2f}\".format(num_interactions/num_users))\n",
    "print (\"Average interactions per item {:.2f}\\n\".format(num_interactions/num_items))\n",
    "\n",
    "print (\"Sparsity {:.2f} %\".format((1-float(num_interactions)/(num_items*num_users))*100))"
   ]
  },
  {
   "cell_type": "markdown",
   "id": "40bf2495-fc40-4989-bdf2-b63620a84847",
   "metadata": {},
   "source": [
    "DATASET SPLITTING"
   ]
  },
  {
   "cell_type": "code",
   "execution_count": 23,
   "id": "0a69af07-ba80-4de9-b7da-52fa61128a91",
   "metadata": {},
   "outputs": [],
   "source": [
    "URM_sparse = sp.coo_matrix((URM[\"data\"].values, \n",
    "                          (URM[\"user_id\"].values, URM[\"item_id\"].values)))"
   ]
  },
  {
   "cell_type": "code",
   "execution_count": 18,
   "id": "f52bd281-a2ce-48b8-9207-adc870e4c492",
   "metadata": {},
   "outputs": [],
   "source": [
    "def dataset_splits_csr(ratings, n_users, n_items, validation_percentage: float, testing_percentage: float):\n",
    "    seed = 1234\n",
    "\n",
    "    (user_ids_training, user_ids_test,\n",
    "     item_ids_training, item_ids_test,\n",
    "     ratings_training, ratings_test) = train_test_split(ratings.user_id,\n",
    "                                                        ratings.item_id,\n",
    "                                                        ratings.data,\n",
    "                                                        test_size=testing_percentage,\n",
    "                                                        shuffle=True,\n",
    "                                                        random_state=seed)\n",
    "\n",
    "    (user_ids_training, user_ids_validation,\n",
    "     item_ids_training, item_ids_validation,\n",
    "     ratings_training, ratings_validation) = train_test_split(user_ids_training,\n",
    "                                                              item_ids_training,\n",
    "                                                              ratings_training,\n",
    "                                                              test_size=validation_percentage,\n",
    "                                                              )\n",
    "\n",
    "    urm_train = sp.csr_matrix((ratings_training, (user_ids_training, item_ids_training)),\n",
    "                              shape=(n_users, n_items))\n",
    "\n",
    "    urm_validation = sp.csr_matrix((ratings_validation, (user_ids_validation, item_ids_validation)),\n",
    "                                   shape=(n_users, n_items))\n",
    "\n",
    "    urm_test = sp.csr_matrix((ratings_test, (user_ids_test, item_ids_test)),\n",
    "                             shape=(n_users, n_items))\n",
    "\n",
    "    return urm_train, urm_validation, urm_test\n"
   ]
  },
  {
   "cell_type": "code",
   "execution_count": 24,
   "id": "ee4a94c0-07b2-4405-b250-90a0b6c7244b",
   "metadata": {},
   "outputs": [],
   "source": [
    "def dataset_splits_csc(ratings, n_users, n_items, validation_percentage: float, testing_percentage: float):\n",
    "    seed = 1234\n",
    "\n",
    "    (user_ids_training, user_ids_test,\n",
    "     item_ids_training, item_ids_test,\n",
    "     ratings_training, ratings_test) = train_test_split(ratings.user_id,\n",
    "                                                        ratings.item_id,\n",
    "                                                        ratings.data,\n",
    "                                                        test_size=testing_percentage,\n",
    "                                                        shuffle=True,\n",
    "                                                        random_state=seed)\n",
    "\n",
    "    (user_ids_training, user_ids_validation,\n",
    "     item_ids_training, item_ids_validation,\n",
    "     ratings_training, ratings_validation) = train_test_split(user_ids_training,\n",
    "                                                              item_ids_training,\n",
    "                                                              ratings_training,\n",
    "                                                              test_size=validation_percentage,\n",
    "                                                              )\n",
    "\n",
    "    urm_train = sp.csr_matrix((ratings_training, (user_ids_training, item_ids_training)),\n",
    "                              shape=(n_users, n_items))\n",
    "\n",
    "    urm_validation = sp.csr_matrix((ratings_validation, (user_ids_validation, item_ids_validation)),\n",
    "                                   shape=(n_users, n_items))\n",
    "\n",
    "    urm_test = sp.csr_matrix((ratings_test, (user_ids_test, item_ids_test)),\n",
    "                             shape=(n_users, n_items))\n",
    "\n",
    "    return urm_train, urm_validation, urm_test\n"
   ]
  },
  {
   "cell_type": "code",
   "execution_count": 25,
   "id": "01d44230-43c7-4a10-ba11-8664d902db54",
   "metadata": {},
   "outputs": [],
   "source": [
    "URM_train, URM_validation, URM_test = dataset_splits_csc(URM,\n",
    "                                                     n_users=num_users,\n",
    "                                                     n_items=num_items,\n",
    "                                                     validation_percentage=0.10,\n",
    "                                                     testing_percentage=0.20)"
   ]
  },
  {
   "cell_type": "markdown",
   "id": "ac81f60b-7b6b-41f6-87f7-48339a32c039",
   "metadata": {},
   "source": [
    "SIMILARITY MEASURE"
   ]
  },
  {
   "cell_type": "code",
   "execution_count": 26,
   "id": "82de6d34-414a-4190-8cdc-f519b8be81e3",
   "metadata": {},
   "outputs": [],
   "source": [
    "def vector_similarity(urm: sp.csc_matrix, shrink: int):\n",
    "    item_weights = np.sqrt(\n",
    "        np.sum(urm.power(2), axis=0)\n",
    "    ).A.flatten()\n",
    "\n",
    "    num_items = urm.shape[1]\n",
    "    urm_t = urm.T\n",
    "    weights = np.empty(shape=(num_items, num_items))\n",
    "    for item_id in range(num_items):\n",
    "        numerator = urm_t.dot(urm[:, item_id]).A.flatten()\n",
    "        denominator = item_weights[item_id] * item_weights + shrink + 1e-6\n",
    "\n",
    "        weights[item_id] = numerator / denominator\n",
    "\n",
    "    np.fill_diagonal(weights, 0.0)\n",
    "    return weights"
   ]
  },
  {
   "cell_type": "code",
   "execution_count": 17,
   "id": "429941ac-904d-4434-8928-a0775d9f1758",
   "metadata": {},
   "outputs": [
    {
     "ename": "AttributeError",
     "evalue": "'csc_matrix' object has no attribute 'A'",
     "output_type": "error",
     "traceback": [
      "\u001b[1;31m---------------------------------------------------------------------------\u001b[0m",
      "\u001b[1;31mAttributeError\u001b[0m                            Traceback (most recent call last)",
      "Cell \u001b[1;32mIn[17], line 1\u001b[0m\n\u001b[1;32m----> 1\u001b[0m vector_similarity(URM_train, \u001b[38;5;241m0\u001b[39m)\n",
      "Cell \u001b[1;32mIn[16], line 10\u001b[0m, in \u001b[0;36mvector_similarity\u001b[1;34m(urm, shrink)\u001b[0m\n\u001b[0;32m      8\u001b[0m weights \u001b[38;5;241m=\u001b[39m np\u001b[38;5;241m.\u001b[39mempty(shape\u001b[38;5;241m=\u001b[39m(num_items, num_items))\n\u001b[0;32m      9\u001b[0m \u001b[38;5;28;01mfor\u001b[39;00m item_id \u001b[38;5;129;01min\u001b[39;00m \u001b[38;5;28mrange\u001b[39m(num_items):\n\u001b[1;32m---> 10\u001b[0m     numerator \u001b[38;5;241m=\u001b[39m urm_t\u001b[38;5;241m.\u001b[39mdot(urm[:, item_id])\u001b[38;5;241m.\u001b[39mA\u001b[38;5;241m.\u001b[39mflatten()\n\u001b[0;32m     11\u001b[0m     denominator \u001b[38;5;241m=\u001b[39m item_weights[item_id] \u001b[38;5;241m*\u001b[39m item_weights \u001b[38;5;241m+\u001b[39m shrink \u001b[38;5;241m+\u001b[39m \u001b[38;5;241m1e-6\u001b[39m\n\u001b[0;32m     13\u001b[0m     weights[item_id] \u001b[38;5;241m=\u001b[39m numerator \u001b[38;5;241m/\u001b[39m denominator\n",
      "\u001b[1;31mAttributeError\u001b[0m: 'csc_matrix' object has no attribute 'A'"
     ]
    }
   ],
   "source": [
    "vector_similarity(URM_train, 0)"
   ]
  },
  {
   "cell_type": "code",
   "execution_count": null,
   "id": "b7c40b06-41af-4406-842d-2c9e1a502924",
   "metadata": {},
   "outputs": [],
   "source": []
  }
 ],
 "metadata": {
  "kernelspec": {
   "display_name": "Python 3 (ipykernel)",
   "language": "python",
   "name": "python3"
  },
  "language_info": {
   "codemirror_mode": {
    "name": "ipython",
    "version": 3
   },
   "file_extension": ".py",
   "mimetype": "text/x-python",
   "name": "python",
   "nbconvert_exporter": "python",
   "pygments_lexer": "ipython3",
   "version": "3.12.7"
  }
 },
 "nbformat": 4,
 "nbformat_minor": 5
}
