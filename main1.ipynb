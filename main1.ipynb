{
 "cells": [
  {
   "metadata": {},
   "cell_type": "markdown",
   "source": "Import Libraries and data",
   "id": "105e1d7ac542e140"
  },
  {
   "cell_type": "code",
   "id": "initial_id",
   "metadata": {
    "collapsed": true,
    "tags": [
     "kk"
    ],
    "ExecuteTime": {
     "end_time": "2024-11-29T01:16:56.566028Z",
     "start_time": "2024-11-29T01:16:24.031984Z"
    }
   },
   "source": [
    "import importlib\n",
    "\n",
    "import optuna\n",
    "from scipy.sparse import csr_matrix\n",
    "from sklearn.ensemble import RandomForestRegressor\n",
    "import matplotlib.pyplot as plt\n",
    "from Optimize.SaveResults import SaveResults\n",
    "from Optimize.slim import objective_function_SLIM\n",
    "from Recommenders.EASE_R.EASE_R_Recommender import EASE_R_Recommender\n",
    "from Recommenders.GraphBased.RP3betaRecommender import RP3betaRecommender\n",
    "from Recommenders.KNN.ItemKNNCFRecommender import ItemKNNCFRecommender\n",
    "import pandas as pd\n",
    "import scipy.sparse as sps\n",
    "from Evaluation.Evaluator import EvaluatorHoldout\n",
    "from Data_manager.split_functions.split_train_validation_random_holdout import split_train_in_two_percentage_global_sample\n",
    "from Data_manager.Movielens.Movielens1MReader import Movielens1MReader\n",
    "from Recommenders.KNN.ItemKNN_CFCBF_Hybrid_Recommender import ItemKNN_CFCBF_Hybrid_Recommender\n",
    "from Recommenders.KNN.UserKNNCFRecommender import UserKNNCFRecommender\n",
    "from Recommenders.MatrixFactorization.Cython.MatrixFactorization_Cython import MatrixFactorization_SVDpp_Cython\n",
    "from Recommenders.SLIM.Cython.SLIM_BPR_Cython import SLIM_BPR_Cython\n",
    "import Optimize\n",
    "from Recommenders.SLIM.SLIMElasticNetRecommender import SLIMElasticNetRecommender\n",
    "\n",
    "# Press Maiusc+F10 to execute it or replace it with your code.\n",
    "# Press Double Shift to search everywhere for classes, files, tool windows, actions, and settings.\n",
    "\n",
    "\n",
    "URM_all_dataframe = pd.read_csv(filepath_or_buffer=\"Data/data_train.csv\",\n",
    "                                sep=\",\",\n",
    "                                dtype={0:int, 1:int, 2:float},\n",
    "                                engine='python')\n",
    "users = pd.read_csv(filepath_or_buffer=\"Data/data_target_users_test.csv\")\n",
    "\n",
    "ICM = pd.read_csv(filepath_or_buffer=\"Data/data_ICM_metadata.csv\",\n",
    "                                sep=\",\",\n",
    "                                dtype={0:int, 1:int, 2:float},\n",
    "                                engine='python')\n",
    "\n",
    "\n",
    "\n",
    "\n",
    "n_interactions = len(URM_all_dataframe)\n",
    "mapped_id, original_id = pd.factorize(URM_all_dataframe[\"user_id\"].unique())\n",
    "user_original_ID_to_index = pd.Series(mapped_id, index=original_id)\n",
    "mapped_id, original_id = pd.factorize(URM_all_dataframe[\"item_id\"].unique())\n",
    "item_original_ID_to_index = pd.Series(mapped_id, index=original_id)\n",
    "print(URM_all_dataframe['item_id'].max())\n",
    "print(URM_all_dataframe.head(4))\n",
    "#URM_all_dataframe[\"user_id\"] = URM_all_dataframe[\"user_id\"].map(user_original_ID_to_index)\n",
    "#URM_all_dataframe[\"item_id\"] = URM_all_dataframe[\"item_id\"].map(item_original_ID_to_index)\n",
    "print(URM_all_dataframe['item_id'].max())\n",
    "print(URM_all_dataframe.head(4))\n",
    "userID_unique = URM_all_dataframe[\"user_id\"].unique()\n",
    "itemID_unique = URM_all_dataframe[\"item_id\"].unique()\n",
    "n_users = len(userID_unique)\n",
    "n_items = len(itemID_unique)\n",
    "print(n_users, n_items)\n",
    "URM_all = sps.coo_matrix((URM_all_dataframe[\"data\"].values,\n",
    "                          (URM_all_dataframe[\"user_id\"].values, URM_all_dataframe[\"item_id\"].values)))\n",
    "n_items = ICM[\"item_id\"].max() + 1\n",
    "n_features = ICM[\"feature_id\"].max() + 1\n",
    "ICM_all = sps.coo_matrix((ICM[\"data\"].values, (ICM[\"item_id\"].values, ICM[\"feature_id\"].values)) , shape=(n_items, n_features))\n",
    "\n",
    "URM_all.tocsr()\n",
    "ICM_all.tocsr()\n",
    "\n",
    "URM_trainval, URM_test = split_train_in_two_percentage_global_sample(URM_all, train_percentage = 0.8)\n",
    "URM_train, URM_validation = split_train_in_two_percentage_global_sample(URM_trainval, train_percentage = 0.8)\n"
   ],
   "outputs": [
    {
     "name": "stdout",
     "output_type": "stream",
     "text": [
      "38120\n",
      "   user_id  item_id  data\n",
      "0        0        0   1.0\n",
      "1        0        2   1.0\n",
      "2        0      120   1.0\n",
      "3        0      128   1.0\n",
      "38120\n",
      "   user_id  item_id  data\n",
      "0        0        0   1.0\n",
      "1        0        2   1.0\n",
      "2        0      120   1.0\n",
      "3        0      128   1.0\n",
      "35736 38121\n",
      "Warning: 144 (0.40 %) of 35736 users have no sampled items\n",
      "Warning: 457 (1.28 %) of 35736 users have no sampled items\n"
     ]
    }
   ],
   "execution_count": 3
  },
  {
   "metadata": {},
   "cell_type": "markdown",
   "source": "",
   "id": "809e841652986ac"
  },
  {
   "metadata": {},
   "cell_type": "markdown",
   "source": "",
   "id": "d61125d99a802940"
  },
  {
   "metadata": {
    "ExecuteTime": {
     "end_time": "2024-11-29T02:53:07.632204Z",
     "start_time": "2024-11-29T01:16:56.578031Z"
    }
   },
   "cell_type": "code",
   "source": [
    "slimrec = SLIMElasticNetRecommender(URM_trainval)\n",
    "slimrec.fit(alpha= 0.0002021210695683939, topK= 856, l1_ratio= 0.23722934371355184)"
   ],
   "id": "8cd55fb6cdf5a7c7",
   "outputs": [
    {
     "name": "stdout",
     "output_type": "stream",
     "text": [
      "SLIMElasticNetRecommender: Processed 1910 ( 5.0%) in 5.00 min. Items per second: 6.36\n",
      "SLIMElasticNetRecommender: Processed 3876 (10.2%) in 10.00 min. Items per second: 6.46\n",
      "SLIMElasticNetRecommender: Processed 5839 (15.3%) in 15.00 min. Items per second: 6.49\n",
      "SLIMElasticNetRecommender: Processed 7814 (20.5%) in 20.00 min. Items per second: 6.51\n",
      "SLIMElasticNetRecommender: Processed 9785 (25.7%) in 25.01 min. Items per second: 6.52\n",
      "SLIMElasticNetRecommender: Processed 11734 (30.8%) in 30.01 min. Items per second: 6.52\n",
      "SLIMElasticNetRecommender: Processed 13744 (36.1%) in 35.01 min. Items per second: 6.54\n",
      "SLIMElasticNetRecommender: Processed 15763 (41.3%) in 40.01 min. Items per second: 6.57\n",
      "SLIMElasticNetRecommender: Processed 17734 (46.5%) in 45.01 min. Items per second: 6.57\n",
      "SLIMElasticNetRecommender: Processed 19740 (51.8%) in 50.01 min. Items per second: 6.58\n",
      "SLIMElasticNetRecommender: Processed 21764 (57.1%) in 55.02 min. Items per second: 6.59\n",
      "SLIMElasticNetRecommender: Processed 23780 (62.4%) in 1.00 hour. Items per second: 6.60\n",
      "SLIMElasticNetRecommender: Processed 25824 (67.7%) in 1.08 hour. Items per second: 6.62\n",
      "SLIMElasticNetRecommender: Processed 27802 (72.9%) in 1.17 hour. Items per second: 6.62\n",
      "SLIMElasticNetRecommender: Processed 29785 (78.1%) in 1.25 hour. Items per second: 6.62\n",
      "SLIMElasticNetRecommender: Processed 31756 (83.3%) in 1.33 hour. Items per second: 6.61\n",
      "SLIMElasticNetRecommender: Processed 33706 (88.4%) in 1.42 hour. Items per second: 6.61\n",
      "SLIMElasticNetRecommender: Processed 35726 (93.7%) in 1.50 hour. Items per second: 6.61\n",
      "SLIMElasticNetRecommender: Processed 37685 (98.9%) in 1.58 hour. Items per second: 6.61\n",
      "SLIMElasticNetRecommender: Processed 38121 (100.0%) in 1.60 hour. Items per second: 6.61\n"
     ]
    }
   ],
   "execution_count": 4
  },
  {
   "metadata": {},
   "cell_type": "markdown",
   "source": "",
   "id": "45db684883ff12c0"
  },
  {
   "metadata": {
    "ExecuteTime": {
     "end_time": "2024-11-29T02:53:44.012147Z",
     "start_time": "2024-11-29T02:53:07.711514Z"
    }
   },
   "cell_type": "code",
   "source": [
    "from Recommenders.ScoresHybridRecommender import ScoresHybridRecommender\n",
    "evaluator_validation = EvaluatorHoldout(URM_test, cutoff_list=[10])\n",
    "\n",
    "result_df, _ = evaluator_validation.evaluateRecommender(slimrec)"
   ],
   "id": "c727a986ed8f32f5",
   "outputs": [
    {
     "name": "stdout",
     "output_type": "stream",
     "text": [
      "EvaluatorHoldout: Ignoring 144 ( 0.4%) Users that have less than 1 test interactions\n",
      "EvaluatorHoldout: Processed 35592 (100.0%) in 36.23 sec. Users per second: 982\n"
     ]
    }
   ],
   "execution_count": 5
  },
  {
   "metadata": {
    "ExecuteTime": {
     "end_time": "2024-11-29T02:53:44.073534Z",
     "start_time": "2024-11-29T02:53:44.046922Z"
    }
   },
   "cell_type": "code",
   "source": "result_df",
   "id": "7d672c281fa5f1a6",
   "outputs": [
    {
     "data": {
      "text/plain": [
       "       PRECISION PRECISION_RECALL_MIN_DEN    RECALL       MAP MAP_MIN_DEN  \\\n",
       "cutoff                                                                      \n",
       "10      0.111241                 0.166205  0.141262  0.060819    0.088535   \n",
       "\n",
       "             MRR      NDCG        F1  HIT_RATE ARHR_ALL_HITS  ...  \\\n",
       "cutoff                                                        ...   \n",
       "10      0.311383  0.163484  0.124467  0.572151       0.42726  ...   \n",
       "\n",
       "       COVERAGE_USER COVERAGE_USER_HIT USERS_IN_GT DIVERSITY_GINI  \\\n",
       "cutoff                                                              \n",
       "10           0.99597          0.569846     0.99597        0.23461   \n",
       "\n",
       "       SHANNON_ENTROPY RATIO_DIVERSITY_HERFINDAHL RATIO_DIVERSITY_GINI  \\\n",
       "cutoff                                                                   \n",
       "10           13.409933                   0.999863             0.385652   \n",
       "\n",
       "       RATIO_SHANNON_ENTROPY RATIO_AVERAGE_POPULARITY RATIO_NOVELTY  \n",
       "cutoff                                                               \n",
       "10                  0.908413                 1.396552      0.243511  \n",
       "\n",
       "[1 rows x 27 columns]"
      ],
      "text/html": [
       "<div>\n",
       "<style scoped>\n",
       "    .dataframe tbody tr th:only-of-type {\n",
       "        vertical-align: middle;\n",
       "    }\n",
       "\n",
       "    .dataframe tbody tr th {\n",
       "        vertical-align: top;\n",
       "    }\n",
       "\n",
       "    .dataframe thead th {\n",
       "        text-align: right;\n",
       "    }\n",
       "</style>\n",
       "<table border=\"1\" class=\"dataframe\">\n",
       "  <thead>\n",
       "    <tr style=\"text-align: right;\">\n",
       "      <th></th>\n",
       "      <th>PRECISION</th>\n",
       "      <th>PRECISION_RECALL_MIN_DEN</th>\n",
       "      <th>RECALL</th>\n",
       "      <th>MAP</th>\n",
       "      <th>MAP_MIN_DEN</th>\n",
       "      <th>MRR</th>\n",
       "      <th>NDCG</th>\n",
       "      <th>F1</th>\n",
       "      <th>HIT_RATE</th>\n",
       "      <th>ARHR_ALL_HITS</th>\n",
       "      <th>...</th>\n",
       "      <th>COVERAGE_USER</th>\n",
       "      <th>COVERAGE_USER_HIT</th>\n",
       "      <th>USERS_IN_GT</th>\n",
       "      <th>DIVERSITY_GINI</th>\n",
       "      <th>SHANNON_ENTROPY</th>\n",
       "      <th>RATIO_DIVERSITY_HERFINDAHL</th>\n",
       "      <th>RATIO_DIVERSITY_GINI</th>\n",
       "      <th>RATIO_SHANNON_ENTROPY</th>\n",
       "      <th>RATIO_AVERAGE_POPULARITY</th>\n",
       "      <th>RATIO_NOVELTY</th>\n",
       "    </tr>\n",
       "    <tr>\n",
       "      <th>cutoff</th>\n",
       "      <th></th>\n",
       "      <th></th>\n",
       "      <th></th>\n",
       "      <th></th>\n",
       "      <th></th>\n",
       "      <th></th>\n",
       "      <th></th>\n",
       "      <th></th>\n",
       "      <th></th>\n",
       "      <th></th>\n",
       "      <th></th>\n",
       "      <th></th>\n",
       "      <th></th>\n",
       "      <th></th>\n",
       "      <th></th>\n",
       "      <th></th>\n",
       "      <th></th>\n",
       "      <th></th>\n",
       "      <th></th>\n",
       "      <th></th>\n",
       "      <th></th>\n",
       "    </tr>\n",
       "  </thead>\n",
       "  <tbody>\n",
       "    <tr>\n",
       "      <th>10</th>\n",
       "      <td>0.111241</td>\n",
       "      <td>0.166205</td>\n",
       "      <td>0.141262</td>\n",
       "      <td>0.060819</td>\n",
       "      <td>0.088535</td>\n",
       "      <td>0.311383</td>\n",
       "      <td>0.163484</td>\n",
       "      <td>0.124467</td>\n",
       "      <td>0.572151</td>\n",
       "      <td>0.42726</td>\n",
       "      <td>...</td>\n",
       "      <td>0.99597</td>\n",
       "      <td>0.569846</td>\n",
       "      <td>0.99597</td>\n",
       "      <td>0.23461</td>\n",
       "      <td>13.409933</td>\n",
       "      <td>0.999863</td>\n",
       "      <td>0.385652</td>\n",
       "      <td>0.908413</td>\n",
       "      <td>1.396552</td>\n",
       "      <td>0.243511</td>\n",
       "    </tr>\n",
       "  </tbody>\n",
       "</table>\n",
       "<p>1 rows × 27 columns</p>\n",
       "</div>"
      ]
     },
     "execution_count": 6,
     "metadata": {},
     "output_type": "execute_result"
    }
   ],
   "execution_count": 6
  },
  {
   "metadata": {
    "ExecuteTime": {
     "end_time": "2024-11-29T02:54:05.023636Z",
     "start_time": "2024-11-29T02:53:44.128974Z"
    }
   },
   "cell_type": "code",
   "source": [
    "graphrec = RP3betaRecommender(URM_trainval)\n",
    "graphrec.fit(topK= 12, alpha= 0.5769111396825488, beta= 0.0019321798490027353)"
   ],
   "id": "d31dbdf76a9a38a9",
   "outputs": [
    {
     "name": "stdout",
     "output_type": "stream",
     "text": [
      "RP3betaRecommender: Similarity column 38121 (100.0%), 1926.07 column/sec. Elapsed time 19.79 sec\n"
     ]
    }
   ],
   "execution_count": 7
  },
  {
   "metadata": {},
   "cell_type": "markdown",
   "source": "",
   "id": "153c02b790207e0d"
  },
  {
   "metadata": {
    "ExecuteTime": {
     "end_time": "2024-11-29T02:54:33.419072Z",
     "start_time": "2024-11-29T02:54:05.087269Z"
    }
   },
   "cell_type": "code",
   "source": [
    "from Recommenders.ScoresHybridRecommender import ScoresHybridRecommender\n",
    "evaluator_validation = EvaluatorHoldout(URM_test, cutoff_list=[10])\n",
    "\n",
    "result_df, _ = evaluator_validation.evaluateRecommender(graphrec)"
   ],
   "id": "148c02f7de57f41e",
   "outputs": [
    {
     "name": "stdout",
     "output_type": "stream",
     "text": [
      "EvaluatorHoldout: Ignoring 144 ( 0.4%) Users that have less than 1 test interactions\n",
      "EvaluatorHoldout: Processed 35592 (100.0%) in 28.28 sec. Users per second: 1259\n"
     ]
    }
   ],
   "execution_count": 8
  },
  {
   "metadata": {
    "ExecuteTime": {
     "end_time": "2024-11-29T02:54:33.512385Z",
     "start_time": "2024-11-29T02:54:33.484770Z"
    }
   },
   "cell_type": "code",
   "source": "result_df",
   "id": "6df246104aa89cd5",
   "outputs": [
    {
     "data": {
      "text/plain": [
       "       PRECISION PRECISION_RECALL_MIN_DEN    RECALL       MAP MAP_MIN_DEN  \\\n",
       "cutoff                                                                      \n",
       "10      0.100981                 0.151249  0.128961  0.054017    0.078881   \n",
       "\n",
       "            MRR      NDCG        F1  HIT_RATE ARHR_ALL_HITS  ...  \\\n",
       "cutoff                                                       ...   \n",
       "10      0.28777  0.148373  0.113268  0.540599      0.387601  ...   \n",
       "\n",
       "       COVERAGE_USER COVERAGE_USER_HIT USERS_IN_GT DIVERSITY_GINI  \\\n",
       "cutoff                                                              \n",
       "10           0.99597          0.538421     0.99597       0.216638   \n",
       "\n",
       "       SHANNON_ENTROPY RATIO_DIVERSITY_HERFINDAHL RATIO_DIVERSITY_GINI  \\\n",
       "cutoff                                                                   \n",
       "10           13.306463                   0.999852             0.356111   \n",
       "\n",
       "       RATIO_SHANNON_ENTROPY RATIO_AVERAGE_POPULARITY RATIO_NOVELTY  \n",
       "cutoff                                                               \n",
       "10                  0.901404                 1.339414       0.24397  \n",
       "\n",
       "[1 rows x 27 columns]"
      ],
      "text/html": [
       "<div>\n",
       "<style scoped>\n",
       "    .dataframe tbody tr th:only-of-type {\n",
       "        vertical-align: middle;\n",
       "    }\n",
       "\n",
       "    .dataframe tbody tr th {\n",
       "        vertical-align: top;\n",
       "    }\n",
       "\n",
       "    .dataframe thead th {\n",
       "        text-align: right;\n",
       "    }\n",
       "</style>\n",
       "<table border=\"1\" class=\"dataframe\">\n",
       "  <thead>\n",
       "    <tr style=\"text-align: right;\">\n",
       "      <th></th>\n",
       "      <th>PRECISION</th>\n",
       "      <th>PRECISION_RECALL_MIN_DEN</th>\n",
       "      <th>RECALL</th>\n",
       "      <th>MAP</th>\n",
       "      <th>MAP_MIN_DEN</th>\n",
       "      <th>MRR</th>\n",
       "      <th>NDCG</th>\n",
       "      <th>F1</th>\n",
       "      <th>HIT_RATE</th>\n",
       "      <th>ARHR_ALL_HITS</th>\n",
       "      <th>...</th>\n",
       "      <th>COVERAGE_USER</th>\n",
       "      <th>COVERAGE_USER_HIT</th>\n",
       "      <th>USERS_IN_GT</th>\n",
       "      <th>DIVERSITY_GINI</th>\n",
       "      <th>SHANNON_ENTROPY</th>\n",
       "      <th>RATIO_DIVERSITY_HERFINDAHL</th>\n",
       "      <th>RATIO_DIVERSITY_GINI</th>\n",
       "      <th>RATIO_SHANNON_ENTROPY</th>\n",
       "      <th>RATIO_AVERAGE_POPULARITY</th>\n",
       "      <th>RATIO_NOVELTY</th>\n",
       "    </tr>\n",
       "    <tr>\n",
       "      <th>cutoff</th>\n",
       "      <th></th>\n",
       "      <th></th>\n",
       "      <th></th>\n",
       "      <th></th>\n",
       "      <th></th>\n",
       "      <th></th>\n",
       "      <th></th>\n",
       "      <th></th>\n",
       "      <th></th>\n",
       "      <th></th>\n",
       "      <th></th>\n",
       "      <th></th>\n",
       "      <th></th>\n",
       "      <th></th>\n",
       "      <th></th>\n",
       "      <th></th>\n",
       "      <th></th>\n",
       "      <th></th>\n",
       "      <th></th>\n",
       "      <th></th>\n",
       "      <th></th>\n",
       "    </tr>\n",
       "  </thead>\n",
       "  <tbody>\n",
       "    <tr>\n",
       "      <th>10</th>\n",
       "      <td>0.100981</td>\n",
       "      <td>0.151249</td>\n",
       "      <td>0.128961</td>\n",
       "      <td>0.054017</td>\n",
       "      <td>0.078881</td>\n",
       "      <td>0.28777</td>\n",
       "      <td>0.148373</td>\n",
       "      <td>0.113268</td>\n",
       "      <td>0.540599</td>\n",
       "      <td>0.387601</td>\n",
       "      <td>...</td>\n",
       "      <td>0.99597</td>\n",
       "      <td>0.538421</td>\n",
       "      <td>0.99597</td>\n",
       "      <td>0.216638</td>\n",
       "      <td>13.306463</td>\n",
       "      <td>0.999852</td>\n",
       "      <td>0.356111</td>\n",
       "      <td>0.901404</td>\n",
       "      <td>1.339414</td>\n",
       "      <td>0.24397</td>\n",
       "    </tr>\n",
       "  </tbody>\n",
       "</table>\n",
       "<p>1 rows × 27 columns</p>\n",
       "</div>"
      ]
     },
     "execution_count": 9,
     "metadata": {},
     "output_type": "execute_result"
    }
   ],
   "execution_count": 9
  },
  {
   "metadata": {
    "ExecuteTime": {
     "end_time": "2024-11-29T02:54:53.496742Z",
     "start_time": "2024-11-29T02:54:33.608951Z"
    }
   },
   "cell_type": "code",
   "source": [
    "from Recommenders.KNN.ItemKNNCFRecommender import ItemKNNCFRecommender\n",
    "itemKnncf = ItemKNNCFRecommender(URM_trainval)\n",
    "itemKnncf.fit(similarity= \"cosine\", topK= 8, shrink= 12)"
   ],
   "id": "ca0f1e6fc1d2c79e",
   "outputs": [
    {
     "name": "stdout",
     "output_type": "stream",
     "text": [
      "Cython module imported successfully.\n",
      "Similarity column 38121 (100.0%), 1939.46 column/sec. Elapsed time 19.66 sec\n"
     ]
    }
   ],
   "execution_count": 10
  },
  {
   "metadata": {
    "ExecuteTime": {
     "end_time": "2024-11-29T02:55:22.691637Z",
     "start_time": "2024-11-29T02:54:53.593221Z"
    }
   },
   "cell_type": "code",
   "source": [
    "evaluator_validation = EvaluatorHoldout(URM_test, cutoff_list=[10])\n",
    "\n",
    "result_df, _ = evaluator_validation.evaluateRecommender(graphrec)\n",
    "result_df"
   ],
   "id": "f92796f756cd7293",
   "outputs": [
    {
     "name": "stdout",
     "output_type": "stream",
     "text": [
      "EvaluatorHoldout: Ignoring 144 ( 0.4%) Users that have less than 1 test interactions\n",
      "EvaluatorHoldout: Processed 35592 (100.0%) in 29.02 sec. Users per second: 1226\n"
     ]
    },
    {
     "data": {
      "text/plain": [
       "       PRECISION PRECISION_RECALL_MIN_DEN    RECALL       MAP MAP_MIN_DEN  \\\n",
       "cutoff                                                                      \n",
       "10      0.100981                 0.151249  0.128961  0.054017    0.078881   \n",
       "\n",
       "            MRR      NDCG        F1  HIT_RATE ARHR_ALL_HITS  ...  \\\n",
       "cutoff                                                       ...   \n",
       "10      0.28777  0.148373  0.113268  0.540599      0.387601  ...   \n",
       "\n",
       "       COVERAGE_USER COVERAGE_USER_HIT USERS_IN_GT DIVERSITY_GINI  \\\n",
       "cutoff                                                              \n",
       "10           0.99597          0.538421     0.99597       0.216638   \n",
       "\n",
       "       SHANNON_ENTROPY RATIO_DIVERSITY_HERFINDAHL RATIO_DIVERSITY_GINI  \\\n",
       "cutoff                                                                   \n",
       "10           13.306463                   0.999852             0.356111   \n",
       "\n",
       "       RATIO_SHANNON_ENTROPY RATIO_AVERAGE_POPULARITY RATIO_NOVELTY  \n",
       "cutoff                                                               \n",
       "10                  0.901404                 1.339414       0.24397  \n",
       "\n",
       "[1 rows x 27 columns]"
      ],
      "text/html": [
       "<div>\n",
       "<style scoped>\n",
       "    .dataframe tbody tr th:only-of-type {\n",
       "        vertical-align: middle;\n",
       "    }\n",
       "\n",
       "    .dataframe tbody tr th {\n",
       "        vertical-align: top;\n",
       "    }\n",
       "\n",
       "    .dataframe thead th {\n",
       "        text-align: right;\n",
       "    }\n",
       "</style>\n",
       "<table border=\"1\" class=\"dataframe\">\n",
       "  <thead>\n",
       "    <tr style=\"text-align: right;\">\n",
       "      <th></th>\n",
       "      <th>PRECISION</th>\n",
       "      <th>PRECISION_RECALL_MIN_DEN</th>\n",
       "      <th>RECALL</th>\n",
       "      <th>MAP</th>\n",
       "      <th>MAP_MIN_DEN</th>\n",
       "      <th>MRR</th>\n",
       "      <th>NDCG</th>\n",
       "      <th>F1</th>\n",
       "      <th>HIT_RATE</th>\n",
       "      <th>ARHR_ALL_HITS</th>\n",
       "      <th>...</th>\n",
       "      <th>COVERAGE_USER</th>\n",
       "      <th>COVERAGE_USER_HIT</th>\n",
       "      <th>USERS_IN_GT</th>\n",
       "      <th>DIVERSITY_GINI</th>\n",
       "      <th>SHANNON_ENTROPY</th>\n",
       "      <th>RATIO_DIVERSITY_HERFINDAHL</th>\n",
       "      <th>RATIO_DIVERSITY_GINI</th>\n",
       "      <th>RATIO_SHANNON_ENTROPY</th>\n",
       "      <th>RATIO_AVERAGE_POPULARITY</th>\n",
       "      <th>RATIO_NOVELTY</th>\n",
       "    </tr>\n",
       "    <tr>\n",
       "      <th>cutoff</th>\n",
       "      <th></th>\n",
       "      <th></th>\n",
       "      <th></th>\n",
       "      <th></th>\n",
       "      <th></th>\n",
       "      <th></th>\n",
       "      <th></th>\n",
       "      <th></th>\n",
       "      <th></th>\n",
       "      <th></th>\n",
       "      <th></th>\n",
       "      <th></th>\n",
       "      <th></th>\n",
       "      <th></th>\n",
       "      <th></th>\n",
       "      <th></th>\n",
       "      <th></th>\n",
       "      <th></th>\n",
       "      <th></th>\n",
       "      <th></th>\n",
       "      <th></th>\n",
       "    </tr>\n",
       "  </thead>\n",
       "  <tbody>\n",
       "    <tr>\n",
       "      <th>10</th>\n",
       "      <td>0.100981</td>\n",
       "      <td>0.151249</td>\n",
       "      <td>0.128961</td>\n",
       "      <td>0.054017</td>\n",
       "      <td>0.078881</td>\n",
       "      <td>0.28777</td>\n",
       "      <td>0.148373</td>\n",
       "      <td>0.113268</td>\n",
       "      <td>0.540599</td>\n",
       "      <td>0.387601</td>\n",
       "      <td>...</td>\n",
       "      <td>0.99597</td>\n",
       "      <td>0.538421</td>\n",
       "      <td>0.99597</td>\n",
       "      <td>0.216638</td>\n",
       "      <td>13.306463</td>\n",
       "      <td>0.999852</td>\n",
       "      <td>0.356111</td>\n",
       "      <td>0.901404</td>\n",
       "      <td>1.339414</td>\n",
       "      <td>0.24397</td>\n",
       "    </tr>\n",
       "  </tbody>\n",
       "</table>\n",
       "<p>1 rows × 27 columns</p>\n",
       "</div>"
      ]
     },
     "execution_count": 11,
     "metadata": {},
     "output_type": "execute_result"
    }
   ],
   "execution_count": 11
  },
  {
   "metadata": {
    "ExecuteTime": {
     "end_time": "2024-11-29T02:55:22.769480Z",
     "start_time": "2024-11-29T02:55:22.755643Z"
    }
   },
   "cell_type": "code",
   "source": "type(graphrec.W_sparse)",
   "id": "b552f294a821a722",
   "outputs": [
    {
     "data": {
      "text/plain": [
       "scipy.sparse.csr.csr_matrix"
      ]
     },
     "execution_count": 12,
     "metadata": {},
     "output_type": "execute_result"
    }
   ],
   "execution_count": 12
  },
  {
   "metadata": {
    "ExecuteTime": {
     "end_time": "2024-11-29T02:55:22.861884Z",
     "start_time": "2024-11-29T02:55:22.851825Z"
    }
   },
   "cell_type": "code",
   "source": "type(slimrec.W_sparse)",
   "id": "2cba4fdb7404d31e",
   "outputs": [
    {
     "data": {
      "text/plain": [
       "scipy.sparse.csr.csr_matrix"
      ]
     },
     "execution_count": 13,
     "metadata": {},
     "output_type": "execute_result"
    }
   ],
   "execution_count": 13
  },
  {
   "metadata": {},
   "cell_type": "markdown",
   "source": "",
   "id": "f7884b1060b03674"
  },
  {
   "metadata": {
    "ExecuteTime": {
     "end_time": "2024-11-29T02:55:23.016848Z",
     "start_time": "2024-11-29T02:55:22.986456Z"
    }
   },
   "cell_type": "code",
   "source": [
    "from Recommenders.HybridOptunable2 import HybridOptunable2\n",
    "\n",
    "\n",
    "def  obj_hybrid(optuna_trial):\n",
    "    print(\"helloworld\")\n",
    "    alpha = optuna_trial.suggest_float(\"alpha\", 0.1, 0.9)\n",
    "    recommender_object = HybridOptunable2(URM_trainval)\n",
    "    recommender_object.fit(alpha,itemKnncf, slimrec)\n",
    "    result_df, _ = evaluator_validation.evaluateRecommender(recommender_object)\n",
    "    return result_df.loc[10][ \"MAP\"]\n"
   ],
   "id": "e6f5a308d6d4b5b2",
   "outputs": [],
   "execution_count": 14
  },
  {
   "metadata": {
    "ExecuteTime": {
     "end_time": "2024-11-29T03:25:25.352025Z",
     "start_time": "2024-11-29T02:55:23.219859Z"
    }
   },
   "cell_type": "code",
   "source": [
    "study = optuna.create_study(direction=\"maximize\")\n",
    "save_results = SaveResults()\n",
    "study.optimize(obj_hybrid, callbacks= [save_results], n_trials=50)"
   ],
   "id": "ee9c8a2a1dc10444",
   "outputs": [
    {
     "name": "stderr",
     "output_type": "stream",
     "text": [
      "[I 2024-11-29 03:55:23,222] A new study created in memory with name: no-name-3d05aac2-1414-4a99-9a91-15326f98c42f\n"
     ]
    },
    {
     "name": "stdout",
     "output_type": "stream",
     "text": [
      "helloworld\n",
      "EvaluatorHoldout: Processed 35592 (100.0%) in 36.84 sec. Users per second: 966\n"
     ]
    },
    {
     "name": "stderr",
     "output_type": "stream",
     "text": [
      "[I 2024-11-29 03:56:00,227] Trial 0 finished with value: 0.06056660672810184 and parameters: {'alpha': 0.8081014129940781}. Best is trial 0 with value: 0.06056660672810184.\n"
     ]
    },
    {
     "name": "stdout",
     "output_type": "stream",
     "text": [
      "helloworld\n",
      "EvaluatorHoldout: Processed 35592 (100.0%) in 36.01 sec. Users per second: 988\n"
     ]
    },
    {
     "name": "stderr",
     "output_type": "stream",
     "text": [
      "[I 2024-11-29 03:56:36,377] Trial 1 finished with value: 0.05981677820412446 and parameters: {'alpha': 0.7300433839234144}. Best is trial 0 with value: 0.06056660672810184.\n"
     ]
    },
    {
     "name": "stdout",
     "output_type": "stream",
     "text": [
      "helloworld\n",
      "EvaluatorHoldout: Processed 35592 (100.0%) in 35.79 sec. Users per second: 995\n"
     ]
    },
    {
     "name": "stderr",
     "output_type": "stream",
     "text": [
      "[I 2024-11-29 03:57:12,335] Trial 2 finished with value: 0.052678747587292615 and parameters: {'alpha': 0.16772653005704552}. Best is trial 0 with value: 0.06056660672810184.\n"
     ]
    },
    {
     "name": "stdout",
     "output_type": "stream",
     "text": [
      "helloworld\n",
      "EvaluatorHoldout: Processed 35592 (100.0%) in 35.91 sec. Users per second: 991\n"
     ]
    },
    {
     "name": "stderr",
     "output_type": "stream",
     "text": [
      "[I 2024-11-29 03:57:48,410] Trial 3 finished with value: 0.06087911230274498 and parameters: {'alpha': 0.8496357706136494}. Best is trial 3 with value: 0.06087911230274498.\n"
     ]
    },
    {
     "name": "stdout",
     "output_type": "stream",
     "text": [
      "helloworld\n",
      "EvaluatorHoldout: Processed 35592 (100.0%) in 35.65 sec. Users per second: 998\n"
     ]
    },
    {
     "name": "stderr",
     "output_type": "stream",
     "text": [
      "[I 2024-11-29 03:58:24,193] Trial 4 finished with value: 0.05492674695936472 and parameters: {'alpha': 0.35515942096575825}. Best is trial 3 with value: 0.06087911230274498.\n"
     ]
    },
    {
     "name": "stdout",
     "output_type": "stream",
     "text": [
      "helloworld\n",
      "EvaluatorHoldout: Processed 35592 (100.0%) in 36.35 sec. Users per second: 979\n"
     ]
    },
    {
     "name": "stderr",
     "output_type": "stream",
     "text": [
      "[I 2024-11-29 03:59:00,678] Trial 5 finished with value: 0.055877189050863696 and parameters: {'alpha': 0.43499638193996293}. Best is trial 3 with value: 0.06087911230274498.\n"
     ]
    },
    {
     "name": "stdout",
     "output_type": "stream",
     "text": [
      "helloworld\n",
      "EvaluatorHoldout: Processed 35592 (100.0%) in 36.44 sec. Users per second: 977\n"
     ]
    },
    {
     "name": "stderr",
     "output_type": "stream",
     "text": [
      "[I 2024-11-29 03:59:37,297] Trial 6 finished with value: 0.052437178231596396 and parameters: {'alpha': 0.1429954365090672}. Best is trial 3 with value: 0.06087911230274498.\n"
     ]
    },
    {
     "name": "stdout",
     "output_type": "stream",
     "text": [
      "helloworld\n",
      "EvaluatorHoldout: Processed 35592 (100.0%) in 35.96 sec. Users per second: 990\n"
     ]
    },
    {
     "name": "stderr",
     "output_type": "stream",
     "text": [
      "[I 2024-11-29 04:00:13,413] Trial 7 finished with value: 0.052829400088121994 and parameters: {'alpha': 0.18292871830301236}. Best is trial 3 with value: 0.06087911230274498.\n"
     ]
    },
    {
     "name": "stdout",
     "output_type": "stream",
     "text": [
      "helloworld\n",
      "EvaluatorHoldout: Processed 35592 (100.0%) in 36.55 sec. Users per second: 974\n"
     ]
    },
    {
     "name": "stderr",
     "output_type": "stream",
     "text": [
      "[I 2024-11-29 04:00:50,110] Trial 8 finished with value: 0.05985033086621731 and parameters: {'alpha': 0.7338898222821645}. Best is trial 3 with value: 0.06087911230274498.\n"
     ]
    },
    {
     "name": "stdout",
     "output_type": "stream",
     "text": [
      "helloworld\n",
      "EvaluatorHoldout: Processed 35592 (100.0%) in 36.58 sec. Users per second: 973\n"
     ]
    },
    {
     "name": "stderr",
     "output_type": "stream",
     "text": [
      "[I 2024-11-29 04:01:26,840] Trial 9 finished with value: 0.05457246500907802 and parameters: {'alpha': 0.32978502415429545}. Best is trial 3 with value: 0.06087911230274498.\n"
     ]
    },
    {
     "name": "stdout",
     "output_type": "stream",
     "text": [
      "helloworld\n",
      "EvaluatorHoldout: Processed 35592 (100.0%) in 36.69 sec. Users per second: 970\n"
     ]
    },
    {
     "name": "stderr",
     "output_type": "stream",
     "text": [
      "[I 2024-11-29 04:02:03,694] Trial 10 finished with value: 0.05810686345602714 and parameters: {'alpha': 0.5974414481191491}. Best is trial 3 with value: 0.06087911230274498.\n"
     ]
    },
    {
     "name": "stdout",
     "output_type": "stream",
     "text": [
      "helloworld\n",
      "EvaluatorHoldout: Processed 35592 (100.0%) in 36.44 sec. Users per second: 977\n"
     ]
    },
    {
     "name": "stderr",
     "output_type": "stream",
     "text": [
      "[I 2024-11-29 04:02:40,287] Trial 11 finished with value: 0.06108926296974006 and parameters: {'alpha': 0.8917498793515537}. Best is trial 11 with value: 0.06108926296974006.\n"
     ]
    },
    {
     "name": "stdout",
     "output_type": "stream",
     "text": [
      "helloworld\n",
      "EvaluatorHoldout: Processed 35592 (100.0%) in 36.46 sec. Users per second: 976\n"
     ]
    },
    {
     "name": "stderr",
     "output_type": "stream",
     "text": [
      "[I 2024-11-29 04:03:16,884] Trial 12 finished with value: 0.061088987582369254 and parameters: {'alpha': 0.8917702353832634}. Best is trial 11 with value: 0.06108926296974006.\n"
     ]
    },
    {
     "name": "stdout",
     "output_type": "stream",
     "text": [
      "helloworld\n",
      "EvaluatorHoldout: Processed 35592 (100.0%) in 36.40 sec. Users per second: 978\n"
     ]
    },
    {
     "name": "stderr",
     "output_type": "stream",
     "text": [
      "[I 2024-11-29 04:03:53,433] Trial 13 finished with value: 0.06112692302889363 and parameters: {'alpha': 0.8975245942430595}. Best is trial 13 with value: 0.06112692302889363.\n"
     ]
    },
    {
     "name": "stdout",
     "output_type": "stream",
     "text": [
      "helloworld\n",
      "EvaluatorHoldout: Processed 35592 (100.0%) in 36.17 sec. Users per second: 984\n"
     ]
    },
    {
     "name": "stderr",
     "output_type": "stream",
     "text": [
      "[I 2024-11-29 04:04:29,755] Trial 14 finished with value: 0.05855803939354817 and parameters: {'alpha': 0.6282881811526456}. Best is trial 13 with value: 0.06112692302889363.\n"
     ]
    },
    {
     "name": "stdout",
     "output_type": "stream",
     "text": [
      "helloworld\n",
      "EvaluatorHoldout: Processed 35592 (100.0%) in 36.00 sec. Users per second: 989\n"
     ]
    },
    {
     "name": "stderr",
     "output_type": "stream",
     "text": [
      "[I 2024-11-29 04:05:05,932] Trial 15 finished with value: 0.05828679844230902 and parameters: {'alpha': 0.6083969825259579}. Best is trial 13 with value: 0.06112692302889363.\n"
     ]
    },
    {
     "name": "stdout",
     "output_type": "stream",
     "text": [
      "helloworld\n",
      "EvaluatorHoldout: Processed 35592 (100.0%) in 36.29 sec. Users per second: 981\n"
     ]
    },
    {
     "name": "stderr",
     "output_type": "stream",
     "text": [
      "[I 2024-11-29 04:05:42,357] Trial 16 finished with value: 0.060021240505265826 and parameters: {'alpha': 0.750409916562527}. Best is trial 13 with value: 0.06112692302889363.\n"
     ]
    },
    {
     "name": "stdout",
     "output_type": "stream",
     "text": [
      "helloworld\n",
      "EvaluatorHoldout: Processed 35592 (100.0%) in 36.73 sec. Users per second: 969\n"
     ]
    },
    {
     "name": "stderr",
     "output_type": "stream",
     "text": [
      "[I 2024-11-29 04:06:19,262] Trial 17 finished with value: 0.05724275251795272 and parameters: {'alpha': 0.5310432590194193}. Best is trial 13 with value: 0.06112692302889363.\n"
     ]
    },
    {
     "name": "stdout",
     "output_type": "stream",
     "text": [
      "helloworld\n",
      "EvaluatorHoldout: Processed 35592 (100.0%) in 36.58 sec. Users per second: 973\n"
     ]
    },
    {
     "name": "stderr",
     "output_type": "stream",
     "text": [
      "[I 2024-11-29 04:06:55,998] Trial 18 finished with value: 0.06112975940732002 and parameters: {'alpha': 0.8981202241459108}. Best is trial 18 with value: 0.06112975940732002.\n"
     ]
    },
    {
     "name": "stdout",
     "output_type": "stream",
     "text": [
      "helloworld\n",
      "EvaluatorHoldout: Processed 35592 (100.0%) in 35.73 sec. Users per second: 996\n"
     ]
    },
    {
     "name": "stderr",
     "output_type": "stream",
     "text": [
      "[I 2024-11-29 04:07:31,887] Trial 19 finished with value: 0.05932069963109036 and parameters: {'alpha': 0.6903772469325806}. Best is trial 18 with value: 0.06112975940732002.\n"
     ]
    },
    {
     "name": "stdout",
     "output_type": "stream",
     "text": [
      "helloworld\n",
      "EvaluatorHoldout: Processed 35592 (100.0%) in 35.31 sec. Users per second: 1008\n"
     ]
    },
    {
     "name": "stderr",
     "output_type": "stream",
     "text": [
      "[I 2024-11-29 04:08:07,369] Trial 20 finished with value: 0.06044597814026127 and parameters: {'alpha': 0.7948966730492533}. Best is trial 18 with value: 0.06112975940732002.\n"
     ]
    },
    {
     "name": "stdout",
     "output_type": "stream",
     "text": [
      "helloworld\n",
      "EvaluatorHoldout: Processed 35592 (100.0%) in 35.61 sec. Users per second: 1000\n"
     ]
    },
    {
     "name": "stderr",
     "output_type": "stream",
     "text": [
      "[I 2024-11-29 04:08:43,148] Trial 21 finished with value: 0.061125034339799954 and parameters: {'alpha': 0.897509641443592}. Best is trial 18 with value: 0.06112975940732002.\n"
     ]
    },
    {
     "name": "stdout",
     "output_type": "stream",
     "text": [
      "helloworld\n",
      "EvaluatorHoldout: Processed 35592 (100.0%) in 36.35 sec. Users per second: 979\n"
     ]
    },
    {
     "name": "stderr",
     "output_type": "stream",
     "text": [
      "[I 2024-11-29 04:09:19,646] Trial 22 finished with value: 0.06065903988590074 and parameters: {'alpha': 0.8208812725987897}. Best is trial 18 with value: 0.06112975940732002.\n"
     ]
    },
    {
     "name": "stdout",
     "output_type": "stream",
     "text": [
      "helloworld\n",
      "EvaluatorHoldout: Processed 35592 (100.0%) in 36.25 sec. Users per second: 982\n"
     ]
    },
    {
     "name": "stderr",
     "output_type": "stream",
     "text": [
      "[I 2024-11-29 04:09:56,039] Trial 23 finished with value: 0.061113820387672345 and parameters: {'alpha': 0.8958917511068418}. Best is trial 18 with value: 0.06112975940732002.\n"
     ]
    },
    {
     "name": "stdout",
     "output_type": "stream",
     "text": [
      "helloworld\n",
      "EvaluatorHoldout: Processed 35592 (100.0%) in 36.77 sec. Users per second: 968\n"
     ]
    },
    {
     "name": "stderr",
     "output_type": "stream",
     "text": [
      "[I 2024-11-29 04:10:32,973] Trial 24 finished with value: 0.059164767943213306 and parameters: {'alpha': 0.6785071466382656}. Best is trial 18 with value: 0.06112975940732002.\n"
     ]
    },
    {
     "name": "stdout",
     "output_type": "stream",
     "text": [
      "helloworld\n",
      "EvaluatorHoldout: Processed 35592 (100.0%) in 36.12 sec. Users per second: 985\n"
     ]
    },
    {
     "name": "stderr",
     "output_type": "stream",
     "text": [
      "[I 2024-11-29 04:11:09,319] Trial 25 finished with value: 0.06038558691626592 and parameters: {'alpha': 0.788126488876908}. Best is trial 18 with value: 0.06112975940732002.\n"
     ]
    },
    {
     "name": "stdout",
     "output_type": "stream",
     "text": [
      "helloworld\n",
      "EvaluatorHoldout: Processed 35592 (100.0%) in 35.65 sec. Users per second: 998\n"
     ]
    },
    {
     "name": "stderr",
     "output_type": "stream",
     "text": [
      "[I 2024-11-29 04:11:45,155] Trial 26 finished with value: 0.06083276917944637 and parameters: {'alpha': 0.840679347718017}. Best is trial 18 with value: 0.06112975940732002.\n"
     ]
    },
    {
     "name": "stdout",
     "output_type": "stream",
     "text": [
      "helloworld\n",
      "EvaluatorHoldout: Processed 35592 (100.0%) in 35.97 sec. Users per second: 989\n"
     ]
    },
    {
     "name": "stderr",
     "output_type": "stream",
     "text": [
      "[I 2024-11-29 04:12:21,326] Trial 27 finished with value: 0.05709309899317275 and parameters: {'alpha': 0.5229507097557988}. Best is trial 18 with value: 0.06112975940732002.\n"
     ]
    },
    {
     "name": "stdout",
     "output_type": "stream",
     "text": [
      "helloworld\n",
      "EvaluatorHoldout: Processed 35592 (100.0%) in 36.17 sec. Users per second: 984\n"
     ]
    },
    {
     "name": "stderr",
     "output_type": "stream",
     "text": [
      "[I 2024-11-29 04:12:57,686] Trial 28 finished with value: 0.05907572305351103 and parameters: {'alpha': 0.6715884927128775}. Best is trial 18 with value: 0.06112975940732002.\n"
     ]
    },
    {
     "name": "stdout",
     "output_type": "stream",
     "text": [
      "helloworld\n",
      "EvaluatorHoldout: Processed 35592 (100.0%) in 36.43 sec. Users per second: 977\n"
     ]
    },
    {
     "name": "stderr",
     "output_type": "stream",
     "text": [
      "[I 2024-11-29 04:13:34,281] Trial 29 finished with value: 0.0603030286813139 and parameters: {'alpha': 0.7793587227485816}. Best is trial 18 with value: 0.06112975940732002.\n"
     ]
    },
    {
     "name": "stdout",
     "output_type": "stream",
     "text": [
      "helloworld\n",
      "EvaluatorHoldout: Processed 35592 (100.0%) in 35.51 sec. Users per second: 1002\n"
     ]
    },
    {
     "name": "stderr",
     "output_type": "stream",
     "text": [
      "[I 2024-11-29 04:14:09,937] Trial 30 finished with value: 0.060820944246431266 and parameters: {'alpha': 0.8400070836536221}. Best is trial 18 with value: 0.06112975940732002.\n"
     ]
    },
    {
     "name": "stdout",
     "output_type": "stream",
     "text": [
      "helloworld\n",
      "EvaluatorHoldout: Processed 35592 (100.0%) in 36.29 sec. Users per second: 981\n"
     ]
    },
    {
     "name": "stderr",
     "output_type": "stream",
     "text": [
      "[I 2024-11-29 04:14:46,388] Trial 31 finished with value: 0.0611307806819421 and parameters: {'alpha': 0.898139794781186}. Best is trial 31 with value: 0.0611307806819421.\n"
     ]
    },
    {
     "name": "stdout",
     "output_type": "stream",
     "text": [
      "helloworld\n",
      "EvaluatorHoldout: Processed 35592 (100.0%) in 36.51 sec. Users per second: 975\n"
     ]
    },
    {
     "name": "stderr",
     "output_type": "stream",
     "text": [
      "[I 2024-11-29 04:15:23,055] Trial 32 finished with value: 0.061131682659201124 and parameters: {'alpha': 0.8989445006775345}. Best is trial 32 with value: 0.061131682659201124.\n"
     ]
    },
    {
     "name": "stdout",
     "output_type": "stream",
     "text": [
      "helloworld\n",
      "EvaluatorHoldout: Processed 35592 (100.0%) in 35.60 sec. Users per second: 1000\n"
     ]
    },
    {
     "name": "stderr",
     "output_type": "stream",
     "text": [
      "[I 2024-11-29 04:15:58,816] Trial 33 finished with value: 0.06084797680591494 and parameters: {'alpha': 0.8457160906377489}. Best is trial 32 with value: 0.061131682659201124.\n"
     ]
    },
    {
     "name": "stdout",
     "output_type": "stream",
     "text": [
      "helloworld\n",
      "EvaluatorHoldout: Processed 35592 (100.0%) in 34.35 sec. Users per second: 1036\n"
     ]
    },
    {
     "name": "stderr",
     "output_type": "stream",
     "text": [
      "[I 2024-11-29 04:16:33,344] Trial 34 finished with value: 0.060040821996737104 and parameters: {'alpha': 0.7514535711944133}. Best is trial 32 with value: 0.061131682659201124.\n"
     ]
    },
    {
     "name": "stdout",
     "output_type": "stream",
     "text": [
      "helloworld\n",
      "EvaluatorHoldout: Processed 35592 (100.0%) in 33.96 sec. Users per second: 1048\n"
     ]
    },
    {
     "name": "stderr",
     "output_type": "stream",
     "text": [
      "[I 2024-11-29 04:17:07,444] Trial 35 finished with value: 0.06059240394666713 and parameters: {'alpha': 0.8113006627566871}. Best is trial 32 with value: 0.061131682659201124.\n"
     ]
    },
    {
     "name": "stdout",
     "output_type": "stream",
     "text": [
      "helloworld\n",
      "EvaluatorHoldout: Processed 35592 (100.0%) in 35.01 sec. Users per second: 1017\n"
     ]
    },
    {
     "name": "stderr",
     "output_type": "stream",
     "text": [
      "[I 2024-11-29 04:17:42,605] Trial 36 finished with value: 0.060934813022008 and parameters: {'alpha': 0.8591085184457541}. Best is trial 32 with value: 0.061131682659201124.\n"
     ]
    },
    {
     "name": "stdout",
     "output_type": "stream",
     "text": [
      "helloworld\n",
      "EvaluatorHoldout: Processed 35592 (100.0%) in 34.89 sec. Users per second: 1020\n"
     ]
    },
    {
     "name": "stderr",
     "output_type": "stream",
     "text": [
      "[I 2024-11-29 04:18:17,638] Trial 37 finished with value: 0.059524688087565454 and parameters: {'alpha': 0.70756630257729}. Best is trial 32 with value: 0.061131682659201124.\n"
     ]
    },
    {
     "name": "stdout",
     "output_type": "stream",
     "text": [
      "helloworld\n",
      "EvaluatorHoldout: Processed 35592 (100.0%) in 34.80 sec. Users per second: 1023\n"
     ]
    },
    {
     "name": "stderr",
     "output_type": "stream",
     "text": [
      "[I 2024-11-29 04:18:52,616] Trial 38 finished with value: 0.05413872321049298 and parameters: {'alpha': 0.2921464555889452}. Best is trial 32 with value: 0.061131682659201124.\n"
     ]
    },
    {
     "name": "stdout",
     "output_type": "stream",
     "text": [
      "helloworld\n",
      "EvaluatorHoldout: Processed 35592 (100.0%) in 34.63 sec. Users per second: 1028\n"
     ]
    },
    {
     "name": "stderr",
     "output_type": "stream",
     "text": [
      "[I 2024-11-29 04:19:27,401] Trial 39 finished with value: 0.060292990978887476 and parameters: {'alpha': 0.7782338036030155}. Best is trial 32 with value: 0.061131682659201124.\n"
     ]
    },
    {
     "name": "stdout",
     "output_type": "stream",
     "text": [
      "helloworld\n",
      "EvaluatorHoldout: Processed 35592 (100.0%) in 34.62 sec. Users per second: 1028\n"
     ]
    },
    {
     "name": "stderr",
     "output_type": "stream",
     "text": [
      "[I 2024-11-29 04:20:02,172] Trial 40 finished with value: 0.05624115750105943 and parameters: {'alpha': 0.4637394026394993}. Best is trial 32 with value: 0.061131682659201124.\n"
     ]
    },
    {
     "name": "stdout",
     "output_type": "stream",
     "text": [
      "helloworld\n",
      "EvaluatorHoldout: Processed 35592 (100.0%) in 35.95 sec. Users per second: 990\n"
     ]
    },
    {
     "name": "stderr",
     "output_type": "stream",
     "text": [
      "[I 2024-11-29 04:20:38,288] Trial 41 finished with value: 0.061110709736803784 and parameters: {'alpha': 0.8956905639821214}. Best is trial 32 with value: 0.061131682659201124.\n"
     ]
    },
    {
     "name": "stdout",
     "output_type": "stream",
     "text": [
      "helloworld\n",
      "EvaluatorHoldout: Processed 35592 (100.0%) in 35.28 sec. Users per second: 1009\n"
     ]
    },
    {
     "name": "stderr",
     "output_type": "stream",
     "text": [
      "[I 2024-11-29 04:21:13,711] Trial 42 finished with value: 0.06094163304041779 and parameters: {'alpha': 0.8689899725726333}. Best is trial 32 with value: 0.061131682659201124.\n"
     ]
    },
    {
     "name": "stdout",
     "output_type": "stream",
     "text": [
      "helloworld\n",
      "EvaluatorHoldout: Processed 35592 (100.0%) in 35.97 sec. Users per second: 989\n"
     ]
    },
    {
     "name": "stderr",
     "output_type": "stream",
     "text": [
      "[I 2024-11-29 04:21:49,825] Trial 43 finished with value: 0.0606595416037828 and parameters: {'alpha': 0.8206011535508502}. Best is trial 32 with value: 0.061131682659201124.\n"
     ]
    },
    {
     "name": "stdout",
     "output_type": "stream",
     "text": [
      "helloworld\n",
      "EvaluatorHoldout: Processed 35592 (100.0%) in 35.66 sec. Users per second: 998\n"
     ]
    },
    {
     "name": "stderr",
     "output_type": "stream",
     "text": [
      "[I 2024-11-29 04:22:25,650] Trial 44 finished with value: 0.060929757935614406 and parameters: {'alpha': 0.8598325273934793}. Best is trial 32 with value: 0.061131682659201124.\n"
     ]
    },
    {
     "name": "stdout",
     "output_type": "stream",
     "text": [
      "helloworld\n",
      "EvaluatorHoldout: Processed 35592 (100.0%) in 35.83 sec. Users per second: 993\n"
     ]
    },
    {
     "name": "stderr",
     "output_type": "stream",
     "text": [
      "[I 2024-11-29 04:23:01,677] Trial 45 finished with value: 0.05321421881856616 and parameters: {'alpha': 0.2183978613166765}. Best is trial 32 with value: 0.061131682659201124.\n"
     ]
    },
    {
     "name": "stdout",
     "output_type": "stream",
     "text": [
      "helloworld\n",
      "EvaluatorHoldout: Processed 35592 (100.0%) in 35.89 sec. Users per second: 992\n"
     ]
    },
    {
     "name": "stderr",
     "output_type": "stream",
     "text": [
      "[I 2024-11-29 04:23:37,719] Trial 46 finished with value: 0.06111266978132953 and parameters: {'alpha': 0.896199096883038}. Best is trial 32 with value: 0.061131682659201124.\n"
     ]
    },
    {
     "name": "stdout",
     "output_type": "stream",
     "text": [
      "helloworld\n",
      "EvaluatorHoldout: Processed 35592 (100.0%) in 35.48 sec. Users per second: 1003\n"
     ]
    },
    {
     "name": "stderr",
     "output_type": "stream",
     "text": [
      "[I 2024-11-29 04:24:13,363] Trial 47 finished with value: 0.05984033330122143 and parameters: {'alpha': 0.7332448857105416}. Best is trial 32 with value: 0.061131682659201124.\n"
     ]
    },
    {
     "name": "stdout",
     "output_type": "stream",
     "text": [
      "helloworld\n",
      "EvaluatorHoldout: Processed 35592 (100.0%) in 35.53 sec. Users per second: 1002\n"
     ]
    },
    {
     "name": "stderr",
     "output_type": "stream",
     "text": [
      "[I 2024-11-29 04:24:49,026] Trial 48 finished with value: 0.05546160720975097 and parameters: {'alpha': 0.40042355679166186}. Best is trial 32 with value: 0.061131682659201124.\n"
     ]
    },
    {
     "name": "stdout",
     "output_type": "stream",
     "text": [
      "helloworld\n",
      "EvaluatorHoldout: Processed 35592 (100.0%) in 36.15 sec. Users per second: 985\n"
     ]
    },
    {
     "name": "stderr",
     "output_type": "stream",
     "text": [
      "[I 2024-11-29 04:25:25,334] Trial 49 finished with value: 0.060945090434089265 and parameters: {'alpha': 0.8682874726062778}. Best is trial 32 with value: 0.061131682659201124.\n"
     ]
    }
   ],
   "execution_count": 15
  },
  {
   "metadata": {
    "ExecuteTime": {
     "end_time": "2024-11-29T09:56:39.658095Z",
     "start_time": "2024-11-29T09:56:15.036213Z"
    }
   },
   "cell_type": "code",
   "source": [
    "from ModelNames import ModelName\n",
    "from Recommenders.HybridOptunable2 import HybridOptunable2\n",
    "recommender_object = HybridOptunable2(URM_all)\n",
    "recommender_object.fit(0.8989445006775345, itemKnncf ,slimrec)\n",
    "result_df, _ = evaluator_validation.evaluateRecommender(recommender_object)\n",
    "\n",
    "recommender_object.save_model(folder_path=\"_saved_models\", file_name = ModelName.HybridOptunable2)\n",
    "\n"
   ],
   "id": "f39c8a0953d8bca2",
   "outputs": [
    {
     "name": "stdout",
     "output_type": "stream",
     "text": [
      "EvaluatorHoldout: Processed 35592 (100.0%) in 24.46 sec. Users per second: 1455\n"
     ]
    }
   ],
   "execution_count": 19
  },
  {
   "metadata": {
    "ExecuteTime": {
     "end_time": "2024-11-29T09:58:52.819192Z",
     "start_time": "2024-11-29T09:58:52.794185Z"
    }
   },
   "cell_type": "code",
   "source": "result_df",
   "id": "db90e06ccdbdcad3",
   "outputs": [
    {
     "data": {
      "text/plain": [
       "       PRECISION PRECISION_RECALL_MIN_DEN    RECALL       MAP MAP_MIN_DEN  \\\n",
       "cutoff                                                                      \n",
       "10      0.111505                 0.166456  0.141328  0.061132    0.088936   \n",
       "\n",
       "             MRR      NDCG        F1  HIT_RATE ARHR_ALL_HITS  ...  \\\n",
       "cutoff                                                        ...   \n",
       "10      0.311935  0.163867  0.124658  0.571055      0.428553  ...   \n",
       "\n",
       "       COVERAGE_USER COVERAGE_USER_HIT USERS_IN_GT DIVERSITY_GINI  \\\n",
       "cutoff                                                              \n",
       "10           0.99597          0.568754     0.99597       0.242922   \n",
       "\n",
       "       SHANNON_ENTROPY RATIO_DIVERSITY_HERFINDAHL RATIO_DIVERSITY_GINI  \\\n",
       "cutoff                                                                   \n",
       "10           13.471256                   0.999877             0.399315   \n",
       "\n",
       "       RATIO_SHANNON_ENTROPY RATIO_AVERAGE_POPULARITY RATIO_NOVELTY  \n",
       "cutoff                                                               \n",
       "10                  0.912567                 1.329641      0.244657  \n",
       "\n",
       "[1 rows x 27 columns]"
      ],
      "text/html": [
       "<div>\n",
       "<style scoped>\n",
       "    .dataframe tbody tr th:only-of-type {\n",
       "        vertical-align: middle;\n",
       "    }\n",
       "\n",
       "    .dataframe tbody tr th {\n",
       "        vertical-align: top;\n",
       "    }\n",
       "\n",
       "    .dataframe thead th {\n",
       "        text-align: right;\n",
       "    }\n",
       "</style>\n",
       "<table border=\"1\" class=\"dataframe\">\n",
       "  <thead>\n",
       "    <tr style=\"text-align: right;\">\n",
       "      <th></th>\n",
       "      <th>PRECISION</th>\n",
       "      <th>PRECISION_RECALL_MIN_DEN</th>\n",
       "      <th>RECALL</th>\n",
       "      <th>MAP</th>\n",
       "      <th>MAP_MIN_DEN</th>\n",
       "      <th>MRR</th>\n",
       "      <th>NDCG</th>\n",
       "      <th>F1</th>\n",
       "      <th>HIT_RATE</th>\n",
       "      <th>ARHR_ALL_HITS</th>\n",
       "      <th>...</th>\n",
       "      <th>COVERAGE_USER</th>\n",
       "      <th>COVERAGE_USER_HIT</th>\n",
       "      <th>USERS_IN_GT</th>\n",
       "      <th>DIVERSITY_GINI</th>\n",
       "      <th>SHANNON_ENTROPY</th>\n",
       "      <th>RATIO_DIVERSITY_HERFINDAHL</th>\n",
       "      <th>RATIO_DIVERSITY_GINI</th>\n",
       "      <th>RATIO_SHANNON_ENTROPY</th>\n",
       "      <th>RATIO_AVERAGE_POPULARITY</th>\n",
       "      <th>RATIO_NOVELTY</th>\n",
       "    </tr>\n",
       "    <tr>\n",
       "      <th>cutoff</th>\n",
       "      <th></th>\n",
       "      <th></th>\n",
       "      <th></th>\n",
       "      <th></th>\n",
       "      <th></th>\n",
       "      <th></th>\n",
       "      <th></th>\n",
       "      <th></th>\n",
       "      <th></th>\n",
       "      <th></th>\n",
       "      <th></th>\n",
       "      <th></th>\n",
       "      <th></th>\n",
       "      <th></th>\n",
       "      <th></th>\n",
       "      <th></th>\n",
       "      <th></th>\n",
       "      <th></th>\n",
       "      <th></th>\n",
       "      <th></th>\n",
       "      <th></th>\n",
       "    </tr>\n",
       "  </thead>\n",
       "  <tbody>\n",
       "    <tr>\n",
       "      <th>10</th>\n",
       "      <td>0.111505</td>\n",
       "      <td>0.166456</td>\n",
       "      <td>0.141328</td>\n",
       "      <td>0.061132</td>\n",
       "      <td>0.088936</td>\n",
       "      <td>0.311935</td>\n",
       "      <td>0.163867</td>\n",
       "      <td>0.124658</td>\n",
       "      <td>0.571055</td>\n",
       "      <td>0.428553</td>\n",
       "      <td>...</td>\n",
       "      <td>0.99597</td>\n",
       "      <td>0.568754</td>\n",
       "      <td>0.99597</td>\n",
       "      <td>0.242922</td>\n",
       "      <td>13.471256</td>\n",
       "      <td>0.999877</td>\n",
       "      <td>0.399315</td>\n",
       "      <td>0.912567</td>\n",
       "      <td>1.329641</td>\n",
       "      <td>0.244657</td>\n",
       "    </tr>\n",
       "  </tbody>\n",
       "</table>\n",
       "<p>1 rows × 27 columns</p>\n",
       "</div>"
      ]
     },
     "execution_count": 22,
     "metadata": {},
     "output_type": "execute_result"
    }
   ],
   "execution_count": 22
  },
  {
   "metadata": {
    "ExecuteTime": {
     "end_time": "2024-11-29T10:16:16.943821Z",
     "start_time": "2024-11-29T10:15:27.908655Z"
    }
   },
   "cell_type": "code",
   "source": [
    "recommendations_list = []\n",
    "cutoff = 10\n",
    "for user_id in users[\"user_id\"]:\n",
    "    recommendations = recommender_object.recommend(user_id, cutoff=cutoff)\n",
    "    recommendations_list.append([user_id, recommendations])\n",
    "\n",
    "\n",
    "\n",
    "result_df, _ = evaluator_validation.evaluateRecommender(recommender_object)\n",
    "print (result_df.loc[10][\"MAP\"])\n",
    "df_recommendations = pd.DataFrame(recommendations_list, columns=['user_id', 'item_list'])\n",
    "df_recommendations.to_csv('recomm.csv', index=False)"
   ],
   "id": "7909a60edf749ceb",
   "outputs": [
    {
     "name": "stdout",
     "output_type": "stream",
     "text": [
      "EvaluatorHoldout: Processed 35592 (100.0%) in 25.01 sec. Users per second: 1423\n",
      "0.061131682659201124\n"
     ]
    }
   ],
   "execution_count": 23
  }
 ],
 "metadata": {
  "kernelspec": {
   "display_name": "Python 3",
   "language": "python",
   "name": "python3"
  },
  "language_info": {
   "codemirror_mode": {
    "name": "ipython",
    "version": 2
   },
   "file_extension": ".py",
   "mimetype": "text/x-python",
   "name": "python",
   "nbconvert_exporter": "python",
   "pygments_lexer": "ipython2",
   "version": "2.7.6"
  }
 },
 "nbformat": 4,
 "nbformat_minor": 5
}
