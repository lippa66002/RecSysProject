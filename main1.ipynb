{
 "cells": [
  {
   "metadata": {},
   "cell_type": "markdown",
   "source": "Import Libraries and data",
   "id": "105e1d7ac542e140"
  },
  {
   "cell_type": "code",
   "id": "initial_id",
   "metadata": {
    "collapsed": true,
    "tags": [
     "kk"
    ],
    "ExecuteTime": {
     "end_time": "2024-11-26T16:11:31.262448Z",
     "start_time": "2024-11-26T16:10:54.630755Z"
    }
   },
   "source": [
    "import importlib\n",
    "\n",
    "import optuna\n",
    "from scipy.sparse import csr_matrix\n",
    "from sklearn.ensemble import RandomForestRegressor\n",
    "import matplotlib.pyplot as plt\n",
    "from Optimize.SaveResults import SaveResults\n",
    "from Optimize.slim import objective_function_SLIM\n",
    "from Recommenders.EASE_R.EASE_R_Recommender import EASE_R_Recommender\n",
    "from Recommenders.GraphBased.RP3betaRecommender import RP3betaRecommender\n",
    "from Recommenders.HybridOptunable import HybridOptunable\n",
    "from Recommenders.KNN.ItemKNNCFRecommender import ItemKNNCFRecommender\n",
    "import pandas as pd\n",
    "import scipy.sparse as sps\n",
    "from Evaluation.Evaluator import EvaluatorHoldout\n",
    "from Data_manager.split_functions.split_train_validation_random_holdout import split_train_in_two_percentage_global_sample\n",
    "from Data_manager.Movielens.Movielens1MReader import Movielens1MReader\n",
    "from Recommenders.KNN.ItemKNN_CFCBF_Hybrid_Recommender import ItemKNN_CFCBF_Hybrid_Recommender\n",
    "from Recommenders.KNN.UserKNNCFRecommender import UserKNNCFRecommender\n",
    "from Recommenders.MatrixFactorization.Cython.MatrixFactorization_Cython import MatrixFactorization_SVDpp_Cython\n",
    "from Recommenders.SLIM.Cython.SLIM_BPR_Cython import SLIM_BPR_Cython\n",
    "import Optimize\n",
    "from Recommenders.SLIM.SLIMElasticNetRecommender import SLIMElasticNetRecommender\n",
    "\n",
    "# Press Maiusc+F10 to execute it or replace it with your code.\n",
    "# Press Double Shift to search everywhere for classes, files, tool windows, actions, and settings.\n",
    "\n",
    "\n",
    "URM_all_dataframe = pd.read_csv(filepath_or_buffer=\"Data/data_train.csv\",\n",
    "                                sep=\",\",\n",
    "                                dtype={0:int, 1:int, 2:float},\n",
    "                                engine='python')\n",
    "users = pd.read_csv(filepath_or_buffer=\"Data/data_target_users_test.csv\")\n",
    "\n",
    "ICM = pd.read_csv(filepath_or_buffer=\"Data/data_ICM_metadata.csv\",\n",
    "                                sep=\",\",\n",
    "                                dtype={0:int, 1:int, 2:float},\n",
    "                                engine='python')\n",
    "\n",
    "\n",
    "\n",
    "\n",
    "n_interactions = len(URM_all_dataframe)\n",
    "mapped_id, original_id = pd.factorize(URM_all_dataframe[\"user_id\"].unique())\n",
    "user_original_ID_to_index = pd.Series(mapped_id, index=original_id)\n",
    "mapped_id, original_id = pd.factorize(URM_all_dataframe[\"item_id\"].unique())\n",
    "item_original_ID_to_index = pd.Series(mapped_id, index=original_id)\n",
    "print(URM_all_dataframe['item_id'].max())\n",
    "print(URM_all_dataframe.head(4))\n",
    "#URM_all_dataframe[\"user_id\"] = URM_all_dataframe[\"user_id\"].map(user_original_ID_to_index)\n",
    "#URM_all_dataframe[\"item_id\"] = URM_all_dataframe[\"item_id\"].map(item_original_ID_to_index)\n",
    "print(URM_all_dataframe['item_id'].max())\n",
    "print(URM_all_dataframe.head(4))\n",
    "userID_unique = URM_all_dataframe[\"user_id\"].unique()\n",
    "itemID_unique = URM_all_dataframe[\"item_id\"].unique()\n",
    "n_users = len(userID_unique)\n",
    "n_items = len(itemID_unique)\n",
    "print(n_users, n_items)\n",
    "URM_all = sps.coo_matrix((URM_all_dataframe[\"data\"].values,\n",
    "                          (URM_all_dataframe[\"user_id\"].values, URM_all_dataframe[\"item_id\"].values)))\n",
    "n_items = ICM[\"item_id\"].max() + 1\n",
    "n_features = ICM[\"feature_id\"].max() + 1\n",
    "ICM_all = sps.coo_matrix((ICM[\"data\"].values, (ICM[\"item_id\"].values, ICM[\"feature_id\"].values)) , shape=(n_items, n_features))\n",
    "\n",
    "URM_all.tocsr()\n",
    "ICM_all.tocsr()\n",
    "\n",
    "URM_trainval, URM_test = split_train_in_two_percentage_global_sample(URM_all, train_percentage = 0.8)\n",
    "URM_train, URM_validation = split_train_in_two_percentage_global_sample(URM_trainval, train_percentage = 0.8)\n"
   ],
   "outputs": [
    {
     "name": "stderr",
     "output_type": "stream",
     "text": [
      "C:\\Users\\leoli\\miniconda3\\envs\\RecSysFramework\\lib\\site-packages\\scipy\\__init__.py:138: UserWarning: A NumPy version >=1.16.5 and <1.23.0 is required for this version of SciPy (detected version 1.26.4)\n",
      "  warnings.warn(f\"A NumPy version >={np_minversion} and <{np_maxversion} is required for this version of \"\n"
     ]
    },
    {
     "name": "stdout",
     "output_type": "stream",
     "text": [
      "38120\n",
      "   user_id  item_id  data\n",
      "0        0        0   1.0\n",
      "1        0        2   1.0\n",
      "2        0      120   1.0\n",
      "3        0      128   1.0\n",
      "38120\n",
      "   user_id  item_id  data\n",
      "0        0        0   1.0\n",
      "1        0        2   1.0\n",
      "2        0      120   1.0\n",
      "3        0      128   1.0\n",
      "35736 38121\n",
      "Warning: 151 (0.42 %) of 35736 users have no sampled items\n",
      "Warning: 441 (1.23 %) of 35736 users have no sampled items\n"
     ]
    }
   ],
   "execution_count": 2
  },
  {
   "metadata": {},
   "cell_type": "markdown",
   "source": "",
   "id": "809e841652986ac"
  },
  {
   "metadata": {},
   "cell_type": "markdown",
   "source": "",
   "id": "d61125d99a802940"
  },
  {
   "metadata": {
    "ExecuteTime": {
     "end_time": "2024-11-26T17:06:12.357232Z",
     "start_time": "2024-11-26T16:11:45.672269Z"
    }
   },
   "cell_type": "code",
   "source": [
    "slimrec = SLIMElasticNetRecommender(URM_trainval)\n",
    "slimrec.fit(alpha= 0.0002021210695683939, topK= 856, l1_ratio= 0.23722934371355184)"
   ],
   "id": "8cd55fb6cdf5a7c7",
   "outputs": [
    {
     "name": "stdout",
     "output_type": "stream",
     "text": [
      "SLIMElasticNetRecommender: Processed 3036 ( 8.0%) in 5.00 min. Items per second: 10.11\n",
      "SLIMElasticNetRecommender: Processed 6360 (16.7%) in 10.00 min. Items per second: 10.60\n",
      "SLIMElasticNetRecommender: Processed 10180 (26.7%) in 15.00 min. Items per second: 11.31\n",
      "SLIMElasticNetRecommender: Processed 13697 (35.9%) in 20.00 min. Items per second: 11.41\n",
      "SLIMElasticNetRecommender: Processed 17583 (46.1%) in 25.00 min. Items per second: 11.72\n",
      "SLIMElasticNetRecommender: Processed 21573 (56.6%) in 30.00 min. Items per second: 11.98\n",
      "SLIMElasticNetRecommender: Processed 25087 (65.8%) in 35.00 min. Items per second: 11.94\n",
      "SLIMElasticNetRecommender: Processed 28611 (75.1%) in 40.01 min. Items per second: 11.92\n",
      "SLIMElasticNetRecommender: Processed 31115 (81.6%) in 45.01 min. Items per second: 11.52\n",
      "SLIMElasticNetRecommender: Processed 34638 (90.9%) in 50.01 min. Items per second: 11.54\n",
      "SLIMElasticNetRecommender: Processed 38121 (100.0%) in 54.44 min. Items per second: 11.67\n"
     ]
    }
   ],
   "execution_count": 3
  },
  {
   "metadata": {},
   "cell_type": "markdown",
   "source": "",
   "id": "45db684883ff12c0"
  },
  {
   "metadata": {
    "ExecuteTime": {
     "end_time": "2024-11-27T23:19:21.022271Z",
     "start_time": "2024-11-27T23:18:51.211794Z"
    }
   },
   "cell_type": "code",
   "source": [
    "from Recommenders.ScoresHybridRecommender import ScoresHybridRecommender\n",
    "evaluator_validation = EvaluatorHoldout(URM_test, cutoff_list=[10])\n",
    "\n",
    "result_df, _ = evaluator_validation.evaluateRecommender(slimrec)"
   ],
   "id": "c727a986ed8f32f5",
   "outputs": [
    {
     "name": "stdout",
     "output_type": "stream",
     "text": [
      "EvaluatorHoldout: Ignoring 151 ( 0.4%) Users that have less than 1 test interactions\n",
      "EvaluatorHoldout: Processed 35585 (100.0%) in 29.00 sec. Users per second: 1227\n"
     ]
    }
   ],
   "execution_count": 102
  },
  {
   "metadata": {
    "ExecuteTime": {
     "end_time": "2024-11-27T23:19:25.073799Z",
     "start_time": "2024-11-27T23:19:24.164746Z"
    }
   },
   "cell_type": "code",
   "source": "result_df",
   "id": "7d672c281fa5f1a6",
   "outputs": [
    {
     "data": {
      "text/plain": [
       "       PRECISION PRECISION_RECALL_MIN_DEN    RECALL       MAP MAP_MIN_DEN  \\\n",
       "cutoff                                                                      \n",
       "10      0.087233                 0.131671  0.113063  0.042766    0.063597   \n",
       "\n",
       "             MRR      NDCG        F1  HIT_RATE ARHR_ALL_HITS  ...  \\\n",
       "cutoff                                                        ...   \n",
       "10      0.252069  0.126574  0.098483  0.509428      0.324933  ...   \n",
       "\n",
       "       COVERAGE_USER COVERAGE_USER_HIT USERS_IN_GT DIVERSITY_GINI  \\\n",
       "cutoff                                                              \n",
       "10          0.995775          0.507276    0.995775       0.219391   \n",
       "\n",
       "       SHANNON_ENTROPY RATIO_DIVERSITY_HERFINDAHL RATIO_DIVERSITY_GINI  \\\n",
       "cutoff                                                                   \n",
       "10           13.303581                    0.99984             0.363133   \n",
       "\n",
       "       RATIO_SHANNON_ENTROPY RATIO_AVERAGE_POPULARITY RATIO_NOVELTY  \n",
       "cutoff                                                               \n",
       "10                  0.901585                 1.468671      0.302643  \n",
       "\n",
       "[1 rows x 27 columns]"
      ],
      "text/html": [
       "<div>\n",
       "<style scoped>\n",
       "    .dataframe tbody tr th:only-of-type {\n",
       "        vertical-align: middle;\n",
       "    }\n",
       "\n",
       "    .dataframe tbody tr th {\n",
       "        vertical-align: top;\n",
       "    }\n",
       "\n",
       "    .dataframe thead th {\n",
       "        text-align: right;\n",
       "    }\n",
       "</style>\n",
       "<table border=\"1\" class=\"dataframe\">\n",
       "  <thead>\n",
       "    <tr style=\"text-align: right;\">\n",
       "      <th></th>\n",
       "      <th>PRECISION</th>\n",
       "      <th>PRECISION_RECALL_MIN_DEN</th>\n",
       "      <th>RECALL</th>\n",
       "      <th>MAP</th>\n",
       "      <th>MAP_MIN_DEN</th>\n",
       "      <th>MRR</th>\n",
       "      <th>NDCG</th>\n",
       "      <th>F1</th>\n",
       "      <th>HIT_RATE</th>\n",
       "      <th>ARHR_ALL_HITS</th>\n",
       "      <th>...</th>\n",
       "      <th>COVERAGE_USER</th>\n",
       "      <th>COVERAGE_USER_HIT</th>\n",
       "      <th>USERS_IN_GT</th>\n",
       "      <th>DIVERSITY_GINI</th>\n",
       "      <th>SHANNON_ENTROPY</th>\n",
       "      <th>RATIO_DIVERSITY_HERFINDAHL</th>\n",
       "      <th>RATIO_DIVERSITY_GINI</th>\n",
       "      <th>RATIO_SHANNON_ENTROPY</th>\n",
       "      <th>RATIO_AVERAGE_POPULARITY</th>\n",
       "      <th>RATIO_NOVELTY</th>\n",
       "    </tr>\n",
       "    <tr>\n",
       "      <th>cutoff</th>\n",
       "      <th></th>\n",
       "      <th></th>\n",
       "      <th></th>\n",
       "      <th></th>\n",
       "      <th></th>\n",
       "      <th></th>\n",
       "      <th></th>\n",
       "      <th></th>\n",
       "      <th></th>\n",
       "      <th></th>\n",
       "      <th></th>\n",
       "      <th></th>\n",
       "      <th></th>\n",
       "      <th></th>\n",
       "      <th></th>\n",
       "      <th></th>\n",
       "      <th></th>\n",
       "      <th></th>\n",
       "      <th></th>\n",
       "      <th></th>\n",
       "      <th></th>\n",
       "    </tr>\n",
       "  </thead>\n",
       "  <tbody>\n",
       "    <tr>\n",
       "      <th>10</th>\n",
       "      <td>0.087233</td>\n",
       "      <td>0.131671</td>\n",
       "      <td>0.113063</td>\n",
       "      <td>0.042766</td>\n",
       "      <td>0.063597</td>\n",
       "      <td>0.252069</td>\n",
       "      <td>0.126574</td>\n",
       "      <td>0.098483</td>\n",
       "      <td>0.509428</td>\n",
       "      <td>0.324933</td>\n",
       "      <td>...</td>\n",
       "      <td>0.995775</td>\n",
       "      <td>0.507276</td>\n",
       "      <td>0.995775</td>\n",
       "      <td>0.219391</td>\n",
       "      <td>13.303581</td>\n",
       "      <td>0.99984</td>\n",
       "      <td>0.363133</td>\n",
       "      <td>0.901585</td>\n",
       "      <td>1.468671</td>\n",
       "      <td>0.302643</td>\n",
       "    </tr>\n",
       "  </tbody>\n",
       "</table>\n",
       "<p>1 rows × 27 columns</p>\n",
       "</div>"
      ]
     },
     "execution_count": 103,
     "metadata": {},
     "output_type": "execute_result"
    }
   ],
   "execution_count": 103
  },
  {
   "metadata": {
    "ExecuteTime": {
     "end_time": "2024-11-26T17:06:51.218670Z",
     "start_time": "2024-11-26T17:06:38.414450Z"
    }
   },
   "cell_type": "code",
   "source": [
    "graphrec = RP3betaRecommender(URM_trainval)\n",
    "graphrec.fit(topK= 12, alpha= 0.5769111396825488, beta= 0.0019321798490027353)"
   ],
   "id": "d31dbdf76a9a38a9",
   "outputs": [
    {
     "name": "stdout",
     "output_type": "stream",
     "text": [
      "RP3betaRecommender: Similarity column 38121 (100.0%), 3182.69 column/sec. Elapsed time 11.98 sec\n"
     ]
    }
   ],
   "execution_count": 6
  },
  {
   "metadata": {
    "ExecuteTime": {
     "end_time": "2024-11-27T16:13:52.432883Z",
     "start_time": "2024-11-27T16:13:28.468506Z"
    }
   },
   "cell_type": "code",
   "source": "",
   "id": "536cd6117866fd3f",
   "outputs": [
    {
     "name": "stdout",
     "output_type": "stream",
     "text": [
      "EvaluatorHoldout: Processed 35295 (100.0%) in 23.88 sec. Users per second: 1478\n"
     ]
    },
    {
     "data": {
      "text/plain": [
       "       PRECISION PRECISION_RECALL_MIN_DEN    RECALL       MAP MAP_MIN_DEN  \\\n",
       "cutoff                                                                      \n",
       "10      0.071387                 0.125528  0.113448  0.033362    0.057825   \n",
       "\n",
       "             MRR     NDCG        F1  HIT_RATE ARHR_ALL_HITS  ...  \\\n",
       "cutoff                                                       ...   \n",
       "10      0.212056  0.11276  0.087632  0.451169      0.263824  ...   \n",
       "\n",
       "       COVERAGE_USER COVERAGE_USER_HIT USERS_IN_GT DIVERSITY_GINI  \\\n",
       "cutoff                                                              \n",
       "10           0.98766          0.445601     0.98766       0.220129   \n",
       "\n",
       "       SHANNON_ENTROPY RATIO_DIVERSITY_HERFINDAHL RATIO_DIVERSITY_GINI  \\\n",
       "cutoff                                                                   \n",
       "10           13.330875                   0.999858             0.364355   \n",
       "\n",
       "       RATIO_SHANNON_ENTROPY RATIO_AVERAGE_POPULARITY RATIO_NOVELTY  \n",
       "cutoff                                                               \n",
       "10                  0.903435                 1.396348      0.303685  \n",
       "\n",
       "[1 rows x 27 columns]"
      ],
      "text/html": [
       "<div>\n",
       "<style scoped>\n",
       "    .dataframe tbody tr th:only-of-type {\n",
       "        vertical-align: middle;\n",
       "    }\n",
       "\n",
       "    .dataframe tbody tr th {\n",
       "        vertical-align: top;\n",
       "    }\n",
       "\n",
       "    .dataframe thead th {\n",
       "        text-align: right;\n",
       "    }\n",
       "</style>\n",
       "<table border=\"1\" class=\"dataframe\">\n",
       "  <thead>\n",
       "    <tr style=\"text-align: right;\">\n",
       "      <th></th>\n",
       "      <th>PRECISION</th>\n",
       "      <th>PRECISION_RECALL_MIN_DEN</th>\n",
       "      <th>RECALL</th>\n",
       "      <th>MAP</th>\n",
       "      <th>MAP_MIN_DEN</th>\n",
       "      <th>MRR</th>\n",
       "      <th>NDCG</th>\n",
       "      <th>F1</th>\n",
       "      <th>HIT_RATE</th>\n",
       "      <th>ARHR_ALL_HITS</th>\n",
       "      <th>...</th>\n",
       "      <th>COVERAGE_USER</th>\n",
       "      <th>COVERAGE_USER_HIT</th>\n",
       "      <th>USERS_IN_GT</th>\n",
       "      <th>DIVERSITY_GINI</th>\n",
       "      <th>SHANNON_ENTROPY</th>\n",
       "      <th>RATIO_DIVERSITY_HERFINDAHL</th>\n",
       "      <th>RATIO_DIVERSITY_GINI</th>\n",
       "      <th>RATIO_SHANNON_ENTROPY</th>\n",
       "      <th>RATIO_AVERAGE_POPULARITY</th>\n",
       "      <th>RATIO_NOVELTY</th>\n",
       "    </tr>\n",
       "    <tr>\n",
       "      <th>cutoff</th>\n",
       "      <th></th>\n",
       "      <th></th>\n",
       "      <th></th>\n",
       "      <th></th>\n",
       "      <th></th>\n",
       "      <th></th>\n",
       "      <th></th>\n",
       "      <th></th>\n",
       "      <th></th>\n",
       "      <th></th>\n",
       "      <th></th>\n",
       "      <th></th>\n",
       "      <th></th>\n",
       "      <th></th>\n",
       "      <th></th>\n",
       "      <th></th>\n",
       "      <th></th>\n",
       "      <th></th>\n",
       "      <th></th>\n",
       "      <th></th>\n",
       "      <th></th>\n",
       "    </tr>\n",
       "  </thead>\n",
       "  <tbody>\n",
       "    <tr>\n",
       "      <th>10</th>\n",
       "      <td>0.071387</td>\n",
       "      <td>0.125528</td>\n",
       "      <td>0.113448</td>\n",
       "      <td>0.033362</td>\n",
       "      <td>0.057825</td>\n",
       "      <td>0.212056</td>\n",
       "      <td>0.11276</td>\n",
       "      <td>0.087632</td>\n",
       "      <td>0.451169</td>\n",
       "      <td>0.263824</td>\n",
       "      <td>...</td>\n",
       "      <td>0.98766</td>\n",
       "      <td>0.445601</td>\n",
       "      <td>0.98766</td>\n",
       "      <td>0.220129</td>\n",
       "      <td>13.330875</td>\n",
       "      <td>0.999858</td>\n",
       "      <td>0.364355</td>\n",
       "      <td>0.903435</td>\n",
       "      <td>1.396348</td>\n",
       "      <td>0.303685</td>\n",
       "    </tr>\n",
       "  </tbody>\n",
       "</table>\n",
       "<p>1 rows × 27 columns</p>\n",
       "</div>"
      ]
     },
     "execution_count": 23,
     "metadata": {},
     "output_type": "execute_result"
    }
   ],
   "execution_count": 23
  },
  {
   "metadata": {},
   "cell_type": "markdown",
   "source": "",
   "id": "153c02b790207e0d"
  },
  {
   "metadata": {
    "ExecuteTime": {
     "end_time": "2024-11-27T23:20:17.896736Z",
     "start_time": "2024-11-27T23:19:53.038199Z"
    }
   },
   "cell_type": "code",
   "source": [
    "from Recommenders.ScoresHybridRecommender import ScoresHybridRecommender\n",
    "evaluator_validation = EvaluatorHoldout(URM_test, cutoff_list=[10])\n",
    "\n",
    "result_df, _ = evaluator_validation.evaluateRecommender(graphrec)"
   ],
   "id": "148c02f7de57f41e",
   "outputs": [
    {
     "name": "stdout",
     "output_type": "stream",
     "text": [
      "EvaluatorHoldout: Ignoring 151 ( 0.4%) Users that have less than 1 test interactions\n",
      "EvaluatorHoldout: Processed 35585 (100.0%) in 24.25 sec. Users per second: 1467\n"
     ]
    }
   ],
   "execution_count": 104
  },
  {
   "metadata": {
    "ExecuteTime": {
     "end_time": "2024-11-27T23:16:43.582842Z",
     "start_time": "2024-11-27T17:26:24.324185Z"
    }
   },
   "cell_type": "code",
   "source": "result_df",
   "id": "6df246104aa89cd5",
   "outputs": [
    {
     "data": {
      "text/plain": [
       "       PRECISION PRECISION_RECALL_MIN_DEN    RECALL       MAP MAP_MIN_DEN  \\\n",
       "cutoff                                                                      \n",
       "10      0.080037                 0.121551  0.104794  0.038687    0.058017   \n",
       "\n",
       "             MRR      NDCG        F1  HIT_RATE ARHR_ALL_HITS  ...  \\\n",
       "cutoff                                                        ...   \n",
       "10      0.232545  0.116348  0.090757  0.479359      0.296934  ...   \n",
       "\n",
       "       COVERAGE_USER COVERAGE_USER_HIT USERS_IN_GT DIVERSITY_GINI  \\\n",
       "cutoff                                                              \n",
       "10          0.995775          0.477334    0.995775       0.210128   \n",
       "\n",
       "       SHANNON_ENTROPY RATIO_DIVERSITY_HERFINDAHL RATIO_DIVERSITY_GINI  \\\n",
       "cutoff                                                                   \n",
       "10           13.258731                   0.999844             0.347801   \n",
       "\n",
       "       RATIO_SHANNON_ENTROPY RATIO_AVERAGE_POPULARITY RATIO_NOVELTY  \n",
       "cutoff                                                               \n",
       "10                  0.898546                 1.378108      0.303801  \n",
       "\n",
       "[1 rows x 27 columns]"
      ],
      "text/html": [
       "<div>\n",
       "<style scoped>\n",
       "    .dataframe tbody tr th:only-of-type {\n",
       "        vertical-align: middle;\n",
       "    }\n",
       "\n",
       "    .dataframe tbody tr th {\n",
       "        vertical-align: top;\n",
       "    }\n",
       "\n",
       "    .dataframe thead th {\n",
       "        text-align: right;\n",
       "    }\n",
       "</style>\n",
       "<table border=\"1\" class=\"dataframe\">\n",
       "  <thead>\n",
       "    <tr style=\"text-align: right;\">\n",
       "      <th></th>\n",
       "      <th>PRECISION</th>\n",
       "      <th>PRECISION_RECALL_MIN_DEN</th>\n",
       "      <th>RECALL</th>\n",
       "      <th>MAP</th>\n",
       "      <th>MAP_MIN_DEN</th>\n",
       "      <th>MRR</th>\n",
       "      <th>NDCG</th>\n",
       "      <th>F1</th>\n",
       "      <th>HIT_RATE</th>\n",
       "      <th>ARHR_ALL_HITS</th>\n",
       "      <th>...</th>\n",
       "      <th>COVERAGE_USER</th>\n",
       "      <th>COVERAGE_USER_HIT</th>\n",
       "      <th>USERS_IN_GT</th>\n",
       "      <th>DIVERSITY_GINI</th>\n",
       "      <th>SHANNON_ENTROPY</th>\n",
       "      <th>RATIO_DIVERSITY_HERFINDAHL</th>\n",
       "      <th>RATIO_DIVERSITY_GINI</th>\n",
       "      <th>RATIO_SHANNON_ENTROPY</th>\n",
       "      <th>RATIO_AVERAGE_POPULARITY</th>\n",
       "      <th>RATIO_NOVELTY</th>\n",
       "    </tr>\n",
       "    <tr>\n",
       "      <th>cutoff</th>\n",
       "      <th></th>\n",
       "      <th></th>\n",
       "      <th></th>\n",
       "      <th></th>\n",
       "      <th></th>\n",
       "      <th></th>\n",
       "      <th></th>\n",
       "      <th></th>\n",
       "      <th></th>\n",
       "      <th></th>\n",
       "      <th></th>\n",
       "      <th></th>\n",
       "      <th></th>\n",
       "      <th></th>\n",
       "      <th></th>\n",
       "      <th></th>\n",
       "      <th></th>\n",
       "      <th></th>\n",
       "      <th></th>\n",
       "      <th></th>\n",
       "      <th></th>\n",
       "    </tr>\n",
       "  </thead>\n",
       "  <tbody>\n",
       "    <tr>\n",
       "      <th>10</th>\n",
       "      <td>0.080037</td>\n",
       "      <td>0.121551</td>\n",
       "      <td>0.104794</td>\n",
       "      <td>0.038687</td>\n",
       "      <td>0.058017</td>\n",
       "      <td>0.232545</td>\n",
       "      <td>0.116348</td>\n",
       "      <td>0.090757</td>\n",
       "      <td>0.479359</td>\n",
       "      <td>0.296934</td>\n",
       "      <td>...</td>\n",
       "      <td>0.995775</td>\n",
       "      <td>0.477334</td>\n",
       "      <td>0.995775</td>\n",
       "      <td>0.210128</td>\n",
       "      <td>13.258731</td>\n",
       "      <td>0.999844</td>\n",
       "      <td>0.347801</td>\n",
       "      <td>0.898546</td>\n",
       "      <td>1.378108</td>\n",
       "      <td>0.303801</td>\n",
       "    </tr>\n",
       "  </tbody>\n",
       "</table>\n",
       "<p>1 rows × 27 columns</p>\n",
       "</div>"
      ]
     },
     "execution_count": 72,
     "metadata": {},
     "output_type": "execute_result"
    }
   ],
   "execution_count": 72
  },
  {
   "metadata": {
    "ExecuteTime": {
     "end_time": "2024-11-27T17:26:26.522464Z",
     "start_time": "2024-11-27T17:26:26.389016Z"
    }
   },
   "cell_type": "code",
   "source": "type(graphrec.W_sparse)",
   "id": "b552f294a821a722",
   "outputs": [
    {
     "data": {
      "text/plain": [
       "scipy.sparse.csr.csr_matrix"
      ]
     },
     "execution_count": 73,
     "metadata": {},
     "output_type": "execute_result"
    }
   ],
   "execution_count": 73
  },
  {
   "metadata": {
    "ExecuteTime": {
     "end_time": "2024-11-27T17:26:29.596647Z",
     "start_time": "2024-11-27T17:26:29.461787Z"
    }
   },
   "cell_type": "code",
   "source": "type(slimrec.W_sparse)",
   "id": "2cba4fdb7404d31e",
   "outputs": [
    {
     "data": {
      "text/plain": [
       "scipy.sparse.csr.csr_matrix"
      ]
     },
     "execution_count": 74,
     "metadata": {},
     "output_type": "execute_result"
    }
   ],
   "execution_count": 74
  },
  {
   "metadata": {},
   "cell_type": "markdown",
   "source": "",
   "id": "f7884b1060b03674"
  },
  {
   "metadata": {
    "ExecuteTime": {
     "end_time": "2024-11-27T23:21:05.143697Z",
     "start_time": "2024-11-27T23:21:04.418752Z"
    }
   },
   "cell_type": "code",
   "source": [
    "from Recommenders.HybridOptunable2 import HybridOptunable2\n",
    "\n",
    "\n",
    "def  obj_hybrid(optuna_trial):\n",
    "    print(\"helloworld\")\n",
    "    alpha = optuna_trial.suggest_float(\"alpha\", 0.1, 0.9)\n",
    "    recommender_object = HybridOptunable2(URM_trainval)\n",
    "    recommender_object.fit(alpha,graphrec, slimrec )\n",
    "    result_df, _ = evaluator_validation.evaluateRecommender(recommender_object)\n",
    "    return result_df.loc[10][ \"MAP\"]\n"
   ],
   "id": "e6f5a308d6d4b5b2",
   "outputs": [],
   "execution_count": 105
  },
  {
   "metadata": {
    "ExecuteTime": {
     "end_time": "2024-11-27T23:18:15.388652Z",
     "start_time": "2024-11-27T23:16:58.938260Z"
    }
   },
   "cell_type": "code",
   "source": [
    "study = optuna.create_study(direction=\"maximize\")\n",
    "save_results = SaveResults()\n",
    "study.optimize(obj_hybrid, callbacks= [save_results], n_trials=50)"
   ],
   "id": "ee9c8a2a1dc10444",
   "outputs": [
    {
     "name": "stderr",
     "output_type": "stream",
     "text": [
      "[I 2024-11-28 00:16:59,810] A new study created in memory with name: no-name-1b070d56-dc73-45a6-999e-0f7c0cb8f92b\n"
     ]
    },
    {
     "name": "stdout",
     "output_type": "stream",
     "text": [
      "helloworld\n",
      "EvaluatorHoldout: Processed 35585 (100.0%) in 29.46 sec. Users per second: 1208\n"
     ]
    },
    {
     "name": "stderr",
     "output_type": "stream",
     "text": [
      "[I 2024-11-28 00:17:29,427] Trial 0 finished with value: 0.05527284659355562 and parameters: {'alpha': 0.9916621698159258}. Best is trial 0 with value: 0.05527284659355562.\n"
     ]
    },
    {
     "name": "stdout",
     "output_type": "stream",
     "text": [
      "helloworld\n",
      "EvaluatorHoldout: Processed 35585 (100.0%) in 37.57 sec. Users per second: 947\n"
     ]
    },
    {
     "name": "stderr",
     "output_type": "stream",
     "text": [
      "[I 2024-11-28 00:18:07,141] Trial 1 finished with value: 0.05526220139125661 and parameters: {'alpha': 0.9947163606909499}. Best is trial 0 with value: 0.05527284659355562.\n"
     ]
    },
    {
     "name": "stdout",
     "output_type": "stream",
     "text": [
      "helloworld\n"
     ]
    },
    {
     "name": "stderr",
     "output_type": "stream",
     "text": [
      "[W 2024-11-28 00:18:15,060] Trial 2 failed with parameters: {'alpha': 0.9906790234253808} because of the following error: KeyboardInterrupt().\n",
      "Traceback (most recent call last):\n",
      "  File \"C:\\Users\\leoli\\miniconda3\\envs\\RecSysFramework\\lib\\site-packages\\optuna\\study\\_optimize.py\", line 197, in _run_trial\n",
      "    value_or_values = func(trial)\n",
      "  File \"C:\\Users\\leoli\\AppData\\Local\\Temp\\ipykernel_47260\\750185838.py\", line 9, in obj_hybrid\n",
      "    result_df, _ = evaluator_validation.evaluateRecommender(recommender_object)\n",
      "  File \"C:\\Users\\leoli\\OneDrive - Politecnico di Milano\\primo anno mag\\competition recsys\\RecSysProject\\Evaluation\\Evaluator.py\", line 276, in evaluateRecommender\n",
      "    results_dict = self._run_evaluation_on_selected_users(recommender_object, self.users_to_evaluate)\n",
      "  File \"C:\\Users\\leoli\\OneDrive - Politecnico di Milano\\primo anno mag\\competition recsys\\RecSysProject\\Evaluation\\Evaluator.py\", line 484, in _run_evaluation_on_selected_users\n",
      "    results_dict = self._compute_metrics_on_recommendation_list(test_user_batch_array = test_user_batch_array,\n",
      "  File \"C:\\Users\\leoli\\OneDrive - Politecnico di Milano\\primo anno mag\\competition recsys\\RecSysProject\\Evaluation\\Evaluator.py\", line 369, in _compute_metrics_on_recommendation_list\n",
      "    results_current_cutoff[EvaluatorMetrics.ARHR.value]                 += arhr_all_hits(is_relevant_current_cutoff)\n",
      "  File \"C:\\Users\\leoli\\OneDrive - Politecnico di Milano\\primo anno mag\\competition recsys\\RecSysProject\\Evaluation\\metrics.py\", line 206, in arhr_all_hits\n",
      "    arhr_score = is_relevant.dot(p_reciprocal)\n",
      "KeyboardInterrupt\n",
      "[W 2024-11-28 00:18:15,095] Trial 2 failed with value None.\n"
     ]
    },
    {
     "ename": "KeyboardInterrupt",
     "evalue": "",
     "output_type": "error",
     "traceback": [
      "\u001B[1;31m---------------------------------------------------------------------------\u001B[0m",
      "\u001B[1;31mKeyboardInterrupt\u001B[0m                         Traceback (most recent call last)",
      "Cell \u001B[1;32mIn[101], line 3\u001B[0m\n\u001B[0;32m      1\u001B[0m study \u001B[38;5;241m=\u001B[39m optuna\u001B[38;5;241m.\u001B[39mcreate_study(direction\u001B[38;5;241m=\u001B[39m\u001B[38;5;124m\"\u001B[39m\u001B[38;5;124mmaximize\u001B[39m\u001B[38;5;124m\"\u001B[39m)\n\u001B[0;32m      2\u001B[0m save_results \u001B[38;5;241m=\u001B[39m SaveResults()\n\u001B[1;32m----> 3\u001B[0m \u001B[43mstudy\u001B[49m\u001B[38;5;241;43m.\u001B[39;49m\u001B[43moptimize\u001B[49m\u001B[43m(\u001B[49m\u001B[43mobj_hybrid\u001B[49m\u001B[43m,\u001B[49m\u001B[43m \u001B[49m\u001B[43mcallbacks\u001B[49m\u001B[38;5;241;43m=\u001B[39;49m\u001B[43m \u001B[49m\u001B[43m[\u001B[49m\u001B[43msave_results\u001B[49m\u001B[43m]\u001B[49m\u001B[43m,\u001B[49m\u001B[43m \u001B[49m\u001B[43mn_trials\u001B[49m\u001B[38;5;241;43m=\u001B[39;49m\u001B[38;5;241;43m50\u001B[39;49m\u001B[43m)\u001B[49m\n",
      "File \u001B[1;32m~\\miniconda3\\envs\\RecSysFramework\\lib\\site-packages\\optuna\\study\\study.py:475\u001B[0m, in \u001B[0;36mStudy.optimize\u001B[1;34m(self, func, n_trials, timeout, n_jobs, catch, callbacks, gc_after_trial, show_progress_bar)\u001B[0m\n\u001B[0;32m    373\u001B[0m \u001B[38;5;28;01mdef\u001B[39;00m \u001B[38;5;21moptimize\u001B[39m(\n\u001B[0;32m    374\u001B[0m     \u001B[38;5;28mself\u001B[39m,\n\u001B[0;32m    375\u001B[0m     func: ObjectiveFuncType,\n\u001B[1;32m   (...)\u001B[0m\n\u001B[0;32m    382\u001B[0m     show_progress_bar: \u001B[38;5;28mbool\u001B[39m \u001B[38;5;241m=\u001B[39m \u001B[38;5;28;01mFalse\u001B[39;00m,\n\u001B[0;32m    383\u001B[0m ) \u001B[38;5;241m-\u001B[39m\u001B[38;5;241m>\u001B[39m \u001B[38;5;28;01mNone\u001B[39;00m:\n\u001B[0;32m    384\u001B[0m \u001B[38;5;250m    \u001B[39m\u001B[38;5;124;03m\"\"\"Optimize an objective function.\u001B[39;00m\n\u001B[0;32m    385\u001B[0m \n\u001B[0;32m    386\u001B[0m \u001B[38;5;124;03m    Optimization is done by choosing a suitable set of hyperparameter values from a given\u001B[39;00m\n\u001B[1;32m   (...)\u001B[0m\n\u001B[0;32m    473\u001B[0m \u001B[38;5;124;03m            If nested invocation of this method occurs.\u001B[39;00m\n\u001B[0;32m    474\u001B[0m \u001B[38;5;124;03m    \"\"\"\u001B[39;00m\n\u001B[1;32m--> 475\u001B[0m     \u001B[43m_optimize\u001B[49m\u001B[43m(\u001B[49m\n\u001B[0;32m    476\u001B[0m \u001B[43m        \u001B[49m\u001B[43mstudy\u001B[49m\u001B[38;5;241;43m=\u001B[39;49m\u001B[38;5;28;43mself\u001B[39;49m\u001B[43m,\u001B[49m\n\u001B[0;32m    477\u001B[0m \u001B[43m        \u001B[49m\u001B[43mfunc\u001B[49m\u001B[38;5;241;43m=\u001B[39;49m\u001B[43mfunc\u001B[49m\u001B[43m,\u001B[49m\n\u001B[0;32m    478\u001B[0m \u001B[43m        \u001B[49m\u001B[43mn_trials\u001B[49m\u001B[38;5;241;43m=\u001B[39;49m\u001B[43mn_trials\u001B[49m\u001B[43m,\u001B[49m\n\u001B[0;32m    479\u001B[0m \u001B[43m        \u001B[49m\u001B[43mtimeout\u001B[49m\u001B[38;5;241;43m=\u001B[39;49m\u001B[43mtimeout\u001B[49m\u001B[43m,\u001B[49m\n\u001B[0;32m    480\u001B[0m \u001B[43m        \u001B[49m\u001B[43mn_jobs\u001B[49m\u001B[38;5;241;43m=\u001B[39;49m\u001B[43mn_jobs\u001B[49m\u001B[43m,\u001B[49m\n\u001B[0;32m    481\u001B[0m \u001B[43m        \u001B[49m\u001B[43mcatch\u001B[49m\u001B[38;5;241;43m=\u001B[39;49m\u001B[38;5;28;43mtuple\u001B[39;49m\u001B[43m(\u001B[49m\u001B[43mcatch\u001B[49m\u001B[43m)\u001B[49m\u001B[43m \u001B[49m\u001B[38;5;28;43;01mif\u001B[39;49;00m\u001B[43m \u001B[49m\u001B[38;5;28;43misinstance\u001B[39;49m\u001B[43m(\u001B[49m\u001B[43mcatch\u001B[49m\u001B[43m,\u001B[49m\u001B[43m \u001B[49m\u001B[43mIterable\u001B[49m\u001B[43m)\u001B[49m\u001B[43m \u001B[49m\u001B[38;5;28;43;01melse\u001B[39;49;00m\u001B[43m \u001B[49m\u001B[43m(\u001B[49m\u001B[43mcatch\u001B[49m\u001B[43m,\u001B[49m\u001B[43m)\u001B[49m\u001B[43m,\u001B[49m\n\u001B[0;32m    482\u001B[0m \u001B[43m        \u001B[49m\u001B[43mcallbacks\u001B[49m\u001B[38;5;241;43m=\u001B[39;49m\u001B[43mcallbacks\u001B[49m\u001B[43m,\u001B[49m\n\u001B[0;32m    483\u001B[0m \u001B[43m        \u001B[49m\u001B[43mgc_after_trial\u001B[49m\u001B[38;5;241;43m=\u001B[39;49m\u001B[43mgc_after_trial\u001B[49m\u001B[43m,\u001B[49m\n\u001B[0;32m    484\u001B[0m \u001B[43m        \u001B[49m\u001B[43mshow_progress_bar\u001B[49m\u001B[38;5;241;43m=\u001B[39;49m\u001B[43mshow_progress_bar\u001B[49m\u001B[43m,\u001B[49m\n\u001B[0;32m    485\u001B[0m \u001B[43m    \u001B[49m\u001B[43m)\u001B[49m\n",
      "File \u001B[1;32m~\\miniconda3\\envs\\RecSysFramework\\lib\\site-packages\\optuna\\study\\_optimize.py:63\u001B[0m, in \u001B[0;36m_optimize\u001B[1;34m(study, func, n_trials, timeout, n_jobs, catch, callbacks, gc_after_trial, show_progress_bar)\u001B[0m\n\u001B[0;32m     61\u001B[0m \u001B[38;5;28;01mtry\u001B[39;00m:\n\u001B[0;32m     62\u001B[0m     \u001B[38;5;28;01mif\u001B[39;00m n_jobs \u001B[38;5;241m==\u001B[39m \u001B[38;5;241m1\u001B[39m:\n\u001B[1;32m---> 63\u001B[0m         \u001B[43m_optimize_sequential\u001B[49m\u001B[43m(\u001B[49m\n\u001B[0;32m     64\u001B[0m \u001B[43m            \u001B[49m\u001B[43mstudy\u001B[49m\u001B[43m,\u001B[49m\n\u001B[0;32m     65\u001B[0m \u001B[43m            \u001B[49m\u001B[43mfunc\u001B[49m\u001B[43m,\u001B[49m\n\u001B[0;32m     66\u001B[0m \u001B[43m            \u001B[49m\u001B[43mn_trials\u001B[49m\u001B[43m,\u001B[49m\n\u001B[0;32m     67\u001B[0m \u001B[43m            \u001B[49m\u001B[43mtimeout\u001B[49m\u001B[43m,\u001B[49m\n\u001B[0;32m     68\u001B[0m \u001B[43m            \u001B[49m\u001B[43mcatch\u001B[49m\u001B[43m,\u001B[49m\n\u001B[0;32m     69\u001B[0m \u001B[43m            \u001B[49m\u001B[43mcallbacks\u001B[49m\u001B[43m,\u001B[49m\n\u001B[0;32m     70\u001B[0m \u001B[43m            \u001B[49m\u001B[43mgc_after_trial\u001B[49m\u001B[43m,\u001B[49m\n\u001B[0;32m     71\u001B[0m \u001B[43m            \u001B[49m\u001B[43mreseed_sampler_rng\u001B[49m\u001B[38;5;241;43m=\u001B[39;49m\u001B[38;5;28;43;01mFalse\u001B[39;49;00m\u001B[43m,\u001B[49m\n\u001B[0;32m     72\u001B[0m \u001B[43m            \u001B[49m\u001B[43mtime_start\u001B[49m\u001B[38;5;241;43m=\u001B[39;49m\u001B[38;5;28;43;01mNone\u001B[39;49;00m\u001B[43m,\u001B[49m\n\u001B[0;32m     73\u001B[0m \u001B[43m            \u001B[49m\u001B[43mprogress_bar\u001B[49m\u001B[38;5;241;43m=\u001B[39;49m\u001B[43mprogress_bar\u001B[49m\u001B[43m,\u001B[49m\n\u001B[0;32m     74\u001B[0m \u001B[43m        \u001B[49m\u001B[43m)\u001B[49m\n\u001B[0;32m     75\u001B[0m     \u001B[38;5;28;01melse\u001B[39;00m:\n\u001B[0;32m     76\u001B[0m         \u001B[38;5;28;01mif\u001B[39;00m n_jobs \u001B[38;5;241m==\u001B[39m \u001B[38;5;241m-\u001B[39m\u001B[38;5;241m1\u001B[39m:\n",
      "File \u001B[1;32m~\\miniconda3\\envs\\RecSysFramework\\lib\\site-packages\\optuna\\study\\_optimize.py:160\u001B[0m, in \u001B[0;36m_optimize_sequential\u001B[1;34m(study, func, n_trials, timeout, catch, callbacks, gc_after_trial, reseed_sampler_rng, time_start, progress_bar)\u001B[0m\n\u001B[0;32m    157\u001B[0m         \u001B[38;5;28;01mbreak\u001B[39;00m\n\u001B[0;32m    159\u001B[0m \u001B[38;5;28;01mtry\u001B[39;00m:\n\u001B[1;32m--> 160\u001B[0m     frozen_trial \u001B[38;5;241m=\u001B[39m \u001B[43m_run_trial\u001B[49m\u001B[43m(\u001B[49m\u001B[43mstudy\u001B[49m\u001B[43m,\u001B[49m\u001B[43m \u001B[49m\u001B[43mfunc\u001B[49m\u001B[43m,\u001B[49m\u001B[43m \u001B[49m\u001B[43mcatch\u001B[49m\u001B[43m)\u001B[49m\n\u001B[0;32m    161\u001B[0m \u001B[38;5;28;01mfinally\u001B[39;00m:\n\u001B[0;32m    162\u001B[0m     \u001B[38;5;66;03m# The following line mitigates memory problems that can be occurred in some\u001B[39;00m\n\u001B[0;32m    163\u001B[0m     \u001B[38;5;66;03m# environments (e.g., services that use computing containers such as GitHub Actions).\u001B[39;00m\n\u001B[0;32m    164\u001B[0m     \u001B[38;5;66;03m# Please refer to the following PR for further details:\u001B[39;00m\n\u001B[0;32m    165\u001B[0m     \u001B[38;5;66;03m# https://github.com/optuna/optuna/pull/325.\u001B[39;00m\n\u001B[0;32m    166\u001B[0m     \u001B[38;5;28;01mif\u001B[39;00m gc_after_trial:\n",
      "File \u001B[1;32m~\\miniconda3\\envs\\RecSysFramework\\lib\\site-packages\\optuna\\study\\_optimize.py:248\u001B[0m, in \u001B[0;36m_run_trial\u001B[1;34m(study, func, catch)\u001B[0m\n\u001B[0;32m    241\u001B[0m         \u001B[38;5;28;01massert\u001B[39;00m \u001B[38;5;28;01mFalse\u001B[39;00m, \u001B[38;5;124m\"\u001B[39m\u001B[38;5;124mShould not reach.\u001B[39m\u001B[38;5;124m\"\u001B[39m\n\u001B[0;32m    243\u001B[0m \u001B[38;5;28;01mif\u001B[39;00m (\n\u001B[0;32m    244\u001B[0m     frozen_trial\u001B[38;5;241m.\u001B[39mstate \u001B[38;5;241m==\u001B[39m TrialState\u001B[38;5;241m.\u001B[39mFAIL\n\u001B[0;32m    245\u001B[0m     \u001B[38;5;129;01mand\u001B[39;00m func_err \u001B[38;5;129;01mis\u001B[39;00m \u001B[38;5;129;01mnot\u001B[39;00m \u001B[38;5;28;01mNone\u001B[39;00m\n\u001B[0;32m    246\u001B[0m     \u001B[38;5;129;01mand\u001B[39;00m \u001B[38;5;129;01mnot\u001B[39;00m \u001B[38;5;28misinstance\u001B[39m(func_err, catch)\n\u001B[0;32m    247\u001B[0m ):\n\u001B[1;32m--> 248\u001B[0m     \u001B[38;5;28;01mraise\u001B[39;00m func_err\n\u001B[0;32m    249\u001B[0m \u001B[38;5;28;01mreturn\u001B[39;00m frozen_trial\n",
      "File \u001B[1;32m~\\miniconda3\\envs\\RecSysFramework\\lib\\site-packages\\optuna\\study\\_optimize.py:197\u001B[0m, in \u001B[0;36m_run_trial\u001B[1;34m(study, func, catch)\u001B[0m\n\u001B[0;32m    195\u001B[0m \u001B[38;5;28;01mwith\u001B[39;00m get_heartbeat_thread(trial\u001B[38;5;241m.\u001B[39m_trial_id, study\u001B[38;5;241m.\u001B[39m_storage):\n\u001B[0;32m    196\u001B[0m     \u001B[38;5;28;01mtry\u001B[39;00m:\n\u001B[1;32m--> 197\u001B[0m         value_or_values \u001B[38;5;241m=\u001B[39m \u001B[43mfunc\u001B[49m\u001B[43m(\u001B[49m\u001B[43mtrial\u001B[49m\u001B[43m)\u001B[49m\n\u001B[0;32m    198\u001B[0m     \u001B[38;5;28;01mexcept\u001B[39;00m exceptions\u001B[38;5;241m.\u001B[39mTrialPruned \u001B[38;5;28;01mas\u001B[39;00m e:\n\u001B[0;32m    199\u001B[0m         \u001B[38;5;66;03m# TODO(mamu): Handle multi-objective cases.\u001B[39;00m\n\u001B[0;32m    200\u001B[0m         state \u001B[38;5;241m=\u001B[39m TrialState\u001B[38;5;241m.\u001B[39mPRUNED\n",
      "Cell \u001B[1;32mIn[100], line 9\u001B[0m, in \u001B[0;36mobj_hybrid\u001B[1;34m(optuna_trial)\u001B[0m\n\u001B[0;32m      7\u001B[0m recommender_object \u001B[38;5;241m=\u001B[39m HybridOptunable2(URM_trainval)\n\u001B[0;32m      8\u001B[0m recommender_object\u001B[38;5;241m.\u001B[39mfit(alpha,graphrec, slimrec )\n\u001B[1;32m----> 9\u001B[0m result_df, _ \u001B[38;5;241m=\u001B[39m \u001B[43mevaluator_validation\u001B[49m\u001B[38;5;241;43m.\u001B[39;49m\u001B[43mevaluateRecommender\u001B[49m\u001B[43m(\u001B[49m\u001B[43mrecommender_object\u001B[49m\u001B[43m)\u001B[49m\n\u001B[0;32m     10\u001B[0m \u001B[38;5;28;01mreturn\u001B[39;00m result_df\u001B[38;5;241m.\u001B[39mloc[\u001B[38;5;241m10\u001B[39m][ \u001B[38;5;124m\"\u001B[39m\u001B[38;5;124mMAP\u001B[39m\u001B[38;5;124m\"\u001B[39m]\n",
      "File \u001B[1;32m~\\OneDrive - Politecnico di Milano\\primo anno mag\\competition recsys\\RecSysProject\\Evaluation\\Evaluator.py:276\u001B[0m, in \u001B[0;36mEvaluator.evaluateRecommender\u001B[1;34m(self, recommender_object)\u001B[0m\n\u001B[0;32m    273\u001B[0m \u001B[38;5;28mself\u001B[39m\u001B[38;5;241m.\u001B[39m_start_time_print \u001B[38;5;241m=\u001B[39m time\u001B[38;5;241m.\u001B[39mtime()\n\u001B[0;32m    274\u001B[0m \u001B[38;5;28mself\u001B[39m\u001B[38;5;241m.\u001B[39m_n_users_evaluated \u001B[38;5;241m=\u001B[39m \u001B[38;5;241m0\u001B[39m\n\u001B[1;32m--> 276\u001B[0m results_dict \u001B[38;5;241m=\u001B[39m \u001B[38;5;28;43mself\u001B[39;49m\u001B[38;5;241;43m.\u001B[39;49m\u001B[43m_run_evaluation_on_selected_users\u001B[49m\u001B[43m(\u001B[49m\u001B[43mrecommender_object\u001B[49m\u001B[43m,\u001B[49m\u001B[43m \u001B[49m\u001B[38;5;28;43mself\u001B[39;49m\u001B[38;5;241;43m.\u001B[39;49m\u001B[43musers_to_evaluate\u001B[49m\u001B[43m)\u001B[49m\n\u001B[0;32m    279\u001B[0m \u001B[38;5;28;01mif\u001B[39;00m \u001B[38;5;28mself\u001B[39m\u001B[38;5;241m.\u001B[39m_n_users_evaluated \u001B[38;5;241m>\u001B[39m \u001B[38;5;241m0\u001B[39m:\n\u001B[0;32m    281\u001B[0m     \u001B[38;5;28;01mfor\u001B[39;00m cutoff \u001B[38;5;129;01min\u001B[39;00m \u001B[38;5;28mself\u001B[39m\u001B[38;5;241m.\u001B[39mcutoff_list:\n",
      "File \u001B[1;32m~\\OneDrive - Politecnico di Milano\\primo anno mag\\competition recsys\\RecSysProject\\Evaluation\\Evaluator.py:484\u001B[0m, in \u001B[0;36mEvaluatorHoldout._run_evaluation_on_selected_users\u001B[1;34m(self, recommender_object, users_to_evaluate, block_size)\u001B[0m\n\u001B[0;32m    475\u001B[0m     \u001B[38;5;66;03m# Compute predictions for a batch of users using vectorization, much more efficient than computing it one at a time\u001B[39;00m\n\u001B[0;32m    476\u001B[0m     recommended_items_batch_list, scores_batch \u001B[38;5;241m=\u001B[39m recommender_object\u001B[38;5;241m.\u001B[39mrecommend(test_user_batch_array,\n\u001B[0;32m    477\u001B[0m                                                               remove_seen_flag\u001B[38;5;241m=\u001B[39m\u001B[38;5;28mself\u001B[39m\u001B[38;5;241m.\u001B[39mexclude_seen,\n\u001B[0;32m    478\u001B[0m                                                               cutoff \u001B[38;5;241m=\u001B[39m \u001B[38;5;28mself\u001B[39m\u001B[38;5;241m.\u001B[39mmax_cutoff,\n\u001B[1;32m   (...)\u001B[0m\n\u001B[0;32m    481\u001B[0m                                                               return_scores \u001B[38;5;241m=\u001B[39m \u001B[38;5;28;01mTrue\u001B[39;00m\n\u001B[0;32m    482\u001B[0m                                                              )\n\u001B[1;32m--> 484\u001B[0m     results_dict \u001B[38;5;241m=\u001B[39m \u001B[38;5;28;43mself\u001B[39;49m\u001B[38;5;241;43m.\u001B[39;49m\u001B[43m_compute_metrics_on_recommendation_list\u001B[49m\u001B[43m(\u001B[49m\u001B[43mtest_user_batch_array\u001B[49m\u001B[43m \u001B[49m\u001B[38;5;241;43m=\u001B[39;49m\u001B[43m \u001B[49m\u001B[43mtest_user_batch_array\u001B[49m\u001B[43m,\u001B[49m\n\u001B[0;32m    485\u001B[0m \u001B[43m                                                 \u001B[49m\u001B[43mrecommended_items_batch_list\u001B[49m\u001B[43m \u001B[49m\u001B[38;5;241;43m=\u001B[39;49m\u001B[43m \u001B[49m\u001B[43mrecommended_items_batch_list\u001B[49m\u001B[43m,\u001B[49m\n\u001B[0;32m    486\u001B[0m \u001B[43m                                                 \u001B[49m\u001B[43mscores_batch\u001B[49m\u001B[43m \u001B[49m\u001B[38;5;241;43m=\u001B[39;49m\u001B[43m \u001B[49m\u001B[43mscores_batch\u001B[49m\u001B[43m,\u001B[49m\n\u001B[0;32m    487\u001B[0m \u001B[43m                                                 \u001B[49m\u001B[43mresults_dict\u001B[49m\u001B[43m \u001B[49m\u001B[38;5;241;43m=\u001B[39;49m\u001B[43m \u001B[49m\u001B[43mresults_dict\u001B[49m\u001B[43m)\u001B[49m\n\u001B[0;32m    490\u001B[0m \u001B[38;5;28;01mreturn\u001B[39;00m results_dict\n",
      "File \u001B[1;32m~\\OneDrive - Politecnico di Milano\\primo anno mag\\competition recsys\\RecSysProject\\Evaluation\\Evaluator.py:369\u001B[0m, in \u001B[0;36mEvaluator._compute_metrics_on_recommendation_list\u001B[1;34m(self, test_user_batch_array, recommended_items_batch_list, scores_batch, results_dict)\u001B[0m\n\u001B[0;32m    367\u001B[0m results_current_cutoff[EvaluatorMetrics\u001B[38;5;241m.\u001B[39mRECALL\u001B[38;5;241m.\u001B[39mvalue]               \u001B[38;5;241m+\u001B[39m\u001B[38;5;241m=\u001B[39m recall(is_relevant_current_cutoff, relevant_items)\n\u001B[0;32m    368\u001B[0m results_current_cutoff[EvaluatorMetrics\u001B[38;5;241m.\u001B[39mNDCG\u001B[38;5;241m.\u001B[39mvalue]                 \u001B[38;5;241m+\u001B[39m\u001B[38;5;241m=\u001B[39m ndcg(recommended_items_current_cutoff, relevant_items, relevance\u001B[38;5;241m=\u001B[39m\u001B[38;5;28mself\u001B[39m\u001B[38;5;241m.\u001B[39mget_user_test_ratings(test_user), at\u001B[38;5;241m=\u001B[39mcutoff)\n\u001B[1;32m--> 369\u001B[0m results_current_cutoff[EvaluatorMetrics\u001B[38;5;241m.\u001B[39mARHR\u001B[38;5;241m.\u001B[39mvalue]                 \u001B[38;5;241m+\u001B[39m\u001B[38;5;241m=\u001B[39m \u001B[43marhr_all_hits\u001B[49m\u001B[43m(\u001B[49m\u001B[43mis_relevant_current_cutoff\u001B[49m\u001B[43m)\u001B[49m\n\u001B[0;32m    371\u001B[0m results_current_cutoff[EvaluatorMetrics\u001B[38;5;241m.\u001B[39mMRR\u001B[38;5;241m.\u001B[39mvalue]\u001B[38;5;241m.\u001B[39madd_recommendations(is_relevant_current_cutoff)\n\u001B[0;32m    372\u001B[0m results_current_cutoff[EvaluatorMetrics\u001B[38;5;241m.\u001B[39mMAP\u001B[38;5;241m.\u001B[39mvalue]\u001B[38;5;241m.\u001B[39madd_recommendations(is_relevant_current_cutoff, relevant_items)\n",
      "File \u001B[1;32m~\\OneDrive - Politecnico di Milano\\primo anno mag\\competition recsys\\RecSysProject\\Evaluation\\metrics.py:206\u001B[0m, in \u001B[0;36marhr_all_hits\u001B[1;34m(is_relevant)\u001B[0m\n\u001B[0;32m    198\u001B[0m \u001B[38;5;28;01mdef\u001B[39;00m \u001B[38;5;21marhr_all_hits\u001B[39m(is_relevant):\n\u001B[0;32m    199\u001B[0m     \u001B[38;5;66;03m# average reciprocal hit-rank (ARHR) of all relevant items\u001B[39;00m\n\u001B[0;32m    200\u001B[0m     \u001B[38;5;66;03m# As opposed to MRR, ARHR takes into account all relevant items and not just the first\u001B[39;00m\n\u001B[0;32m    201\u001B[0m     \u001B[38;5;66;03m# pag 17\u001B[39;00m\n\u001B[0;32m    202\u001B[0m     \u001B[38;5;66;03m# http://glaros.dtc.umn.edu/gkhome/fetch/papers/itemrsTOIS04.pdf\u001B[39;00m\n\u001B[0;32m    203\u001B[0m     \u001B[38;5;66;03m# https://emunix.emich.edu/~sverdlik/COSC562/ItemBasedTopTen.pdf\u001B[39;00m\n\u001B[0;32m    205\u001B[0m     p_reciprocal \u001B[38;5;241m=\u001B[39m \u001B[38;5;241m1\u001B[39m\u001B[38;5;241m/\u001B[39mnp\u001B[38;5;241m.\u001B[39marange(\u001B[38;5;241m1\u001B[39m,\u001B[38;5;28mlen\u001B[39m(is_relevant)\u001B[38;5;241m+\u001B[39m\u001B[38;5;241m1\u001B[39m, \u001B[38;5;241m1.0\u001B[39m, dtype\u001B[38;5;241m=\u001B[39mnp\u001B[38;5;241m.\u001B[39mfloat64)\n\u001B[1;32m--> 206\u001B[0m     arhr_score \u001B[38;5;241m=\u001B[39m \u001B[43mis_relevant\u001B[49m\u001B[38;5;241;43m.\u001B[39;49m\u001B[43mdot\u001B[49m\u001B[43m(\u001B[49m\u001B[43mp_reciprocal\u001B[49m\u001B[43m)\u001B[49m\n\u001B[0;32m    208\u001B[0m     \u001B[38;5;28;01massert\u001B[39;00m \u001B[38;5;129;01mnot\u001B[39;00m np\u001B[38;5;241m.\u001B[39misnan(arhr_score), \u001B[38;5;124m\"\u001B[39m\u001B[38;5;124mARHR_all_hits is NaN\u001B[39m\u001B[38;5;124m\"\u001B[39m\n\u001B[0;32m    209\u001B[0m     \u001B[38;5;28;01mreturn\u001B[39;00m arhr_score\n",
      "\u001B[1;31mKeyboardInterrupt\u001B[0m: "
     ]
    }
   ],
   "execution_count": 101
  },
  {
   "metadata": {
    "ExecuteTime": {
     "end_time": "2024-11-26T22:17:09.176618Z",
     "start_time": "2024-11-26T21:04:10.768539Z"
    }
   },
   "cell_type": "code",
   "source": [
    "from main import evaluator_validation, save_results\n",
    "\n",
    "evaluator_validation = EvaluatorHoldout(URM_test, cutoff_list=[10])\n",
    "def obj_hybrid(optuna_trial):\n",
    "    \n",
    "    scoreshybridrecommender = ScoresHybridRecommender(URM_trainval, slimrec, graphrec)\n",
    "    hyper={\"alpha\": optuna_trial.suggest_float(\"alpha\", 0.4, 1)}\n",
    "    scoreshybridrecommender.fit(hyper)\n",
    "    result_df, _ = evaluator_validation.evaluateRecommender(scoreshybridrecommender)\n",
    "    return result_df.loc[10, \"MAP\"]\n",
    "\n"
   ],
   "id": "f39c8a0953d8bca2",
   "outputs": [
    {
     "name": "stdout",
     "output_type": "stream",
     "text": [
      "38120\n",
      "   user_id  item_id  data\n",
      "0        0        0   1.0\n",
      "1        0        2   1.0\n",
      "2        0      120   1.0\n",
      "3        0      128   1.0\n",
      "38120\n",
      "   user_id  item_id  data\n",
      "0        0        0   1.0\n",
      "1        0        2   1.0\n",
      "2        0      120   1.0\n",
      "3        0      128   1.0\n",
      "35736 38121\n",
      "Warning: 170 (0.48 %) of 35736 users have no sampled items\n",
      "Warning: 444 (1.24 %) of 35736 users have no sampled items\n",
      "EvaluatorHoldout: Ignoring 170 ( 0.5%) Users that have less than 1 test interactions\n",
      "SLIMElasticNetRecommender: Processed 2433 ( 6.4%) in 5.00 min. Items per second: 8.10\n",
      "SLIMElasticNetRecommender: Processed 5426 (14.2%) in 10.00 min. Items per second: 9.04\n",
      "SLIMElasticNetRecommender: Processed 8279 (21.7%) in 15.00 min. Items per second: 9.20\n",
      "SLIMElasticNetRecommender: Processed 11093 (29.1%) in 20.01 min. Items per second: 9.24\n",
      "SLIMElasticNetRecommender: Processed 14033 (36.8%) in 25.01 min. Items per second: 9.35\n",
      "SLIMElasticNetRecommender: Processed 16818 (44.1%) in 30.01 min. Items per second: 9.34\n",
      "SLIMElasticNetRecommender: Processed 19564 (51.3%) in 35.01 min. Items per second: 9.31\n",
      "SLIMElasticNetRecommender: Processed 22450 (58.9%) in 40.01 min. Items per second: 9.35\n",
      "SLIMElasticNetRecommender: Processed 25286 (66.3%) in 45.01 min. Items per second: 9.36\n",
      "SLIMElasticNetRecommender: Processed 28246 (74.1%) in 50.01 min. Items per second: 9.41\n",
      "SLIMElasticNetRecommender: Processed 30138 (79.1%) in 55.01 min. Items per second: 9.13\n",
      "SLIMElasticNetRecommender: Processed 32606 (85.5%) in 1.00 hour. Items per second: 9.06\n",
      "SLIMElasticNetRecommender: Processed 34904 (91.6%) in 1.08 hour. Items per second: 8.95\n",
      "SLIMElasticNetRecommender: Processed 37331 (97.9%) in 1.17 hour. Items per second: 8.89\n",
      "SLIMElasticNetRecommender: Processed 38121 (100.0%) in 1.20 hour. Items per second: 8.86\n",
      "EvaluatorHoldout: Processed 35566 (100.0%) in 31.63 sec. Users per second: 1124\n",
      "0.0\n",
      "EvaluatorHoldout: Ignoring 441 ( 1.2%) Users that have less than 1 test interactions\n"
     ]
    }
   ],
   "execution_count": 17
  },
  {
   "metadata": {
    "ExecuteTime": {
     "end_time": "2024-11-26T22:19:24.233766Z",
     "start_time": "2024-11-26T22:18:45.057282Z"
    }
   },
   "cell_type": "code",
   "source": "",
   "id": "7909a60edf749ceb",
   "outputs": [
    {
     "name": "stdout",
     "output_type": "stream",
     "text": [
      "EvaluatorHoldout: Processed 35295 (100.0%) in 39.13 sec. Users per second: 902\n"
     ]
    },
    {
     "data": {
      "text/plain": [
       "       PRECISION PRECISION_RECALL_MIN_DEN    RECALL     MAP MAP_MIN_DEN  \\\n",
       "cutoff                                                                    \n",
       "10      0.071421                 0.125587  0.113463  0.0334     0.05792   \n",
       "\n",
       "             MRR      NDCG        F1  HIT_RATE ARHR_ALL_HITS  ...  \\\n",
       "cutoff                                                        ...   \n",
       "10      0.212547  0.112895  0.087662  0.451027      0.264231  ...   \n",
       "\n",
       "       COVERAGE_USER COVERAGE_USER_HIT USERS_IN_GT DIVERSITY_GINI  \\\n",
       "cutoff                                                              \n",
       "10           0.98766          0.445461     0.98766       0.219242   \n",
       "\n",
       "       SHANNON_ENTROPY RATIO_DIVERSITY_HERFINDAHL RATIO_DIVERSITY_GINI  \\\n",
       "cutoff                                                                   \n",
       "10           13.331373                   0.999861             0.362887   \n",
       "\n",
       "       RATIO_SHANNON_ENTROPY RATIO_AVERAGE_POPULARITY RATIO_NOVELTY  \n",
       "cutoff                                                               \n",
       "10                  0.903469                 1.375212      0.303936  \n",
       "\n",
       "[1 rows x 27 columns]"
      ],
      "text/html": [
       "<div>\n",
       "<style scoped>\n",
       "    .dataframe tbody tr th:only-of-type {\n",
       "        vertical-align: middle;\n",
       "    }\n",
       "\n",
       "    .dataframe tbody tr th {\n",
       "        vertical-align: top;\n",
       "    }\n",
       "\n",
       "    .dataframe thead th {\n",
       "        text-align: right;\n",
       "    }\n",
       "</style>\n",
       "<table border=\"1\" class=\"dataframe\">\n",
       "  <thead>\n",
       "    <tr style=\"text-align: right;\">\n",
       "      <th></th>\n",
       "      <th>PRECISION</th>\n",
       "      <th>PRECISION_RECALL_MIN_DEN</th>\n",
       "      <th>RECALL</th>\n",
       "      <th>MAP</th>\n",
       "      <th>MAP_MIN_DEN</th>\n",
       "      <th>MRR</th>\n",
       "      <th>NDCG</th>\n",
       "      <th>F1</th>\n",
       "      <th>HIT_RATE</th>\n",
       "      <th>ARHR_ALL_HITS</th>\n",
       "      <th>...</th>\n",
       "      <th>COVERAGE_USER</th>\n",
       "      <th>COVERAGE_USER_HIT</th>\n",
       "      <th>USERS_IN_GT</th>\n",
       "      <th>DIVERSITY_GINI</th>\n",
       "      <th>SHANNON_ENTROPY</th>\n",
       "      <th>RATIO_DIVERSITY_HERFINDAHL</th>\n",
       "      <th>RATIO_DIVERSITY_GINI</th>\n",
       "      <th>RATIO_SHANNON_ENTROPY</th>\n",
       "      <th>RATIO_AVERAGE_POPULARITY</th>\n",
       "      <th>RATIO_NOVELTY</th>\n",
       "    </tr>\n",
       "    <tr>\n",
       "      <th>cutoff</th>\n",
       "      <th></th>\n",
       "      <th></th>\n",
       "      <th></th>\n",
       "      <th></th>\n",
       "      <th></th>\n",
       "      <th></th>\n",
       "      <th></th>\n",
       "      <th></th>\n",
       "      <th></th>\n",
       "      <th></th>\n",
       "      <th></th>\n",
       "      <th></th>\n",
       "      <th></th>\n",
       "      <th></th>\n",
       "      <th></th>\n",
       "      <th></th>\n",
       "      <th></th>\n",
       "      <th></th>\n",
       "      <th></th>\n",
       "      <th></th>\n",
       "      <th></th>\n",
       "    </tr>\n",
       "  </thead>\n",
       "  <tbody>\n",
       "    <tr>\n",
       "      <th>10</th>\n",
       "      <td>0.071421</td>\n",
       "      <td>0.125587</td>\n",
       "      <td>0.113463</td>\n",
       "      <td>0.0334</td>\n",
       "      <td>0.05792</td>\n",
       "      <td>0.212547</td>\n",
       "      <td>0.112895</td>\n",
       "      <td>0.087662</td>\n",
       "      <td>0.451027</td>\n",
       "      <td>0.264231</td>\n",
       "      <td>...</td>\n",
       "      <td>0.98766</td>\n",
       "      <td>0.445461</td>\n",
       "      <td>0.98766</td>\n",
       "      <td>0.219242</td>\n",
       "      <td>13.331373</td>\n",
       "      <td>0.999861</td>\n",
       "      <td>0.362887</td>\n",
       "      <td>0.903469</td>\n",
       "      <td>1.375212</td>\n",
       "      <td>0.303936</td>\n",
       "    </tr>\n",
       "  </tbody>\n",
       "</table>\n",
       "<p>1 rows × 27 columns</p>\n",
       "</div>"
      ]
     },
     "execution_count": 19,
     "metadata": {},
     "output_type": "execute_result"
    }
   ],
   "execution_count": 19
  }
 ],
 "metadata": {
  "kernelspec": {
   "display_name": "Python 3",
   "language": "python",
   "name": "python3"
  },
  "language_info": {
   "codemirror_mode": {
    "name": "ipython",
    "version": 2
   },
   "file_extension": ".py",
   "mimetype": "text/x-python",
   "name": "python",
   "nbconvert_exporter": "python",
   "pygments_lexer": "ipython2",
   "version": "2.7.6"
  }
 },
 "nbformat": 4,
 "nbformat_minor": 5
}
