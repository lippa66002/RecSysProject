{
 "cells": [
  {
   "metadata": {},
   "cell_type": "markdown",
   "source": "Import Libraries and data",
   "id": "105e1d7ac542e140"
  },
  {
   "cell_type": "code",
   "id": "initial_id",
   "metadata": {
    "collapsed": true,
    "tags": [
     "kk"
    ],
    "ExecuteTime": {
     "end_time": "2024-11-26T16:11:31.262448Z",
     "start_time": "2024-11-26T16:10:54.630755Z"
    }
   },
   "source": [
    "import optuna\n",
    "from scipy.sparse import csr_matrix\n",
    "from sklearn.ensemble import RandomForestRegressor\n",
    "import matplotlib.pyplot as plt\n",
    "from Optimize.SaveResults import SaveResults\n",
    "from Optimize.slim import objective_function_SLIM\n",
    "from Recommenders.EASE_R.EASE_R_Recommender import EASE_R_Recommender\n",
    "from Recommenders.GraphBased.RP3betaRecommender import RP3betaRecommender\n",
    "from Recommenders.KNN.ItemKNNCFRecommender import ItemKNNCFRecommender\n",
    "import pandas as pd\n",
    "import scipy.sparse as sps\n",
    "from Evaluation.Evaluator import EvaluatorHoldout\n",
    "from Data_manager.split_functions.split_train_validation_random_holdout import split_train_in_two_percentage_global_sample\n",
    "from Data_manager.Movielens.Movielens1MReader import Movielens1MReader\n",
    "from Recommenders.KNN.ItemKNN_CFCBF_Hybrid_Recommender import ItemKNN_CFCBF_Hybrid_Recommender\n",
    "from Recommenders.KNN.UserKNNCFRecommender import UserKNNCFRecommender\n",
    "from Recommenders.MatrixFactorization.Cython.MatrixFactorization_Cython import MatrixFactorization_SVDpp_Cython\n",
    "from Recommenders.SLIM.Cython.SLIM_BPR_Cython import SLIM_BPR_Cython\n",
    "import Optimize\n",
    "from Recommenders.SLIM.SLIMElasticNetRecommender import SLIMElasticNetRecommender\n",
    "\n",
    "# Press Maiusc+F10 to execute it or replace it with your code.\n",
    "# Press Double Shift to search everywhere for classes, files, tool windows, actions, and settings.\n",
    "\n",
    "\n",
    "URM_all_dataframe = pd.read_csv(filepath_or_buffer=\"Data/data_train.csv\",\n",
    "                                sep=\",\",\n",
    "                                dtype={0:int, 1:int, 2:float},\n",
    "                                engine='python')\n",
    "users = pd.read_csv(filepath_or_buffer=\"Data/data_target_users_test.csv\")\n",
    "\n",
    "ICM = pd.read_csv(filepath_or_buffer=\"Data/data_ICM_metadata.csv\",\n",
    "                                sep=\",\",\n",
    "                                dtype={0:int, 1:int, 2:float},\n",
    "                                engine='python')\n",
    "\n",
    "\n",
    "\n",
    "\n",
    "n_interactions = len(URM_all_dataframe)\n",
    "mapped_id, original_id = pd.factorize(URM_all_dataframe[\"user_id\"].unique())\n",
    "user_original_ID_to_index = pd.Series(mapped_id, index=original_id)\n",
    "mapped_id, original_id = pd.factorize(URM_all_dataframe[\"item_id\"].unique())\n",
    "item_original_ID_to_index = pd.Series(mapped_id, index=original_id)\n",
    "print(URM_all_dataframe['item_id'].max())\n",
    "print(URM_all_dataframe.head(4))\n",
    "#URM_all_dataframe[\"user_id\"] = URM_all_dataframe[\"user_id\"].map(user_original_ID_to_index)\n",
    "#URM_all_dataframe[\"item_id\"] = URM_all_dataframe[\"item_id\"].map(item_original_ID_to_index)\n",
    "print(URM_all_dataframe['item_id'].max())\n",
    "print(URM_all_dataframe.head(4))\n",
    "userID_unique = URM_all_dataframe[\"user_id\"].unique()\n",
    "itemID_unique = URM_all_dataframe[\"item_id\"].unique()\n",
    "n_users = len(userID_unique)\n",
    "n_items = len(itemID_unique)\n",
    "print(n_users, n_items)\n",
    "URM_all = sps.coo_matrix((URM_all_dataframe[\"data\"].values,\n",
    "                          (URM_all_dataframe[\"user_id\"].values, URM_all_dataframe[\"item_id\"].values)))\n",
    "n_items = ICM[\"item_id\"].max() + 1\n",
    "n_features = ICM[\"feature_id\"].max() + 1\n",
    "ICM_all = sps.coo_matrix((ICM[\"data\"].values, (ICM[\"item_id\"].values, ICM[\"feature_id\"].values)) , shape=(n_items, n_features))\n",
    "\n",
    "URM_all.tocsr()\n",
    "ICM_all.tocsr()\n",
    "\n",
    "URM_trainval, URM_test = split_train_in_two_percentage_global_sample(URM_all, train_percentage = 0.8)\n",
    "URM_train, URM_validation = split_train_in_two_percentage_global_sample(URM_trainval, train_percentage = 0.8)\n"
   ],
   "outputs": [
    {
     "name": "stderr",
     "output_type": "stream",
     "text": [
      "C:\\Users\\leoli\\miniconda3\\envs\\RecSysFramework\\lib\\site-packages\\scipy\\__init__.py:138: UserWarning: A NumPy version >=1.16.5 and <1.23.0 is required for this version of SciPy (detected version 1.26.4)\n",
      "  warnings.warn(f\"A NumPy version >={np_minversion} and <{np_maxversion} is required for this version of \"\n"
     ]
    },
    {
     "name": "stdout",
     "output_type": "stream",
     "text": [
      "38120\n",
      "   user_id  item_id  data\n",
      "0        0        0   1.0\n",
      "1        0        2   1.0\n",
      "2        0      120   1.0\n",
      "3        0      128   1.0\n",
      "38120\n",
      "   user_id  item_id  data\n",
      "0        0        0   1.0\n",
      "1        0        2   1.0\n",
      "2        0      120   1.0\n",
      "3        0      128   1.0\n",
      "35736 38121\n",
      "Warning: 151 (0.42 %) of 35736 users have no sampled items\n",
      "Warning: 441 (1.23 %) of 35736 users have no sampled items\n"
     ]
    }
   ],
   "execution_count": 2
  },
  {
   "metadata": {},
   "cell_type": "markdown",
   "source": "",
   "id": "809e841652986ac"
  },
  {
   "metadata": {},
   "cell_type": "markdown",
   "source": "",
   "id": "d61125d99a802940"
  },
  {
   "metadata": {
    "ExecuteTime": {
     "end_time": "2024-11-26T17:06:12.357232Z",
     "start_time": "2024-11-26T16:11:45.672269Z"
    }
   },
   "cell_type": "code",
   "source": [
    "slimrec = SLIMElasticNetRecommender(URM_trainval)\n",
    "slimrec.fit(alpha= 0.0002021210695683939, topK= 856, l1_ratio= 0.23722934371355184)"
   ],
   "id": "8cd55fb6cdf5a7c7",
   "outputs": [
    {
     "name": "stdout",
     "output_type": "stream",
     "text": [
      "SLIMElasticNetRecommender: Processed 3036 ( 8.0%) in 5.00 min. Items per second: 10.11\n",
      "SLIMElasticNetRecommender: Processed 6360 (16.7%) in 10.00 min. Items per second: 10.60\n",
      "SLIMElasticNetRecommender: Processed 10180 (26.7%) in 15.00 min. Items per second: 11.31\n",
      "SLIMElasticNetRecommender: Processed 13697 (35.9%) in 20.00 min. Items per second: 11.41\n",
      "SLIMElasticNetRecommender: Processed 17583 (46.1%) in 25.00 min. Items per second: 11.72\n",
      "SLIMElasticNetRecommender: Processed 21573 (56.6%) in 30.00 min. Items per second: 11.98\n",
      "SLIMElasticNetRecommender: Processed 25087 (65.8%) in 35.00 min. Items per second: 11.94\n",
      "SLIMElasticNetRecommender: Processed 28611 (75.1%) in 40.01 min. Items per second: 11.92\n",
      "SLIMElasticNetRecommender: Processed 31115 (81.6%) in 45.01 min. Items per second: 11.52\n",
      "SLIMElasticNetRecommender: Processed 34638 (90.9%) in 50.01 min. Items per second: 11.54\n",
      "SLIMElasticNetRecommender: Processed 38121 (100.0%) in 54.44 min. Items per second: 11.67\n"
     ]
    }
   ],
   "execution_count": 3
  },
  {
   "metadata": {},
   "cell_type": "markdown",
   "source": "",
   "id": "45db684883ff12c0"
  },
  {
   "metadata": {
    "ExecuteTime": {
     "end_time": "2024-11-26T18:42:24.514061Z",
     "start_time": "2024-11-26T18:41:59.184867Z"
    }
   },
   "cell_type": "code",
   "source": [
    "from Recommenders.ScoresHybridRecommender import ScoresHybridRecommender\n",
    "evaluator_validation = EvaluatorHoldout(URM_test, cutoff_list=[10])\n",
    "\n",
    "result_df, _ = evaluator_validation.evaluateRecommender(slimrec)"
   ],
   "id": "c727a986ed8f32f5",
   "outputs": [
    {
     "name": "stdout",
     "output_type": "stream",
     "text": [
      "EvaluatorHoldout: Ignoring 441 ( 1.2%) Users that have less than 1 test interactions\n",
      "EvaluatorHoldout: Processed 35295 (100.0%) in 25.26 sec. Users per second: 1398\n"
     ]
    }
   ],
   "execution_count": 8
  },
  {
   "metadata": {
    "ExecuteTime": {
     "end_time": "2024-11-26T18:43:40.980626Z",
     "start_time": "2024-11-26T18:43:40.918358Z"
    }
   },
   "cell_type": "code",
   "source": "result_df",
   "id": "7d672c281fa5f1a6",
   "outputs": [
    {
     "data": {
      "text/plain": [
       "       PRECISION PRECISION_RECALL_MIN_DEN    RECALL       MAP MAP_MIN_DEN  \\\n",
       "cutoff                                                                      \n",
       "10      0.070664                 0.124362  0.112386  0.033023    0.057272   \n",
       "\n",
       "             MRR      NDCG        F1  HIT_RATE ARHR_ALL_HITS  ...  \\\n",
       "cutoff                                                        ...   \n",
       "10      0.210961  0.111809  0.086771  0.447967       0.26178  ...   \n",
       "\n",
       "       COVERAGE_USER COVERAGE_USER_HIT USERS_IN_GT DIVERSITY_GINI  \\\n",
       "cutoff                                                              \n",
       "10           0.98766          0.442439     0.98766       0.219437   \n",
       "\n",
       "       SHANNON_ENTROPY RATIO_DIVERSITY_HERFINDAHL RATIO_DIVERSITY_GINI  \\\n",
       "cutoff                                                                   \n",
       "10           13.304157                    0.99984             0.363209   \n",
       "\n",
       "       RATIO_SHANNON_ENTROPY RATIO_AVERAGE_POPULARITY RATIO_NOVELTY  \n",
       "cutoff                                                               \n",
       "10                  0.901625                 1.467737       0.30266  \n",
       "\n",
       "[1 rows x 27 columns]"
      ],
      "text/html": [
       "<div>\n",
       "<style scoped>\n",
       "    .dataframe tbody tr th:only-of-type {\n",
       "        vertical-align: middle;\n",
       "    }\n",
       "\n",
       "    .dataframe tbody tr th {\n",
       "        vertical-align: top;\n",
       "    }\n",
       "\n",
       "    .dataframe thead th {\n",
       "        text-align: right;\n",
       "    }\n",
       "</style>\n",
       "<table border=\"1\" class=\"dataframe\">\n",
       "  <thead>\n",
       "    <tr style=\"text-align: right;\">\n",
       "      <th></th>\n",
       "      <th>PRECISION</th>\n",
       "      <th>PRECISION_RECALL_MIN_DEN</th>\n",
       "      <th>RECALL</th>\n",
       "      <th>MAP</th>\n",
       "      <th>MAP_MIN_DEN</th>\n",
       "      <th>MRR</th>\n",
       "      <th>NDCG</th>\n",
       "      <th>F1</th>\n",
       "      <th>HIT_RATE</th>\n",
       "      <th>ARHR_ALL_HITS</th>\n",
       "      <th>...</th>\n",
       "      <th>COVERAGE_USER</th>\n",
       "      <th>COVERAGE_USER_HIT</th>\n",
       "      <th>USERS_IN_GT</th>\n",
       "      <th>DIVERSITY_GINI</th>\n",
       "      <th>SHANNON_ENTROPY</th>\n",
       "      <th>RATIO_DIVERSITY_HERFINDAHL</th>\n",
       "      <th>RATIO_DIVERSITY_GINI</th>\n",
       "      <th>RATIO_SHANNON_ENTROPY</th>\n",
       "      <th>RATIO_AVERAGE_POPULARITY</th>\n",
       "      <th>RATIO_NOVELTY</th>\n",
       "    </tr>\n",
       "    <tr>\n",
       "      <th>cutoff</th>\n",
       "      <th></th>\n",
       "      <th></th>\n",
       "      <th></th>\n",
       "      <th></th>\n",
       "      <th></th>\n",
       "      <th></th>\n",
       "      <th></th>\n",
       "      <th></th>\n",
       "      <th></th>\n",
       "      <th></th>\n",
       "      <th></th>\n",
       "      <th></th>\n",
       "      <th></th>\n",
       "      <th></th>\n",
       "      <th></th>\n",
       "      <th></th>\n",
       "      <th></th>\n",
       "      <th></th>\n",
       "      <th></th>\n",
       "      <th></th>\n",
       "      <th></th>\n",
       "    </tr>\n",
       "  </thead>\n",
       "  <tbody>\n",
       "    <tr>\n",
       "      <th>10</th>\n",
       "      <td>0.070664</td>\n",
       "      <td>0.124362</td>\n",
       "      <td>0.112386</td>\n",
       "      <td>0.033023</td>\n",
       "      <td>0.057272</td>\n",
       "      <td>0.210961</td>\n",
       "      <td>0.111809</td>\n",
       "      <td>0.086771</td>\n",
       "      <td>0.447967</td>\n",
       "      <td>0.26178</td>\n",
       "      <td>...</td>\n",
       "      <td>0.98766</td>\n",
       "      <td>0.442439</td>\n",
       "      <td>0.98766</td>\n",
       "      <td>0.219437</td>\n",
       "      <td>13.304157</td>\n",
       "      <td>0.99984</td>\n",
       "      <td>0.363209</td>\n",
       "      <td>0.901625</td>\n",
       "      <td>1.467737</td>\n",
       "      <td>0.30266</td>\n",
       "    </tr>\n",
       "  </tbody>\n",
       "</table>\n",
       "<p>1 rows × 27 columns</p>\n",
       "</div>"
      ]
     },
     "execution_count": 10,
     "metadata": {},
     "output_type": "execute_result"
    }
   ],
   "execution_count": 10
  },
  {
   "metadata": {
    "ExecuteTime": {
     "end_time": "2024-11-26T17:06:51.218670Z",
     "start_time": "2024-11-26T17:06:38.414450Z"
    }
   },
   "cell_type": "code",
   "source": [
    "graphrec = RP3betaRecommender(URM_trainval)\n",
    "graphrec.fit(topK= 12, alpha= 0.5769111396825488, beta= 0.0019321798490027353)"
   ],
   "id": "d31dbdf76a9a38a9",
   "outputs": [
    {
     "name": "stdout",
     "output_type": "stream",
     "text": [
      "RP3betaRecommender: Similarity column 38121 (100.0%), 3182.69 column/sec. Elapsed time 11.98 sec\n"
     ]
    }
   ],
   "execution_count": 6
  },
  {
   "metadata": {},
   "cell_type": "markdown",
   "source": "",
   "id": "153c02b790207e0d"
  },
  {
   "metadata": {
    "ExecuteTime": {
     "end_time": "2024-11-26T18:45:50.738407Z",
     "start_time": "2024-11-26T18:44:53.642504Z"
    }
   },
   "cell_type": "code",
   "source": [
    "from Recommenders.ScoresHybridRecommender import ScoresHybridRecommender\n",
    "evaluator_validation = EvaluatorHoldout(URM_test, cutoff_list=[10])\n",
    "\n",
    "result_df, _ = evaluator_validation.evaluateRecommender(graphrec)"
   ],
   "id": "148c02f7de57f41e",
   "outputs": [
    {
     "name": "stdout",
     "output_type": "stream",
     "text": [
      "EvaluatorHoldout: Ignoring 441 ( 1.2%) Users that have less than 1 test interactions\n",
      "EvaluatorHoldout: Processed 35295 (100.0%) in 31.15 sec. Users per second: 1133\n",
      "EvaluatorHoldout: Processed 35295 (100.0%) in 25.87 sec. Users per second: 1364\n"
     ]
    }
   ],
   "execution_count": 12
  },
  {
   "metadata": {
    "ExecuteTime": {
     "end_time": "2024-11-26T18:46:21.537860Z",
     "start_time": "2024-11-26T18:46:21.509385Z"
    }
   },
   "cell_type": "code",
   "source": "result_df",
   "id": "6df246104aa89cd5",
   "outputs": [
    {
     "data": {
      "text/plain": [
       "       PRECISION PRECISION_RECALL_MIN_DEN    RECALL       MAP MAP_MIN_DEN  \\\n",
       "cutoff                                                                      \n",
       "10        0.0651                 0.114815  0.103965  0.030237    0.052918   \n",
       "\n",
       "             MRR      NDCG        F1  HIT_RATE ARHR_ALL_HITS  ...  \\\n",
       "cutoff                                                        ...   \n",
       "10      0.198011  0.103763  0.080065  0.424791      0.242989  ...   \n",
       "\n",
       "       COVERAGE_USER COVERAGE_USER_HIT USERS_IN_GT DIVERSITY_GINI  \\\n",
       "cutoff                                                              \n",
       "10           0.98766          0.419549     0.98766       0.210276   \n",
       "\n",
       "       SHANNON_ENTROPY RATIO_DIVERSITY_HERFINDAHL RATIO_DIVERSITY_GINI  \\\n",
       "cutoff                                                                   \n",
       "10           13.259964                   0.999844             0.348046   \n",
       "\n",
       "       RATIO_SHANNON_ENTROPY RATIO_AVERAGE_POPULARITY RATIO_NOVELTY  \n",
       "cutoff                                                               \n",
       "10                   0.89863                 1.377041      0.303823  \n",
       "\n",
       "[1 rows x 27 columns]"
      ],
      "text/html": [
       "<div>\n",
       "<style scoped>\n",
       "    .dataframe tbody tr th:only-of-type {\n",
       "        vertical-align: middle;\n",
       "    }\n",
       "\n",
       "    .dataframe tbody tr th {\n",
       "        vertical-align: top;\n",
       "    }\n",
       "\n",
       "    .dataframe thead th {\n",
       "        text-align: right;\n",
       "    }\n",
       "</style>\n",
       "<table border=\"1\" class=\"dataframe\">\n",
       "  <thead>\n",
       "    <tr style=\"text-align: right;\">\n",
       "      <th></th>\n",
       "      <th>PRECISION</th>\n",
       "      <th>PRECISION_RECALL_MIN_DEN</th>\n",
       "      <th>RECALL</th>\n",
       "      <th>MAP</th>\n",
       "      <th>MAP_MIN_DEN</th>\n",
       "      <th>MRR</th>\n",
       "      <th>NDCG</th>\n",
       "      <th>F1</th>\n",
       "      <th>HIT_RATE</th>\n",
       "      <th>ARHR_ALL_HITS</th>\n",
       "      <th>...</th>\n",
       "      <th>COVERAGE_USER</th>\n",
       "      <th>COVERAGE_USER_HIT</th>\n",
       "      <th>USERS_IN_GT</th>\n",
       "      <th>DIVERSITY_GINI</th>\n",
       "      <th>SHANNON_ENTROPY</th>\n",
       "      <th>RATIO_DIVERSITY_HERFINDAHL</th>\n",
       "      <th>RATIO_DIVERSITY_GINI</th>\n",
       "      <th>RATIO_SHANNON_ENTROPY</th>\n",
       "      <th>RATIO_AVERAGE_POPULARITY</th>\n",
       "      <th>RATIO_NOVELTY</th>\n",
       "    </tr>\n",
       "    <tr>\n",
       "      <th>cutoff</th>\n",
       "      <th></th>\n",
       "      <th></th>\n",
       "      <th></th>\n",
       "      <th></th>\n",
       "      <th></th>\n",
       "      <th></th>\n",
       "      <th></th>\n",
       "      <th></th>\n",
       "      <th></th>\n",
       "      <th></th>\n",
       "      <th></th>\n",
       "      <th></th>\n",
       "      <th></th>\n",
       "      <th></th>\n",
       "      <th></th>\n",
       "      <th></th>\n",
       "      <th></th>\n",
       "      <th></th>\n",
       "      <th></th>\n",
       "      <th></th>\n",
       "      <th></th>\n",
       "    </tr>\n",
       "  </thead>\n",
       "  <tbody>\n",
       "    <tr>\n",
       "      <th>10</th>\n",
       "      <td>0.0651</td>\n",
       "      <td>0.114815</td>\n",
       "      <td>0.103965</td>\n",
       "      <td>0.030237</td>\n",
       "      <td>0.052918</td>\n",
       "      <td>0.198011</td>\n",
       "      <td>0.103763</td>\n",
       "      <td>0.080065</td>\n",
       "      <td>0.424791</td>\n",
       "      <td>0.242989</td>\n",
       "      <td>...</td>\n",
       "      <td>0.98766</td>\n",
       "      <td>0.419549</td>\n",
       "      <td>0.98766</td>\n",
       "      <td>0.210276</td>\n",
       "      <td>13.259964</td>\n",
       "      <td>0.999844</td>\n",
       "      <td>0.348046</td>\n",
       "      <td>0.89863</td>\n",
       "      <td>1.377041</td>\n",
       "      <td>0.303823</td>\n",
       "    </tr>\n",
       "  </tbody>\n",
       "</table>\n",
       "<p>1 rows × 27 columns</p>\n",
       "</div>"
      ]
     },
     "execution_count": 14,
     "metadata": {},
     "output_type": "execute_result"
    }
   ],
   "execution_count": 14
  },
  {
   "metadata": {
    "ExecuteTime": {
     "end_time": "2024-11-26T22:17:09.176618Z",
     "start_time": "2024-11-26T21:04:10.768539Z"
    }
   },
   "cell_type": "code",
   "source": [
    "from main import  evaluator_validation\n",
    "evaluator_validation = EvaluatorHoldout(URM_test, cutoff_list=[10])\n",
    "def obj_hybrid(optuna_trial):\n",
    "    \n",
    "    scoreshybridrecommender = ScoresHybridRecommender(URM_trainval, slimrec, graphrec)\n",
    "    hyper={\"alpha\": optuna_trial.suggest_float(\"alpha\", 0.4, 1)}\n",
    "    scoreshybridrecommender.fit(hyper)\n",
    "    result_df, _ = evaluator_validation.evaluateRecommender(scoreshybridrecommender)\n",
    "    return result_df.loc[10, \"MAP\"]\n",
    "\n"
   ],
   "id": "f39c8a0953d8bca2",
   "outputs": [
    {
     "name": "stdout",
     "output_type": "stream",
     "text": [
      "38120\n",
      "   user_id  item_id  data\n",
      "0        0        0   1.0\n",
      "1        0        2   1.0\n",
      "2        0      120   1.0\n",
      "3        0      128   1.0\n",
      "38120\n",
      "   user_id  item_id  data\n",
      "0        0        0   1.0\n",
      "1        0        2   1.0\n",
      "2        0      120   1.0\n",
      "3        0      128   1.0\n",
      "35736 38121\n",
      "Warning: 170 (0.48 %) of 35736 users have no sampled items\n",
      "Warning: 444 (1.24 %) of 35736 users have no sampled items\n",
      "EvaluatorHoldout: Ignoring 170 ( 0.5%) Users that have less than 1 test interactions\n",
      "SLIMElasticNetRecommender: Processed 2433 ( 6.4%) in 5.00 min. Items per second: 8.10\n",
      "SLIMElasticNetRecommender: Processed 5426 (14.2%) in 10.00 min. Items per second: 9.04\n",
      "SLIMElasticNetRecommender: Processed 8279 (21.7%) in 15.00 min. Items per second: 9.20\n",
      "SLIMElasticNetRecommender: Processed 11093 (29.1%) in 20.01 min. Items per second: 9.24\n",
      "SLIMElasticNetRecommender: Processed 14033 (36.8%) in 25.01 min. Items per second: 9.35\n",
      "SLIMElasticNetRecommender: Processed 16818 (44.1%) in 30.01 min. Items per second: 9.34\n",
      "SLIMElasticNetRecommender: Processed 19564 (51.3%) in 35.01 min. Items per second: 9.31\n",
      "SLIMElasticNetRecommender: Processed 22450 (58.9%) in 40.01 min. Items per second: 9.35\n",
      "SLIMElasticNetRecommender: Processed 25286 (66.3%) in 45.01 min. Items per second: 9.36\n",
      "SLIMElasticNetRecommender: Processed 28246 (74.1%) in 50.01 min. Items per second: 9.41\n",
      "SLIMElasticNetRecommender: Processed 30138 (79.1%) in 55.01 min. Items per second: 9.13\n",
      "SLIMElasticNetRecommender: Processed 32606 (85.5%) in 1.00 hour. Items per second: 9.06\n",
      "SLIMElasticNetRecommender: Processed 34904 (91.6%) in 1.08 hour. Items per second: 8.95\n",
      "SLIMElasticNetRecommender: Processed 37331 (97.9%) in 1.17 hour. Items per second: 8.89\n",
      "SLIMElasticNetRecommender: Processed 38121 (100.0%) in 1.20 hour. Items per second: 8.86\n",
      "EvaluatorHoldout: Processed 35566 (100.0%) in 31.63 sec. Users per second: 1124\n",
      "0.0\n",
      "EvaluatorHoldout: Ignoring 441 ( 1.2%) Users that have less than 1 test interactions\n"
     ]
    }
   ],
   "execution_count": 17
  },
  {
   "metadata": {
    "ExecuteTime": {
     "end_time": "2024-11-26T22:19:24.233766Z",
     "start_time": "2024-11-26T22:18:45.057282Z"
    }
   },
   "cell_type": "code",
   "source": "",
   "id": "7909a60edf749ceb",
   "outputs": [
    {
     "name": "stdout",
     "output_type": "stream",
     "text": [
      "EvaluatorHoldout: Processed 35295 (100.0%) in 39.13 sec. Users per second: 902\n"
     ]
    },
    {
     "data": {
      "text/plain": [
       "       PRECISION PRECISION_RECALL_MIN_DEN    RECALL     MAP MAP_MIN_DEN  \\\n",
       "cutoff                                                                    \n",
       "10      0.071421                 0.125587  0.113463  0.0334     0.05792   \n",
       "\n",
       "             MRR      NDCG        F1  HIT_RATE ARHR_ALL_HITS  ...  \\\n",
       "cutoff                                                        ...   \n",
       "10      0.212547  0.112895  0.087662  0.451027      0.264231  ...   \n",
       "\n",
       "       COVERAGE_USER COVERAGE_USER_HIT USERS_IN_GT DIVERSITY_GINI  \\\n",
       "cutoff                                                              \n",
       "10           0.98766          0.445461     0.98766       0.219242   \n",
       "\n",
       "       SHANNON_ENTROPY RATIO_DIVERSITY_HERFINDAHL RATIO_DIVERSITY_GINI  \\\n",
       "cutoff                                                                   \n",
       "10           13.331373                   0.999861             0.362887   \n",
       "\n",
       "       RATIO_SHANNON_ENTROPY RATIO_AVERAGE_POPULARITY RATIO_NOVELTY  \n",
       "cutoff                                                               \n",
       "10                  0.903469                 1.375212      0.303936  \n",
       "\n",
       "[1 rows x 27 columns]"
      ],
      "text/html": [
       "<div>\n",
       "<style scoped>\n",
       "    .dataframe tbody tr th:only-of-type {\n",
       "        vertical-align: middle;\n",
       "    }\n",
       "\n",
       "    .dataframe tbody tr th {\n",
       "        vertical-align: top;\n",
       "    }\n",
       "\n",
       "    .dataframe thead th {\n",
       "        text-align: right;\n",
       "    }\n",
       "</style>\n",
       "<table border=\"1\" class=\"dataframe\">\n",
       "  <thead>\n",
       "    <tr style=\"text-align: right;\">\n",
       "      <th></th>\n",
       "      <th>PRECISION</th>\n",
       "      <th>PRECISION_RECALL_MIN_DEN</th>\n",
       "      <th>RECALL</th>\n",
       "      <th>MAP</th>\n",
       "      <th>MAP_MIN_DEN</th>\n",
       "      <th>MRR</th>\n",
       "      <th>NDCG</th>\n",
       "      <th>F1</th>\n",
       "      <th>HIT_RATE</th>\n",
       "      <th>ARHR_ALL_HITS</th>\n",
       "      <th>...</th>\n",
       "      <th>COVERAGE_USER</th>\n",
       "      <th>COVERAGE_USER_HIT</th>\n",
       "      <th>USERS_IN_GT</th>\n",
       "      <th>DIVERSITY_GINI</th>\n",
       "      <th>SHANNON_ENTROPY</th>\n",
       "      <th>RATIO_DIVERSITY_HERFINDAHL</th>\n",
       "      <th>RATIO_DIVERSITY_GINI</th>\n",
       "      <th>RATIO_SHANNON_ENTROPY</th>\n",
       "      <th>RATIO_AVERAGE_POPULARITY</th>\n",
       "      <th>RATIO_NOVELTY</th>\n",
       "    </tr>\n",
       "    <tr>\n",
       "      <th>cutoff</th>\n",
       "      <th></th>\n",
       "      <th></th>\n",
       "      <th></th>\n",
       "      <th></th>\n",
       "      <th></th>\n",
       "      <th></th>\n",
       "      <th></th>\n",
       "      <th></th>\n",
       "      <th></th>\n",
       "      <th></th>\n",
       "      <th></th>\n",
       "      <th></th>\n",
       "      <th></th>\n",
       "      <th></th>\n",
       "      <th></th>\n",
       "      <th></th>\n",
       "      <th></th>\n",
       "      <th></th>\n",
       "      <th></th>\n",
       "      <th></th>\n",
       "      <th></th>\n",
       "    </tr>\n",
       "  </thead>\n",
       "  <tbody>\n",
       "    <tr>\n",
       "      <th>10</th>\n",
       "      <td>0.071421</td>\n",
       "      <td>0.125587</td>\n",
       "      <td>0.113463</td>\n",
       "      <td>0.0334</td>\n",
       "      <td>0.05792</td>\n",
       "      <td>0.212547</td>\n",
       "      <td>0.112895</td>\n",
       "      <td>0.087662</td>\n",
       "      <td>0.451027</td>\n",
       "      <td>0.264231</td>\n",
       "      <td>...</td>\n",
       "      <td>0.98766</td>\n",
       "      <td>0.445461</td>\n",
       "      <td>0.98766</td>\n",
       "      <td>0.219242</td>\n",
       "      <td>13.331373</td>\n",
       "      <td>0.999861</td>\n",
       "      <td>0.362887</td>\n",
       "      <td>0.903469</td>\n",
       "      <td>1.375212</td>\n",
       "      <td>0.303936</td>\n",
       "    </tr>\n",
       "  </tbody>\n",
       "</table>\n",
       "<p>1 rows × 27 columns</p>\n",
       "</div>"
      ]
     },
     "execution_count": 19,
     "metadata": {},
     "output_type": "execute_result"
    }
   ],
   "execution_count": 19
  }
 ],
 "metadata": {
  "kernelspec": {
   "display_name": "Python 3",
   "language": "python",
   "name": "python3"
  },
  "language_info": {
   "codemirror_mode": {
    "name": "ipython",
    "version": 2
   },
   "file_extension": ".py",
   "mimetype": "text/x-python",
   "name": "python",
   "nbconvert_exporter": "python",
   "pygments_lexer": "ipython2",
   "version": "2.7.6"
  }
 },
 "nbformat": 4,
 "nbformat_minor": 5
}
