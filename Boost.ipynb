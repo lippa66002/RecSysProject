{
 "cells": [
  {
   "cell_type": "code",
   "id": "8bd252c3-9cc9-4c08-903f-69af2dfc7150",
   "metadata": {
    "ExecuteTime": {
     "end_time": "2024-12-06T11:10:57.604824Z",
     "start_time": "2024-12-06T10:55:06.933306Z"
    }
   },
   "source": [
    "import pandas as pd\n",
    "import DataHandler\n",
    "from ModelController import ModelController\n",
    "from ModelNames import ModelName\n",
    "from Recommenders.GraphBased.RP3betaRecommender import RP3betaRecommender\n",
    "from Recommenders.KNN.ItemKNNCBFRecommender import ItemKNNCBFRecommender\n",
    "from Recommenders.KNN.ItemKNNCFRecommender import ItemKNNCFRecommender\n",
    "from Recommenders.SLIM.SLIMElasticNetRecommender import SLIMElasticNetRecommender\n",
    "from xgboost import XGBRanker\n",
    "from tqdm import tqdm\n",
    "import scipy.sparse as sps\n",
    "import numpy as np\n"
   ],
   "outputs": [
    {
     "ename": "KeyboardInterrupt",
     "evalue": "",
     "output_type": "error",
     "traceback": [
      "\u001B[1;31m---------------------------------------------------------------------------\u001B[0m",
      "\u001B[1;31mKeyboardInterrupt\u001B[0m                         Traceback (most recent call last)",
      "Cell \u001B[1;32mIn[1], line 3\u001B[0m\n\u001B[0;32m      1\u001B[0m \u001B[38;5;28;01mimport\u001B[39;00m \u001B[38;5;21;01mpandas\u001B[39;00m \u001B[38;5;28;01mas\u001B[39;00m \u001B[38;5;21;01mpd\u001B[39;00m\n\u001B[0;32m      2\u001B[0m \u001B[38;5;28;01mimport\u001B[39;00m \u001B[38;5;21;01mDataHandler\u001B[39;00m\n\u001B[1;32m----> 3\u001B[0m \u001B[38;5;28;01mfrom\u001B[39;00m \u001B[38;5;21;01mModelController\u001B[39;00m \u001B[38;5;28;01mimport\u001B[39;00m ModelController\n\u001B[0;32m      4\u001B[0m \u001B[38;5;28;01mfrom\u001B[39;00m \u001B[38;5;21;01mModelNames\u001B[39;00m \u001B[38;5;28;01mimport\u001B[39;00m ModelName\n\u001B[0;32m      5\u001B[0m \u001B[38;5;28;01mfrom\u001B[39;00m \u001B[38;5;21;01mRecommenders\u001B[39;00m\u001B[38;5;21;01m.\u001B[39;00m\u001B[38;5;21;01mSLIM\u001B[39;00m\u001B[38;5;21;01m.\u001B[39;00m\u001B[38;5;21;01mSLIMElasticNetRecommender\u001B[39;00m \u001B[38;5;28;01mimport\u001B[39;00m SLIMElasticNetRecommender\n",
      "File \u001B[1;32mD:\\UNIVERSITA\\Progetti python\\RS\\RecSysProject\\ModelController.py:17\u001B[0m\n\u001B[0;32m     15\u001B[0m \u001B[38;5;28;01mfrom\u001B[39;00m \u001B[38;5;21;01mRecommenders\u001B[39;00m\u001B[38;5;21;01m.\u001B[39;00m\u001B[38;5;21;01mMatrixFactorization\u001B[39;00m\u001B[38;5;21;01m.\u001B[39;00m\u001B[38;5;21;01mCython\u001B[39;00m\u001B[38;5;21;01m.\u001B[39;00m\u001B[38;5;21;01mMatrixFactorization_Cython\u001B[39;00m \u001B[38;5;28;01mimport\u001B[39;00m _MatrixFactorization_Cython\n\u001B[0;32m     16\u001B[0m \u001B[38;5;28;01mfrom\u001B[39;00m \u001B[38;5;21;01mRecommenders\u001B[39;00m\u001B[38;5;21;01m.\u001B[39;00m\u001B[38;5;21;01mMatrixFactorization\u001B[39;00m\u001B[38;5;21;01m.\u001B[39;00m\u001B[38;5;21;01mPureSVDRecommender\u001B[39;00m \u001B[38;5;28;01mimport\u001B[39;00m PureSVDRecommender\n\u001B[1;32m---> 17\u001B[0m \u001B[38;5;28;01mfrom\u001B[39;00m \u001B[38;5;21;01mRecommenders\u001B[39;00m\u001B[38;5;21;01m.\u001B[39;00m\u001B[38;5;21;01mNeural\u001B[39;00m\u001B[38;5;21;01m.\u001B[39;00m\u001B[38;5;21;01mMultVAE_PyTorch_Recommender\u001B[39;00m \u001B[38;5;28;01mimport\u001B[39;00m MultVAERecommender_PyTorch\n\u001B[0;32m     18\u001B[0m \u001B[38;5;28;01mfrom\u001B[39;00m \u001B[38;5;21;01mRecommenders\u001B[39;00m\u001B[38;5;21;01m.\u001B[39;00m\u001B[38;5;21;01mSLIM\u001B[39;00m\u001B[38;5;21;01m.\u001B[39;00m\u001B[38;5;21;01mCython\u001B[39;00m\u001B[38;5;21;01m.\u001B[39;00m\u001B[38;5;21;01mSLIM_BPR_Cython\u001B[39;00m \u001B[38;5;28;01mimport\u001B[39;00m SLIM_BPR_Cython\n\u001B[0;32m     19\u001B[0m \u001B[38;5;28;01mfrom\u001B[39;00m \u001B[38;5;21;01mRecommenders\u001B[39;00m\u001B[38;5;21;01m.\u001B[39;00m\u001B[38;5;21;01mSLIM\u001B[39;00m\u001B[38;5;21;01m.\u001B[39;00m\u001B[38;5;21;01mSLIMElasticNetRecommender\u001B[39;00m \u001B[38;5;28;01mimport\u001B[39;00m SLIMElasticNetRecommender\n",
      "File \u001B[1;32mD:\\UNIVERSITA\\Progetti python\\RS\\RecSysProject\\Recommenders\\Neural\\MultVAE_PyTorch_Recommender.py:15\u001B[0m\n\u001B[0;32m     13\u001B[0m \u001B[38;5;28;01mfrom\u001B[39;00m \u001B[38;5;21;01mRecommenders\u001B[39;00m\u001B[38;5;21;01m.\u001B[39;00m\u001B[38;5;21;01mBaseRecommender\u001B[39;00m \u001B[38;5;28;01mimport\u001B[39;00m BaseRecommender\n\u001B[0;32m     14\u001B[0m \u001B[38;5;28;01mfrom\u001B[39;00m \u001B[38;5;21;01mRecommenders\u001B[39;00m\u001B[38;5;21;01m.\u001B[39;00m\u001B[38;5;21;01mIncremental_Training_Early_Stopping\u001B[39;00m \u001B[38;5;28;01mimport\u001B[39;00m Incremental_Training_Early_Stopping\n\u001B[1;32m---> 15\u001B[0m \u001B[38;5;28;01mimport\u001B[39;00m \u001B[38;5;21;01mtorch\u001B[39;00m\u001B[38;5;241m,\u001B[39m \u001B[38;5;21;01mcopy\u001B[39;00m\u001B[38;5;241m,\u001B[39m \u001B[38;5;21;01mmath\u001B[39;00m\n\u001B[0;32m     16\u001B[0m \u001B[38;5;28;01mfrom\u001B[39;00m \u001B[38;5;21;01mtorch\u001B[39;00m\u001B[38;5;21;01m.\u001B[39;00m\u001B[38;5;21;01mautograd\u001B[39;00m \u001B[38;5;28;01mimport\u001B[39;00m Variable\n\u001B[0;32m     17\u001B[0m \u001B[38;5;28;01mimport\u001B[39;00m \u001B[38;5;21;01mtorch\u001B[39;00m\u001B[38;5;21;01m.\u001B[39;00m\u001B[38;5;21;01mnn\u001B[39;00m\u001B[38;5;21;01m.\u001B[39;00m\u001B[38;5;21;01mfunctional\u001B[39;00m \u001B[38;5;28;01mas\u001B[39;00m \u001B[38;5;21;01mf\u001B[39;00m\n",
      "File \u001B[1;32mD:\\software\\Anaconda\\InstallationFolder\\envs\\RecSysFramework\\lib\\site-packages\\torch\\__init__.py:123\u001B[0m\n\u001B[0;32m    121\u001B[0m is_loaded \u001B[38;5;241m=\u001B[39m \u001B[38;5;28;01mFalse\u001B[39;00m\n\u001B[0;32m    122\u001B[0m \u001B[38;5;28;01mif\u001B[39;00m with_load_library_flags:\n\u001B[1;32m--> 123\u001B[0m     res \u001B[38;5;241m=\u001B[39m \u001B[43mkernel32\u001B[49m\u001B[38;5;241;43m.\u001B[39;49m\u001B[43mLoadLibraryExW\u001B[49m\u001B[43m(\u001B[49m\u001B[43mdll\u001B[49m\u001B[43m,\u001B[49m\u001B[43m \u001B[49m\u001B[38;5;28;43;01mNone\u001B[39;49;00m\u001B[43m,\u001B[49m\u001B[43m \u001B[49m\u001B[38;5;241;43m0x00001100\u001B[39;49m\u001B[43m)\u001B[49m\n\u001B[0;32m    124\u001B[0m     last_error \u001B[38;5;241m=\u001B[39m ctypes\u001B[38;5;241m.\u001B[39mget_last_error()\n\u001B[0;32m    125\u001B[0m     \u001B[38;5;28;01mif\u001B[39;00m res \u001B[38;5;129;01mis\u001B[39;00m \u001B[38;5;28;01mNone\u001B[39;00m \u001B[38;5;129;01mand\u001B[39;00m last_error \u001B[38;5;241m!=\u001B[39m \u001B[38;5;241m126\u001B[39m:\n",
      "\u001B[1;31mKeyboardInterrupt\u001B[0m: "
     ]
    }
   ],
   "execution_count": 1
  },
  {
   "cell_type": "code",
   "id": "97322707-7f5c-4249-bd1e-1f6d9b68f6e2",
   "metadata": {
    "ExecuteTime": {
     "end_time": "2024-11-21T12:20:44.576854Z",
     "start_time": "2024-11-21T12:20:04.503263Z"
    }
   },
   "source": [
    "URM_all_dataframe = pd.read_csv(filepath_or_buffer=\"Data/data_train.csv\",\n",
    "                                sep=\",\",\n",
    "                                dtype={0:int, 1:int, 2:float},\n",
    "                                engine='python')\n",
    "users = pd.read_csv(filepath_or_buffer=\"Data/data_target_users_test.csv\")\n",
    "\n",
    "ICM = pd.read_csv(filepath_or_buffer=\"Data/data_ICM_metadata.csv\",\n",
    "                                sep=\",\",\n",
    "                                dtype={0:int, 1:int, 2:float},\n",
    "                                engine='python')"
   ],
   "outputs": [],
   "execution_count": 3
  },
  {
   "cell_type": "code",
   "id": "a2f3beb9-f40b-4506-96e1-0f9fe7cff4f1",
   "metadata": {},
   "source": [
    "URM_all, ICM_all = DataHandler.create_urm_icm(URM_all_dataframe, ICM)\n",
    "\n",
    "controller = ModelController(URM_all, ICM_all)"
   ],
   "outputs": [],
   "execution_count": null
  },
  {
   "metadata": {},
   "cell_type": "code",
   "source": [
    "candidate_recommender = SLIMElasticNetRecommender(controller.URM_train_boost)\n",
    "candidate_recommender.fit(alpha= 0.0002186139242589954, topK= 712, l1_ratio= 0.14641769268206922)"
   ],
   "id": "fcc7a74c6d4acdb",
   "outputs": [],
   "execution_count": null
  },
  {
   "metadata": {},
   "cell_type": "code",
   "outputs": [],
   "execution_count": null,
   "source": [
    "n_users, n_items = controller.URM_train_boost.shape\n",
    "\n",
    "training_dataframe = pd.DataFrame(index=range(0,n_users), columns = [\"ItemID\"])\n",
    "training_dataframe.index.name='UserID'\n",
    "\n",
    "training_dataframe"
   ],
   "id": "78526fc1bc147a3e"
  },
  {
   "metadata": {},
   "cell_type": "code",
   "outputs": [],
   "execution_count": null,
   "source": [
    "cutoff = 30\n",
    "\n",
    "for user_id in tqdm(range(n_users)):\n",
    "    recommendations = candidate_recommender.recommend(user_id, cutoff = cutoff)\n",
    "    training_dataframe.loc[user_id, \"ItemID\"] = recommendations\n",
    "\n",
    "training_dataframe = training_dataframe.explode(\"ItemID\")\n",
    "training_dataframe"
   ],
   "id": "7fda1b762f3506a8"
  },
  {
   "metadata": {},
   "cell_type": "code",
   "outputs": [],
   "execution_count": null,
   "source": [
    "URM_validation_coo = sps.coo_matrix(controller.URM_validation)\n",
    "\n",
    "correct_recommendations = pd.DataFrame({\"UserID\": URM_validation_coo.row,\n",
    "                                        \"ItemID\": URM_validation_coo.col})\n",
    "correct_recommendations"
   ],
   "id": "b4b8d9734241f0d8"
  },
  {
   "metadata": {},
   "cell_type": "code",
   "outputs": [],
   "execution_count": null,
   "source": [
    "training_dataframe = pd.merge(training_dataframe, correct_recommendations, on=['UserID','ItemID'], how='left', indicator='Exist')\n",
    "training_dataframe"
   ],
   "id": "2e7f5babdf7a8815"
  },
  {
   "metadata": {},
   "cell_type": "code",
   "outputs": [],
   "execution_count": null,
   "source": [
    "training_dataframe[\"Label\"] = training_dataframe[\"Exist\"] == \"both\"\n",
    "training_dataframe.drop(columns = ['Exist'], inplace=True)\n",
    "training_dataframe"
   ],
   "id": "1e773b03cacbc751"
  },
  {
   "metadata": {},
   "cell_type": "code",
   "outputs": [],
   "execution_count": null,
   "source": [
    "from Recommenders.SLIM.Cython.SLIM_BPR_Cython import SLIM_BPR_Cython\n",
    "\n",
    "top_pop = TopPopRecommender(controller.URM_train_boost)\n",
    "top_pop.fit()\n",
    "\n",
    "item_cf = ItemKNNCFRecommender(controller.URM_train_boost)\n",
    "item_cf.fit()\n",
    "\n",
    "item_cbf = ItemKNNCBFRecommender(controller.URM_train_boost, controller.ICM_all)\n",
    "item_cbf.fit()\n",
    "\n",
    "rp3beta = RP3betaRecommender(controller.URM_train_boost)\n",
    "rp3beta.fit()\n",
    "\n",
    "slimbpr = SLIM_BPR_Cython(controller.URM_train_boost)\n",
    "slimbpr.fit()\n",
    "\n",
    "\n",
    "other_algorithms = {\n",
    "    \"top_pop\": top_pop,\n",
    "    \"item_cf\": item_cf,\n",
    "    \"item_cbf\": item_cbf,\n",
    "    \"rp3beta\": rp3beta,\n",
    "    \"SLIM_BPR\": slimbpr\n",
    "}"
   ],
   "id": "7629e9a486c743a4"
  },
  {
   "metadata": {},
   "cell_type": "code",
   "outputs": [],
   "execution_count": null,
   "source": [
    "training_dataframe = training_dataframe.set_index('UserID')\n",
    "\n",
    "for user_id in tqdm(range(n_users)):\n",
    "    for rec_label, rec_instance in other_algorithms.items():\n",
    "\n",
    "        item_list = training_dataframe.loc[user_id, \"ItemID\"].values.tolist()\n",
    "\n",
    "        all_item_scores = rec_instance._compute_item_score([user_id], items_to_compute = item_list)\n",
    "\n",
    "        training_dataframe.loc[user_id, rec_label] = all_item_scores[0, item_list]\n",
    "\n",
    "training_dataframe = training_dataframe.reset_index()\n",
    "training_dataframe = training_dataframe.rename(columns = {\"index\": \"UserID\"})\n",
    "training_dataframe"
   ],
   "id": "20186185074866eb"
  },
  {
   "metadata": {},
   "cell_type": "code",
   "outputs": [],
   "execution_count": null,
   "source": [
    "ICM_features = controller.ICM_all.to_dict()[\"feature_id\"]\n",
    "ICM_features"
   ],
   "id": "b93b7b4bb497414f"
  },
  {
   "metadata": {},
   "cell_type": "code",
   "outputs": [],
   "execution_count": null,
   "source": [
    "item_popularity = np.ediff1d(sps.csc_matrix(controller.URM_train_boost).indptr)\n",
    "training_dataframe['item_popularity'] = item_popularity[training_dataframe[\"ItemID\"].values.astype(int)]\n",
    "\n",
    "user_popularity = np.ediff1d(sps.csr_matrix(controller.URM_train_boost).indptr)\n",
    "training_dataframe['user_profile_len'] = user_popularity[training_dataframe[\"UserID\"].values.astype(int)]\n",
    "\n",
    "features_df = pd.DataFrame.sparse.from_spmatrix(ICM_features)\n",
    "training_dataframe = training_dataframe.set_index('ItemID').join(features_df, how='inner')\n",
    "training_dataframe = training_dataframe.reset_index()\n",
    "training_dataframe = training_dataframe.rename(columns = {\"index\": \"ItemID\"})\n",
    "\n",
    "training_dataframe"
   ],
   "id": "7f1094a4fb34c754"
  },
  {
   "metadata": {},
   "cell_type": "code",
   "outputs": [],
   "execution_count": null,
   "source": [
    "training_dataframe = training_dataframe.sort_values(\"UserID\").reset_index()\n",
    "training_dataframe.drop(columns = ['index'], inplace=True)\n",
    "training_dataframe"
   ],
   "id": "28a56d8ed8c7536c"
  },
  {
   "metadata": {},
   "cell_type": "code",
   "outputs": [],
   "execution_count": null,
   "source": [
    "groups = training_dataframe.groupby(\"UserID\").size().values\n",
    "groups"
   ],
   "id": "fa242e8da81b119b"
  },
  {
   "metadata": {},
   "cell_type": "code",
   "outputs": [],
   "execution_count": null,
   "source": [
    "n_estimators = 50\n",
    "learning_rate = 1e-1\n",
    "reg_alpha = 1e-1\n",
    "reg_lambda = 1e-1\n",
    "max_depth = 5\n",
    "max_leaves = 0\n",
    "grow_policy = \"depthwise\"\n",
    "objective = \"pairwise\"\n",
    "booster = \"gbtree\"\n",
    "use_user_profile = False\n",
    "random_seed = None\n",
    "\n",
    "XGB_model = XGBRanker(objective='rank:{}'.format(objective),\n",
    "                      n_estimators = int(n_estimators),\n",
    "                      random_state = random_seed,\n",
    "                      learning_rate = learning_rate,\n",
    "                      reg_alpha = reg_alpha,\n",
    "                      reg_lambda = reg_lambda,\n",
    "                      max_depth = int(max_depth),\n",
    "                      max_leaves = int(max_leaves),\n",
    "                      grow_policy = grow_policy,\n",
    "                      verbosity = 0, # 2 if self.verbose else 0,\n",
    "                      booster = booster,\n",
    "                      )"
   ],
   "id": "851655ffa562cad7"
  },
  {
   "metadata": {},
   "cell_type": "code",
   "outputs": [],
   "execution_count": null,
   "source": [
    "y_train = training_dataframe[\"Label\"]\n",
    "X_train = training_dataframe.drop(columns=[\"Label\"])\n",
    "\n",
    "XGB_model.fit(X_train,\n",
    "          y_train,\n",
    "          group=groups,\n",
    "          verbose=True)"
   ],
   "id": "bc8b0a93266b568a"
  },
  {
   "metadata": {},
   "cell_type": "code",
   "outputs": [],
   "execution_count": null,
   "source": "",
   "id": "4dae2003b8b61627"
  }
 ],
 "metadata": {
  "kernelspec": {
   "display_name": "Python 3 (ipykernel)",
   "language": "python",
   "name": "python3"
  },
  "language_info": {
   "codemirror_mode": {
    "name": "ipython",
    "version": 3
   },
   "file_extension": ".py",
   "mimetype": "text/x-python",
   "name": "python",
   "nbconvert_exporter": "python",
   "pygments_lexer": "ipython3",
   "version": "3.8.20"
  }
 },
 "nbformat": 4,
 "nbformat_minor": 5
}
