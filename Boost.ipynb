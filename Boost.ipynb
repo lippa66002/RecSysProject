{
 "cells": [
  {
   "cell_type": "code",
   "id": "8bd252c3-9cc9-4c08-903f-69af2dfc7150",
   "metadata": {
    "ExecuteTime": {
     "end_time": "2025-01-03T10:16:44.164314Z",
     "start_time": "2025-01-03T10:16:31.839623Z"
    }
   },
   "source": [
    "import pandas as pd\n",
    "import DataHandler\n",
    "from ModelController import ModelController\n",
    "from ModelNames import ModelName\n",
    "from Recommenders.GraphBased.RP3betaRecommender import RP3betaRecommender\n",
    "from Recommenders.KNN.ItemKNNCBFRecommender import ItemKNNCBFRecommender\n",
    "from Recommenders.KNN.ItemKNNCFRecommender import ItemKNNCFRecommender\n",
    "from Recommenders.NonPersonalizedRecommender import TopPop\n",
    "from Recommenders.SLIM.SLIMElasticNetRecommender import SLIMElasticNetRecommender\n",
    "from xgboost import XGBRanker\n",
    "from tqdm import tqdm\n",
    "import scipy.sparse as sps\n",
    "import numpy as np\n"
   ],
   "outputs": [
    {
     "name": "stderr",
     "output_type": "stream",
     "text": [
      "C:\\Users\\leoli\\miniconda3\\envs\\RecSysFramework\\lib\\site-packages\\scipy\\__init__.py:138: UserWarning: A NumPy version >=1.16.5 and <1.23.0 is required for this version of SciPy (detected version 1.26.4)\n",
      "  warnings.warn(f\"A NumPy version >={np_minversion} and <{np_maxversion} is required for this version of \"\n",
      "C:\\Users\\leoli\\miniconda3\\envs\\RecSysFramework\\lib\\site-packages\\lightfm\\_lightfm_fast.py:9: UserWarning: LightFM was compiled without OpenMP support. Only a single thread will be used.\n",
      "  warnings.warn(\n"
     ]
    }
   ],
   "execution_count": 2
  },
  {
   "cell_type": "code",
   "id": "97322707-7f5c-4249-bd1e-1f6d9b68f6e2",
   "metadata": {
    "ExecuteTime": {
     "end_time": "2025-01-03T10:17:05.212562Z",
     "start_time": "2025-01-03T10:16:44.173312Z"
    }
   },
   "source": [
    "URM_all_dataframe = pd.read_csv(filepath_or_buffer=\"Data/data_train.csv\",\n",
    "                                sep=\",\",\n",
    "                                dtype={0:int, 1:int, 2:float},\n",
    "                                engine='python')\n",
    "users = pd.read_csv(filepath_or_buffer=\"Data/data_target_users_test.csv\")\n",
    "\n",
    "ICM = pd.read_csv(filepath_or_buffer=\"Data/data_ICM_metadata.csv\",\n",
    "                                sep=\",\",\n",
    "                                dtype={0:int, 1:int, 2:float},\n",
    "                                engine='python')"
   ],
   "outputs": [],
   "execution_count": 3
  },
  {
   "cell_type": "code",
   "id": "a2f3beb9-f40b-4506-96e1-0f9fe7cff4f1",
   "metadata": {
    "ExecuteTime": {
     "end_time": "2025-01-03T10:17:05.945941Z",
     "start_time": "2025-01-03T10:17:05.307089Z"
    }
   },
   "source": [
    "URM_all, ICM_all = DataHandler.create_urm_icm(URM_all_dataframe, ICM)\n",
    "\n",
    "controller = ModelController()"
   ],
   "outputs": [
    {
     "name": "stdout",
     "output_type": "stream",
     "text": [
      "EvaluatorHoldout: Ignoring 433 ( 1.2%) Users that have less than 1 test interactions\n",
      "EvaluatorHoldout: Ignoring 161 ( 0.5%) Users that have less than 1 test interactions\n"
     ]
    }
   ],
   "execution_count": 4
  },
  {
   "metadata": {
    "ExecuteTime": {
     "end_time": "2025-01-03T10:17:56.166328Z",
     "start_time": "2025-01-03T10:17:05.971943Z"
    }
   },
   "cell_type": "code",
   "source": [
    "from Recommenders.ScoresHybridRecommender import ScoresHybridRecommender\n",
    "from EASE_R_Recommender import EASE_R_Recommender\n",
    "from Recommenders.HybridOptunable2 import HybridOptunable2\n",
    "\n",
    "slim1 = SLIMElasticNetRecommender(controller.URM_train)\n",
    "slim1.load_model(folder_path=\"_saved_models\", file_name=\"SLIMtrain\")\n",
    "stacked = sps.vstack([0.6814451172353111 * controller.URM_train, (1 - 0.6814451172353111) * controller.ICM_all.T]).tocsr()\n",
    "slim2 = SLIMElasticNetRecommender(stacked)\n",
    "slim2.load_model(folder_path=\"_saved_models\", file_name=\"SLIMstackedTrainval1\")\n",
    "bestrp3 = RP3betaRecommender(controller.URM_train)\n",
    "bestrp3.load_model(folder_path=\"_saved_models\", file_name=\"rp3train\")\n",
    "hyb1 = HybridOptunable2(controller.URM_train)\n",
    "hyb1.fit(0.27959722573911727,slim1,slim2)\n",
    "ease1 = EASE_R_Recommender(controller.URM_train)\n",
    "ease1.load_model(folder_path=\"_saved_models\", file_name=\"easetrain\")\n",
    "hyb2 = HybridOptunable2(controller.URM_train)\n",
    "hyb2.fit(0.18923840370620948,hyb1,bestrp3)\n",
    "hyb3 = ScoresHybridRecommender(controller.URM_train, ease1, hyb2, bestrp3, slim1, slim1)\n",
    "alpha=0.689217356\n",
    "hyb3.fit(alpha,1-alpha,0,0,0)"
   ],
   "id": "fcc7a74c6d4acdb",
   "outputs": [
    {
     "name": "stdout",
     "output_type": "stream",
     "text": [
      "SLIMElasticNetRecommender: Loading model from file '_saved_modelsSLIMtrain'\n",
      "SLIMElasticNetRecommender: Loading complete\n",
      "SLIMElasticNetRecommender: Loading model from file '_saved_modelsSLIMstackedTrainval1'\n",
      "SLIMElasticNetRecommender: Loading complete\n",
      "RP3betaRecommender: Loading model from file '_saved_modelsrp3train'\n",
      "RP3betaRecommender: Loading complete\n",
      "EASE_R_Recommender: Loading model from file '_saved_modelseasetrain'\n",
      "EASE_R_Recommender: Loading complete\n"
     ]
    }
   ],
   "execution_count": 5
  },
  {
   "metadata": {
    "ExecuteTime": {
     "end_time": "2025-01-03T10:17:56.272725Z",
     "start_time": "2025-01-03T10:17:56.213545Z"
    }
   },
   "cell_type": "code",
   "source": [
    "n_users, n_items = controller.URM_train.shape\n",
    "\n",
    "training_dataframe = pd.DataFrame(index=range(0,n_users), columns = [\"ItemID\"])\n",
    "training_dataframe.index.name='UserID'\n",
    "\n",
    "training_dataframe"
   ],
   "id": "78526fc1bc147a3e",
   "outputs": [
    {
     "data": {
      "text/plain": [
       "       ItemID\n",
       "UserID       \n",
       "0         NaN\n",
       "1         NaN\n",
       "2         NaN\n",
       "3         NaN\n",
       "4         NaN\n",
       "...       ...\n",
       "35731     NaN\n",
       "35732     NaN\n",
       "35733     NaN\n",
       "35734     NaN\n",
       "35735     NaN\n",
       "\n",
       "[35736 rows x 1 columns]"
      ],
      "text/html": [
       "<div>\n",
       "<style scoped>\n",
       "    .dataframe tbody tr th:only-of-type {\n",
       "        vertical-align: middle;\n",
       "    }\n",
       "\n",
       "    .dataframe tbody tr th {\n",
       "        vertical-align: top;\n",
       "    }\n",
       "\n",
       "    .dataframe thead th {\n",
       "        text-align: right;\n",
       "    }\n",
       "</style>\n",
       "<table border=\"1\" class=\"dataframe\">\n",
       "  <thead>\n",
       "    <tr style=\"text-align: right;\">\n",
       "      <th></th>\n",
       "      <th>ItemID</th>\n",
       "    </tr>\n",
       "    <tr>\n",
       "      <th>UserID</th>\n",
       "      <th></th>\n",
       "    </tr>\n",
       "  </thead>\n",
       "  <tbody>\n",
       "    <tr>\n",
       "      <th>0</th>\n",
       "      <td>NaN</td>\n",
       "    </tr>\n",
       "    <tr>\n",
       "      <th>1</th>\n",
       "      <td>NaN</td>\n",
       "    </tr>\n",
       "    <tr>\n",
       "      <th>2</th>\n",
       "      <td>NaN</td>\n",
       "    </tr>\n",
       "    <tr>\n",
       "      <th>3</th>\n",
       "      <td>NaN</td>\n",
       "    </tr>\n",
       "    <tr>\n",
       "      <th>4</th>\n",
       "      <td>NaN</td>\n",
       "    </tr>\n",
       "    <tr>\n",
       "      <th>...</th>\n",
       "      <td>...</td>\n",
       "    </tr>\n",
       "    <tr>\n",
       "      <th>35731</th>\n",
       "      <td>NaN</td>\n",
       "    </tr>\n",
       "    <tr>\n",
       "      <th>35732</th>\n",
       "      <td>NaN</td>\n",
       "    </tr>\n",
       "    <tr>\n",
       "      <th>35733</th>\n",
       "      <td>NaN</td>\n",
       "    </tr>\n",
       "    <tr>\n",
       "      <th>35734</th>\n",
       "      <td>NaN</td>\n",
       "    </tr>\n",
       "    <tr>\n",
       "      <th>35735</th>\n",
       "      <td>NaN</td>\n",
       "    </tr>\n",
       "  </tbody>\n",
       "</table>\n",
       "<p>35736 rows × 1 columns</p>\n",
       "</div>"
      ]
     },
     "execution_count": 6,
     "metadata": {},
     "output_type": "execute_result"
    }
   ],
   "execution_count": 6
  },
  {
   "metadata": {
    "ExecuteTime": {
     "end_time": "2025-01-03T10:19:28.969612Z",
     "start_time": "2025-01-03T10:17:56.335377Z"
    }
   },
   "cell_type": "code",
   "source": [
    "cutoff = 30\n",
    "\n",
    "for user_id in tqdm(range(n_users)):\n",
    "    recommendations = hyb3.recommend(user_id, cutoff = cutoff)\n",
    "    training_dataframe.loc[user_id, \"ItemID\"] = recommendations\n",
    "\n",
    "training_dataframe = training_dataframe.explode(\"ItemID\")\n",
    "training_dataframe"
   ],
   "id": "7fda1b762f3506a8",
   "outputs": [
    {
     "name": "stderr",
     "output_type": "stream",
     "text": [
      "100%|██████████| 35736/35736 [01:32<00:00, 386.46it/s]\n"
     ]
    },
    {
     "data": {
      "text/plain": [
       "       ItemID\n",
       "UserID       \n",
       "0       14888\n",
       "0        7703\n",
       "0       14931\n",
       "0        6348\n",
       "0         572\n",
       "...       ...\n",
       "35735   37192\n",
       "35735   35753\n",
       "35735   35712\n",
       "35735   37304\n",
       "35735   36671\n",
       "\n",
       "[1072080 rows x 1 columns]"
      ],
      "text/html": [
       "<div>\n",
       "<style scoped>\n",
       "    .dataframe tbody tr th:only-of-type {\n",
       "        vertical-align: middle;\n",
       "    }\n",
       "\n",
       "    .dataframe tbody tr th {\n",
       "        vertical-align: top;\n",
       "    }\n",
       "\n",
       "    .dataframe thead th {\n",
       "        text-align: right;\n",
       "    }\n",
       "</style>\n",
       "<table border=\"1\" class=\"dataframe\">\n",
       "  <thead>\n",
       "    <tr style=\"text-align: right;\">\n",
       "      <th></th>\n",
       "      <th>ItemID</th>\n",
       "    </tr>\n",
       "    <tr>\n",
       "      <th>UserID</th>\n",
       "      <th></th>\n",
       "    </tr>\n",
       "  </thead>\n",
       "  <tbody>\n",
       "    <tr>\n",
       "      <th>0</th>\n",
       "      <td>14888</td>\n",
       "    </tr>\n",
       "    <tr>\n",
       "      <th>0</th>\n",
       "      <td>7703</td>\n",
       "    </tr>\n",
       "    <tr>\n",
       "      <th>0</th>\n",
       "      <td>14931</td>\n",
       "    </tr>\n",
       "    <tr>\n",
       "      <th>0</th>\n",
       "      <td>6348</td>\n",
       "    </tr>\n",
       "    <tr>\n",
       "      <th>0</th>\n",
       "      <td>572</td>\n",
       "    </tr>\n",
       "    <tr>\n",
       "      <th>...</th>\n",
       "      <td>...</td>\n",
       "    </tr>\n",
       "    <tr>\n",
       "      <th>35735</th>\n",
       "      <td>37192</td>\n",
       "    </tr>\n",
       "    <tr>\n",
       "      <th>35735</th>\n",
       "      <td>35753</td>\n",
       "    </tr>\n",
       "    <tr>\n",
       "      <th>35735</th>\n",
       "      <td>35712</td>\n",
       "    </tr>\n",
       "    <tr>\n",
       "      <th>35735</th>\n",
       "      <td>37304</td>\n",
       "    </tr>\n",
       "    <tr>\n",
       "      <th>35735</th>\n",
       "      <td>36671</td>\n",
       "    </tr>\n",
       "  </tbody>\n",
       "</table>\n",
       "<p>1072080 rows × 1 columns</p>\n",
       "</div>"
      ]
     },
     "execution_count": 7,
     "metadata": {},
     "output_type": "execute_result"
    }
   ],
   "execution_count": 7
  },
  {
   "metadata": {
    "ExecuteTime": {
     "end_time": "2025-01-03T10:19:29.139404Z",
     "start_time": "2025-01-03T10:19:29.110399Z"
    }
   },
   "cell_type": "code",
   "source": [
    "URM_validation_coo = sps.coo_matrix(controller.URM_test)\n",
    "\n",
    "correct_recommendations = pd.DataFrame({\"UserID\": URM_validation_coo.row,\n",
    "                                        \"ItemID\": URM_validation_coo.col})\n",
    "correct_recommendations"
   ],
   "id": "b4b8d9734241f0d8",
   "outputs": [
    {
     "data": {
      "text/plain": [
       "        UserID  ItemID\n",
       "0            0     120\n",
       "1            0     128\n",
       "2            0     675\n",
       "3            0     760\n",
       "4            0     950\n",
       "...        ...     ...\n",
       "352916   35735   37191\n",
       "352917   35735   37447\n",
       "352918   35735   37503\n",
       "352919   35735   37801\n",
       "352920   35735   38000\n",
       "\n",
       "[352921 rows x 2 columns]"
      ],
      "text/html": [
       "<div>\n",
       "<style scoped>\n",
       "    .dataframe tbody tr th:only-of-type {\n",
       "        vertical-align: middle;\n",
       "    }\n",
       "\n",
       "    .dataframe tbody tr th {\n",
       "        vertical-align: top;\n",
       "    }\n",
       "\n",
       "    .dataframe thead th {\n",
       "        text-align: right;\n",
       "    }\n",
       "</style>\n",
       "<table border=\"1\" class=\"dataframe\">\n",
       "  <thead>\n",
       "    <tr style=\"text-align: right;\">\n",
       "      <th></th>\n",
       "      <th>UserID</th>\n",
       "      <th>ItemID</th>\n",
       "    </tr>\n",
       "  </thead>\n",
       "  <tbody>\n",
       "    <tr>\n",
       "      <th>0</th>\n",
       "      <td>0</td>\n",
       "      <td>120</td>\n",
       "    </tr>\n",
       "    <tr>\n",
       "      <th>1</th>\n",
       "      <td>0</td>\n",
       "      <td>128</td>\n",
       "    </tr>\n",
       "    <tr>\n",
       "      <th>2</th>\n",
       "      <td>0</td>\n",
       "      <td>675</td>\n",
       "    </tr>\n",
       "    <tr>\n",
       "      <th>3</th>\n",
       "      <td>0</td>\n",
       "      <td>760</td>\n",
       "    </tr>\n",
       "    <tr>\n",
       "      <th>4</th>\n",
       "      <td>0</td>\n",
       "      <td>950</td>\n",
       "    </tr>\n",
       "    <tr>\n",
       "      <th>...</th>\n",
       "      <td>...</td>\n",
       "      <td>...</td>\n",
       "    </tr>\n",
       "    <tr>\n",
       "      <th>352916</th>\n",
       "      <td>35735</td>\n",
       "      <td>37191</td>\n",
       "    </tr>\n",
       "    <tr>\n",
       "      <th>352917</th>\n",
       "      <td>35735</td>\n",
       "      <td>37447</td>\n",
       "    </tr>\n",
       "    <tr>\n",
       "      <th>352918</th>\n",
       "      <td>35735</td>\n",
       "      <td>37503</td>\n",
       "    </tr>\n",
       "    <tr>\n",
       "      <th>352919</th>\n",
       "      <td>35735</td>\n",
       "      <td>37801</td>\n",
       "    </tr>\n",
       "    <tr>\n",
       "      <th>352920</th>\n",
       "      <td>35735</td>\n",
       "      <td>38000</td>\n",
       "    </tr>\n",
       "  </tbody>\n",
       "</table>\n",
       "<p>352921 rows × 2 columns</p>\n",
       "</div>"
      ]
     },
     "execution_count": 8,
     "metadata": {},
     "output_type": "execute_result"
    }
   ],
   "execution_count": 8
  },
  {
   "metadata": {
    "ExecuteTime": {
     "end_time": "2025-01-03T10:19:30.537409Z",
     "start_time": "2025-01-03T10:19:29.273489Z"
    }
   },
   "cell_type": "code",
   "source": [
    "training_dataframe = pd.merge(training_dataframe, correct_recommendations, on=['UserID','ItemID'], how='left', indicator='Exist')\n",
    "training_dataframe"
   ],
   "id": "2e7f5babdf7a8815",
   "outputs": [
    {
     "data": {
      "text/plain": [
       "         UserID ItemID      Exist\n",
       "0             0  14888  left_only\n",
       "1             0   7703  left_only\n",
       "2             0  14931  left_only\n",
       "3             0   6348  left_only\n",
       "4             0    572  left_only\n",
       "...         ...    ...        ...\n",
       "1072075   35735  37192  left_only\n",
       "1072076   35735  35753  left_only\n",
       "1072077   35735  35712  left_only\n",
       "1072078   35735  37304  left_only\n",
       "1072079   35735  36671  left_only\n",
       "\n",
       "[1072080 rows x 3 columns]"
      ],
      "text/html": [
       "<div>\n",
       "<style scoped>\n",
       "    .dataframe tbody tr th:only-of-type {\n",
       "        vertical-align: middle;\n",
       "    }\n",
       "\n",
       "    .dataframe tbody tr th {\n",
       "        vertical-align: top;\n",
       "    }\n",
       "\n",
       "    .dataframe thead th {\n",
       "        text-align: right;\n",
       "    }\n",
       "</style>\n",
       "<table border=\"1\" class=\"dataframe\">\n",
       "  <thead>\n",
       "    <tr style=\"text-align: right;\">\n",
       "      <th></th>\n",
       "      <th>UserID</th>\n",
       "      <th>ItemID</th>\n",
       "      <th>Exist</th>\n",
       "    </tr>\n",
       "  </thead>\n",
       "  <tbody>\n",
       "    <tr>\n",
       "      <th>0</th>\n",
       "      <td>0</td>\n",
       "      <td>14888</td>\n",
       "      <td>left_only</td>\n",
       "    </tr>\n",
       "    <tr>\n",
       "      <th>1</th>\n",
       "      <td>0</td>\n",
       "      <td>7703</td>\n",
       "      <td>left_only</td>\n",
       "    </tr>\n",
       "    <tr>\n",
       "      <th>2</th>\n",
       "      <td>0</td>\n",
       "      <td>14931</td>\n",
       "      <td>left_only</td>\n",
       "    </tr>\n",
       "    <tr>\n",
       "      <th>3</th>\n",
       "      <td>0</td>\n",
       "      <td>6348</td>\n",
       "      <td>left_only</td>\n",
       "    </tr>\n",
       "    <tr>\n",
       "      <th>4</th>\n",
       "      <td>0</td>\n",
       "      <td>572</td>\n",
       "      <td>left_only</td>\n",
       "    </tr>\n",
       "    <tr>\n",
       "      <th>...</th>\n",
       "      <td>...</td>\n",
       "      <td>...</td>\n",
       "      <td>...</td>\n",
       "    </tr>\n",
       "    <tr>\n",
       "      <th>1072075</th>\n",
       "      <td>35735</td>\n",
       "      <td>37192</td>\n",
       "      <td>left_only</td>\n",
       "    </tr>\n",
       "    <tr>\n",
       "      <th>1072076</th>\n",
       "      <td>35735</td>\n",
       "      <td>35753</td>\n",
       "      <td>left_only</td>\n",
       "    </tr>\n",
       "    <tr>\n",
       "      <th>1072077</th>\n",
       "      <td>35735</td>\n",
       "      <td>35712</td>\n",
       "      <td>left_only</td>\n",
       "    </tr>\n",
       "    <tr>\n",
       "      <th>1072078</th>\n",
       "      <td>35735</td>\n",
       "      <td>37304</td>\n",
       "      <td>left_only</td>\n",
       "    </tr>\n",
       "    <tr>\n",
       "      <th>1072079</th>\n",
       "      <td>35735</td>\n",
       "      <td>36671</td>\n",
       "      <td>left_only</td>\n",
       "    </tr>\n",
       "  </tbody>\n",
       "</table>\n",
       "<p>1072080 rows × 3 columns</p>\n",
       "</div>"
      ]
     },
     "execution_count": 9,
     "metadata": {},
     "output_type": "execute_result"
    }
   ],
   "execution_count": 9
  },
  {
   "metadata": {
    "ExecuteTime": {
     "end_time": "2025-01-03T10:19:30.789010Z",
     "start_time": "2025-01-03T10:19:30.727469Z"
    }
   },
   "cell_type": "code",
   "source": [
    "training_dataframe[\"Label\"] = training_dataframe[\"Exist\"] == \"both\"\n",
    "training_dataframe.drop(columns = ['Exist'], inplace=True)\n",
    "training_dataframe"
   ],
   "id": "1e773b03cacbc751",
   "outputs": [
    {
     "data": {
      "text/plain": [
       "         UserID ItemID  Label\n",
       "0             0  14888  False\n",
       "1             0   7703  False\n",
       "2             0  14931  False\n",
       "3             0   6348  False\n",
       "4             0    572  False\n",
       "...         ...    ...    ...\n",
       "1072075   35735  37192  False\n",
       "1072076   35735  35753  False\n",
       "1072077   35735  35712  False\n",
       "1072078   35735  37304  False\n",
       "1072079   35735  36671  False\n",
       "\n",
       "[1072080 rows x 3 columns]"
      ],
      "text/html": [
       "<div>\n",
       "<style scoped>\n",
       "    .dataframe tbody tr th:only-of-type {\n",
       "        vertical-align: middle;\n",
       "    }\n",
       "\n",
       "    .dataframe tbody tr th {\n",
       "        vertical-align: top;\n",
       "    }\n",
       "\n",
       "    .dataframe thead th {\n",
       "        text-align: right;\n",
       "    }\n",
       "</style>\n",
       "<table border=\"1\" class=\"dataframe\">\n",
       "  <thead>\n",
       "    <tr style=\"text-align: right;\">\n",
       "      <th></th>\n",
       "      <th>UserID</th>\n",
       "      <th>ItemID</th>\n",
       "      <th>Label</th>\n",
       "    </tr>\n",
       "  </thead>\n",
       "  <tbody>\n",
       "    <tr>\n",
       "      <th>0</th>\n",
       "      <td>0</td>\n",
       "      <td>14888</td>\n",
       "      <td>False</td>\n",
       "    </tr>\n",
       "    <tr>\n",
       "      <th>1</th>\n",
       "      <td>0</td>\n",
       "      <td>7703</td>\n",
       "      <td>False</td>\n",
       "    </tr>\n",
       "    <tr>\n",
       "      <th>2</th>\n",
       "      <td>0</td>\n",
       "      <td>14931</td>\n",
       "      <td>False</td>\n",
       "    </tr>\n",
       "    <tr>\n",
       "      <th>3</th>\n",
       "      <td>0</td>\n",
       "      <td>6348</td>\n",
       "      <td>False</td>\n",
       "    </tr>\n",
       "    <tr>\n",
       "      <th>4</th>\n",
       "      <td>0</td>\n",
       "      <td>572</td>\n",
       "      <td>False</td>\n",
       "    </tr>\n",
       "    <tr>\n",
       "      <th>...</th>\n",
       "      <td>...</td>\n",
       "      <td>...</td>\n",
       "      <td>...</td>\n",
       "    </tr>\n",
       "    <tr>\n",
       "      <th>1072075</th>\n",
       "      <td>35735</td>\n",
       "      <td>37192</td>\n",
       "      <td>False</td>\n",
       "    </tr>\n",
       "    <tr>\n",
       "      <th>1072076</th>\n",
       "      <td>35735</td>\n",
       "      <td>35753</td>\n",
       "      <td>False</td>\n",
       "    </tr>\n",
       "    <tr>\n",
       "      <th>1072077</th>\n",
       "      <td>35735</td>\n",
       "      <td>35712</td>\n",
       "      <td>False</td>\n",
       "    </tr>\n",
       "    <tr>\n",
       "      <th>1072078</th>\n",
       "      <td>35735</td>\n",
       "      <td>37304</td>\n",
       "      <td>False</td>\n",
       "    </tr>\n",
       "    <tr>\n",
       "      <th>1072079</th>\n",
       "      <td>35735</td>\n",
       "      <td>36671</td>\n",
       "      <td>False</td>\n",
       "    </tr>\n",
       "  </tbody>\n",
       "</table>\n",
       "<p>1072080 rows × 3 columns</p>\n",
       "</div>"
      ]
     },
     "execution_count": 10,
     "metadata": {},
     "output_type": "execute_result"
    }
   ],
   "execution_count": 10
  },
  {
   "metadata": {
    "ExecuteTime": {
     "end_time": "2025-01-03T10:20:39.938919Z",
     "start_time": "2025-01-03T10:19:30.975070Z"
    }
   },
   "cell_type": "code",
   "source": [
    "from Recommenders.SLIM.Cython.SLIM_BPR_Cython import SLIM_BPR_Cython\n",
    "from Recommenders.NonPersonalizedRecommender import TopPop\n",
    "\n",
    "top_pop = TopPop(controller.URM_train)\n",
    "top_pop.fit()\n",
    "\n",
    "\n",
    "item_cf = ItemKNNCFRecommender(controller.URM_train)\n",
    "item_cf.load_model(folder_path=\"_saved_models\", file_name=\"itemtrain\")\n",
    "\n",
    "\n",
    "item_cbf = ItemKNNCBFRecommender(controller.URM_train, controller.ICM_all)\n",
    "item_cbf.fit()\n",
    "\n",
    "rp3beta = RP3betaRecommender(controller.URM_train)\n",
    "rp3beta.load_model(folder_path= \"_saved_models\",file_name=\"rp3train\")\n",
    "\n",
    "slimbpr = SLIM_BPR_Cython(controller.URM_train)\n",
    "slimbpr.load_model(folder_path= \"_saved_models\",file_name=\"bprtrain\")\n",
    "\n",
    "\n",
    "other_algorithms = {\n",
    "    \"top_pop\": top_pop,\n",
    "    \"item_cf\": item_cf,\n",
    "    \"item_cbf\": item_cbf,\n",
    "    \"rp3beta\": rp3beta,\n",
    "    \"SLIM_BPR\": slimbpr\n",
    "}"
   ],
   "id": "7629e9a486c743a4",
   "outputs": [
    {
     "name": "stdout",
     "output_type": "stream",
     "text": [
      "ItemKNNCFRecommender: Loading model from file '_saved_modelsitemtrain'\n",
      "ItemKNNCFRecommender: Loading complete\n",
      "Cython module imported successfully.\n",
      "Similarity column 38121 (100.0%), 561.93 column/sec. Elapsed time 1.13 min\n",
      "RP3betaRecommender: Loading model from file '_saved_modelsrp3train'\n",
      "RP3betaRecommender: Loading complete\n",
      "SLIM_BPR_Recommender: Loading model from file '_saved_modelsbprtrain'\n",
      "SLIM_BPR_Recommender: Loading complete\n"
     ]
    }
   ],
   "execution_count": 11
  },
  {
   "metadata": {
    "ExecuteTime": {
     "end_time": "2025-01-03T10:37:53.465589Z",
     "start_time": "2025-01-03T10:20:40.046677Z"
    }
   },
   "cell_type": "code",
   "source": [
    "training_dataframe = training_dataframe.set_index('UserID')\n",
    "\n",
    "for user_id in tqdm(range(n_users)):\n",
    "    for rec_label, rec_instance in other_algorithms.items():\n",
    "\n",
    "        item_list = training_dataframe.loc[user_id, \"ItemID\"].values.tolist()\n",
    "\n",
    "        all_item_scores = rec_instance._compute_item_score([user_id], items_to_compute = item_list)\n",
    "\n",
    "        training_dataframe.loc[user_id, rec_label] = all_item_scores[0, item_list]\n",
    "\n",
    "training_dataframe = training_dataframe.reset_index()\n",
    "training_dataframe = training_dataframe.rename(columns = {\"index\": \"UserID\"})\n",
    "training_dataframe"
   ],
   "id": "20186185074866eb",
   "outputs": [
    {
     "name": "stderr",
     "output_type": "stream",
     "text": [
      "100%|██████████| 35736/35736 [17:13<00:00, 34.58it/s]\n"
     ]
    },
    {
     "data": {
      "text/plain": [
       "         UserID ItemID  Label  top_pop   item_cf  item_cbf   rp3beta  SLIM_BPR\n",
       "0             0  14888  False     84.0  0.596443  0.000000  0.329630  0.843104\n",
       "1             0   7703  False     69.0  0.414451  0.208383  0.315615  0.877082\n",
       "2             0  14931  False     84.0  0.483289  0.117672  0.217824  1.250883\n",
       "3             0   6348  False    211.0  0.215074  0.000000  0.193364  0.512122\n",
       "4             0    572  False     78.0  0.401442  0.000000  0.153998  0.639469\n",
       "...         ...    ...    ...      ...       ...       ...       ...       ...\n",
       "1072075   35735  37192  False     27.0  0.234921  0.000000  0.093568  0.642780\n",
       "1072076   35735  35753  False     22.0  0.337339  0.156480  0.154681  0.650875\n",
       "1072077   35735  35712  False     19.0  0.273041  0.114071  0.053850  0.214327\n",
       "1072078   35735  37304  False     56.0  0.000000  0.000000  0.143927  0.633242\n",
       "1072079   35735  36671  False     21.0  0.124626  0.135029  0.090255  0.245957\n",
       "\n",
       "[1072080 rows x 8 columns]"
      ],
      "text/html": [
       "<div>\n",
       "<style scoped>\n",
       "    .dataframe tbody tr th:only-of-type {\n",
       "        vertical-align: middle;\n",
       "    }\n",
       "\n",
       "    .dataframe tbody tr th {\n",
       "        vertical-align: top;\n",
       "    }\n",
       "\n",
       "    .dataframe thead th {\n",
       "        text-align: right;\n",
       "    }\n",
       "</style>\n",
       "<table border=\"1\" class=\"dataframe\">\n",
       "  <thead>\n",
       "    <tr style=\"text-align: right;\">\n",
       "      <th></th>\n",
       "      <th>UserID</th>\n",
       "      <th>ItemID</th>\n",
       "      <th>Label</th>\n",
       "      <th>top_pop</th>\n",
       "      <th>item_cf</th>\n",
       "      <th>item_cbf</th>\n",
       "      <th>rp3beta</th>\n",
       "      <th>SLIM_BPR</th>\n",
       "    </tr>\n",
       "  </thead>\n",
       "  <tbody>\n",
       "    <tr>\n",
       "      <th>0</th>\n",
       "      <td>0</td>\n",
       "      <td>14888</td>\n",
       "      <td>False</td>\n",
       "      <td>84.0</td>\n",
       "      <td>0.596443</td>\n",
       "      <td>0.000000</td>\n",
       "      <td>0.329630</td>\n",
       "      <td>0.843104</td>\n",
       "    </tr>\n",
       "    <tr>\n",
       "      <th>1</th>\n",
       "      <td>0</td>\n",
       "      <td>7703</td>\n",
       "      <td>False</td>\n",
       "      <td>69.0</td>\n",
       "      <td>0.414451</td>\n",
       "      <td>0.208383</td>\n",
       "      <td>0.315615</td>\n",
       "      <td>0.877082</td>\n",
       "    </tr>\n",
       "    <tr>\n",
       "      <th>2</th>\n",
       "      <td>0</td>\n",
       "      <td>14931</td>\n",
       "      <td>False</td>\n",
       "      <td>84.0</td>\n",
       "      <td>0.483289</td>\n",
       "      <td>0.117672</td>\n",
       "      <td>0.217824</td>\n",
       "      <td>1.250883</td>\n",
       "    </tr>\n",
       "    <tr>\n",
       "      <th>3</th>\n",
       "      <td>0</td>\n",
       "      <td>6348</td>\n",
       "      <td>False</td>\n",
       "      <td>211.0</td>\n",
       "      <td>0.215074</td>\n",
       "      <td>0.000000</td>\n",
       "      <td>0.193364</td>\n",
       "      <td>0.512122</td>\n",
       "    </tr>\n",
       "    <tr>\n",
       "      <th>4</th>\n",
       "      <td>0</td>\n",
       "      <td>572</td>\n",
       "      <td>False</td>\n",
       "      <td>78.0</td>\n",
       "      <td>0.401442</td>\n",
       "      <td>0.000000</td>\n",
       "      <td>0.153998</td>\n",
       "      <td>0.639469</td>\n",
       "    </tr>\n",
       "    <tr>\n",
       "      <th>...</th>\n",
       "      <td>...</td>\n",
       "      <td>...</td>\n",
       "      <td>...</td>\n",
       "      <td>...</td>\n",
       "      <td>...</td>\n",
       "      <td>...</td>\n",
       "      <td>...</td>\n",
       "      <td>...</td>\n",
       "    </tr>\n",
       "    <tr>\n",
       "      <th>1072075</th>\n",
       "      <td>35735</td>\n",
       "      <td>37192</td>\n",
       "      <td>False</td>\n",
       "      <td>27.0</td>\n",
       "      <td>0.234921</td>\n",
       "      <td>0.000000</td>\n",
       "      <td>0.093568</td>\n",
       "      <td>0.642780</td>\n",
       "    </tr>\n",
       "    <tr>\n",
       "      <th>1072076</th>\n",
       "      <td>35735</td>\n",
       "      <td>35753</td>\n",
       "      <td>False</td>\n",
       "      <td>22.0</td>\n",
       "      <td>0.337339</td>\n",
       "      <td>0.156480</td>\n",
       "      <td>0.154681</td>\n",
       "      <td>0.650875</td>\n",
       "    </tr>\n",
       "    <tr>\n",
       "      <th>1072077</th>\n",
       "      <td>35735</td>\n",
       "      <td>35712</td>\n",
       "      <td>False</td>\n",
       "      <td>19.0</td>\n",
       "      <td>0.273041</td>\n",
       "      <td>0.114071</td>\n",
       "      <td>0.053850</td>\n",
       "      <td>0.214327</td>\n",
       "    </tr>\n",
       "    <tr>\n",
       "      <th>1072078</th>\n",
       "      <td>35735</td>\n",
       "      <td>37304</td>\n",
       "      <td>False</td>\n",
       "      <td>56.0</td>\n",
       "      <td>0.000000</td>\n",
       "      <td>0.000000</td>\n",
       "      <td>0.143927</td>\n",
       "      <td>0.633242</td>\n",
       "    </tr>\n",
       "    <tr>\n",
       "      <th>1072079</th>\n",
       "      <td>35735</td>\n",
       "      <td>36671</td>\n",
       "      <td>False</td>\n",
       "      <td>21.0</td>\n",
       "      <td>0.124626</td>\n",
       "      <td>0.135029</td>\n",
       "      <td>0.090255</td>\n",
       "      <td>0.245957</td>\n",
       "    </tr>\n",
       "  </tbody>\n",
       "</table>\n",
       "<p>1072080 rows × 8 columns</p>\n",
       "</div>"
      ]
     },
     "execution_count": 12,
     "metadata": {},
     "output_type": "execute_result"
    }
   ],
   "execution_count": 12
  },
  {
   "metadata": {
    "ExecuteTime": {
     "end_time": "2025-01-03T10:37:53.558201Z",
     "start_time": "2025-01-03T10:37:53.544163Z"
    }
   },
   "cell_type": "code",
   "source": [
    "\n",
    "'''ICM_features = controller.ICM_all.to_dict()[\"feature_id\"]\n",
    "ICM_features'''\n",
    "\n",
    "\n"
   ],
   "id": "b93b7b4bb497414f",
   "outputs": [
    {
     "data": {
      "text/plain": [
       "'ICM_features = controller.ICM_all.to_dict()[\"feature_id\"]\\nICM_features'"
      ]
     },
     "execution_count": 13,
     "metadata": {},
     "output_type": "execute_result"
    }
   ],
   "execution_count": 13
  },
  {
   "metadata": {
    "ExecuteTime": {
     "end_time": "2025-01-03T10:37:53.747983Z",
     "start_time": "2025-01-03T10:37:53.662292Z"
    }
   },
   "cell_type": "code",
   "source": [
    "item_popularity = np.ediff1d(sps.csc_matrix(controller.URM_train).indptr)\n",
    "\n",
    "training_dataframe['item_popularity'] = item_popularity[training_dataframe[\"ItemID\"].values.astype(int)]\n",
    "\n",
    "training_dataframe"
   ],
   "id": "7f1094a4fb34c754",
   "outputs": [
    {
     "data": {
      "text/plain": [
       "         UserID ItemID  Label  top_pop   item_cf  item_cbf   rp3beta  \\\n",
       "0             0  14888  False     84.0  0.596443  0.000000  0.329630   \n",
       "1             0   7703  False     69.0  0.414451  0.208383  0.315615   \n",
       "2             0  14931  False     84.0  0.483289  0.117672  0.217824   \n",
       "3             0   6348  False    211.0  0.215074  0.000000  0.193364   \n",
       "4             0    572  False     78.0  0.401442  0.000000  0.153998   \n",
       "...         ...    ...    ...      ...       ...       ...       ...   \n",
       "1072075   35735  37192  False     27.0  0.234921  0.000000  0.093568   \n",
       "1072076   35735  35753  False     22.0  0.337339  0.156480  0.154681   \n",
       "1072077   35735  35712  False     19.0  0.273041  0.114071  0.053850   \n",
       "1072078   35735  37304  False     56.0  0.000000  0.000000  0.143927   \n",
       "1072079   35735  36671  False     21.0  0.124626  0.135029  0.090255   \n",
       "\n",
       "         SLIM_BPR  item_popularity  \n",
       "0        0.843104               84  \n",
       "1        0.877082               69  \n",
       "2        1.250883               84  \n",
       "3        0.512122              211  \n",
       "4        0.639469               78  \n",
       "...           ...              ...  \n",
       "1072075  0.642780               27  \n",
       "1072076  0.650875               22  \n",
       "1072077  0.214327               19  \n",
       "1072078  0.633242               56  \n",
       "1072079  0.245957               21  \n",
       "\n",
       "[1072080 rows x 9 columns]"
      ],
      "text/html": [
       "<div>\n",
       "<style scoped>\n",
       "    .dataframe tbody tr th:only-of-type {\n",
       "        vertical-align: middle;\n",
       "    }\n",
       "\n",
       "    .dataframe tbody tr th {\n",
       "        vertical-align: top;\n",
       "    }\n",
       "\n",
       "    .dataframe thead th {\n",
       "        text-align: right;\n",
       "    }\n",
       "</style>\n",
       "<table border=\"1\" class=\"dataframe\">\n",
       "  <thead>\n",
       "    <tr style=\"text-align: right;\">\n",
       "      <th></th>\n",
       "      <th>UserID</th>\n",
       "      <th>ItemID</th>\n",
       "      <th>Label</th>\n",
       "      <th>top_pop</th>\n",
       "      <th>item_cf</th>\n",
       "      <th>item_cbf</th>\n",
       "      <th>rp3beta</th>\n",
       "      <th>SLIM_BPR</th>\n",
       "      <th>item_popularity</th>\n",
       "    </tr>\n",
       "  </thead>\n",
       "  <tbody>\n",
       "    <tr>\n",
       "      <th>0</th>\n",
       "      <td>0</td>\n",
       "      <td>14888</td>\n",
       "      <td>False</td>\n",
       "      <td>84.0</td>\n",
       "      <td>0.596443</td>\n",
       "      <td>0.000000</td>\n",
       "      <td>0.329630</td>\n",
       "      <td>0.843104</td>\n",
       "      <td>84</td>\n",
       "    </tr>\n",
       "    <tr>\n",
       "      <th>1</th>\n",
       "      <td>0</td>\n",
       "      <td>7703</td>\n",
       "      <td>False</td>\n",
       "      <td>69.0</td>\n",
       "      <td>0.414451</td>\n",
       "      <td>0.208383</td>\n",
       "      <td>0.315615</td>\n",
       "      <td>0.877082</td>\n",
       "      <td>69</td>\n",
       "    </tr>\n",
       "    <tr>\n",
       "      <th>2</th>\n",
       "      <td>0</td>\n",
       "      <td>14931</td>\n",
       "      <td>False</td>\n",
       "      <td>84.0</td>\n",
       "      <td>0.483289</td>\n",
       "      <td>0.117672</td>\n",
       "      <td>0.217824</td>\n",
       "      <td>1.250883</td>\n",
       "      <td>84</td>\n",
       "    </tr>\n",
       "    <tr>\n",
       "      <th>3</th>\n",
       "      <td>0</td>\n",
       "      <td>6348</td>\n",
       "      <td>False</td>\n",
       "      <td>211.0</td>\n",
       "      <td>0.215074</td>\n",
       "      <td>0.000000</td>\n",
       "      <td>0.193364</td>\n",
       "      <td>0.512122</td>\n",
       "      <td>211</td>\n",
       "    </tr>\n",
       "    <tr>\n",
       "      <th>4</th>\n",
       "      <td>0</td>\n",
       "      <td>572</td>\n",
       "      <td>False</td>\n",
       "      <td>78.0</td>\n",
       "      <td>0.401442</td>\n",
       "      <td>0.000000</td>\n",
       "      <td>0.153998</td>\n",
       "      <td>0.639469</td>\n",
       "      <td>78</td>\n",
       "    </tr>\n",
       "    <tr>\n",
       "      <th>...</th>\n",
       "      <td>...</td>\n",
       "      <td>...</td>\n",
       "      <td>...</td>\n",
       "      <td>...</td>\n",
       "      <td>...</td>\n",
       "      <td>...</td>\n",
       "      <td>...</td>\n",
       "      <td>...</td>\n",
       "      <td>...</td>\n",
       "    </tr>\n",
       "    <tr>\n",
       "      <th>1072075</th>\n",
       "      <td>35735</td>\n",
       "      <td>37192</td>\n",
       "      <td>False</td>\n",
       "      <td>27.0</td>\n",
       "      <td>0.234921</td>\n",
       "      <td>0.000000</td>\n",
       "      <td>0.093568</td>\n",
       "      <td>0.642780</td>\n",
       "      <td>27</td>\n",
       "    </tr>\n",
       "    <tr>\n",
       "      <th>1072076</th>\n",
       "      <td>35735</td>\n",
       "      <td>35753</td>\n",
       "      <td>False</td>\n",
       "      <td>22.0</td>\n",
       "      <td>0.337339</td>\n",
       "      <td>0.156480</td>\n",
       "      <td>0.154681</td>\n",
       "      <td>0.650875</td>\n",
       "      <td>22</td>\n",
       "    </tr>\n",
       "    <tr>\n",
       "      <th>1072077</th>\n",
       "      <td>35735</td>\n",
       "      <td>35712</td>\n",
       "      <td>False</td>\n",
       "      <td>19.0</td>\n",
       "      <td>0.273041</td>\n",
       "      <td>0.114071</td>\n",
       "      <td>0.053850</td>\n",
       "      <td>0.214327</td>\n",
       "      <td>19</td>\n",
       "    </tr>\n",
       "    <tr>\n",
       "      <th>1072078</th>\n",
       "      <td>35735</td>\n",
       "      <td>37304</td>\n",
       "      <td>False</td>\n",
       "      <td>56.0</td>\n",
       "      <td>0.000000</td>\n",
       "      <td>0.000000</td>\n",
       "      <td>0.143927</td>\n",
       "      <td>0.633242</td>\n",
       "      <td>56</td>\n",
       "    </tr>\n",
       "    <tr>\n",
       "      <th>1072079</th>\n",
       "      <td>35735</td>\n",
       "      <td>36671</td>\n",
       "      <td>False</td>\n",
       "      <td>21.0</td>\n",
       "      <td>0.124626</td>\n",
       "      <td>0.135029</td>\n",
       "      <td>0.090255</td>\n",
       "      <td>0.245957</td>\n",
       "      <td>21</td>\n",
       "    </tr>\n",
       "  </tbody>\n",
       "</table>\n",
       "<p>1072080 rows × 9 columns</p>\n",
       "</div>"
      ]
     },
     "execution_count": 14,
     "metadata": {},
     "output_type": "execute_result"
    }
   ],
   "execution_count": 14
  },
  {
   "metadata": {
    "ExecuteTime": {
     "end_time": "2025-01-03T10:37:53.827518Z",
     "start_time": "2025-01-03T10:37:53.812506Z"
    }
   },
   "cell_type": "code",
   "source": "",
   "id": "992d71e9928ece70",
   "outputs": [],
   "execution_count": null
  },
  {
   "metadata": {
    "ExecuteTime": {
     "end_time": "2025-01-03T10:37:53.937027Z",
     "start_time": "2025-01-03T10:37:53.917027Z"
    }
   },
   "cell_type": "code",
   "source": "type(training_dataframe[\"ItemID\"])",
   "id": "c437b948cb429f3c",
   "outputs": [
    {
     "data": {
      "text/plain": [
       "pandas.core.series.Series"
      ]
     },
     "execution_count": 15,
     "metadata": {},
     "output_type": "execute_result"
    }
   ],
   "execution_count": 15
  },
  {
   "metadata": {
    "ExecuteTime": {
     "end_time": "2025-01-03T10:37:54.359259Z",
     "start_time": "2025-01-03T10:37:53.994546Z"
    }
   },
   "cell_type": "code",
   "source": [
    "training_dataframe = training_dataframe.sort_values(\"UserID\").reset_index()\n",
    "training_dataframe.drop(columns = ['index'], inplace=True)\n",
    "training_dataframe"
   ],
   "id": "28a56d8ed8c7536c",
   "outputs": [
    {
     "data": {
      "text/plain": [
       "         UserID ItemID  Label  top_pop   item_cf  item_cbf   rp3beta  \\\n",
       "0             0  14888  False     84.0  0.596443  0.000000  0.329630   \n",
       "1             0   8604  False     46.0  0.125891  0.114287  0.144934   \n",
       "2             0   2637  False     50.0  0.156046  0.000000  0.151087   \n",
       "3             0    357  False     18.0  0.190027  0.229645  0.193463   \n",
       "4             0  28958  False     28.0  0.183764  0.242260  0.140692   \n",
       "...         ...    ...    ...      ...       ...       ...       ...   \n",
       "1072075   35735  37801   True     37.0  0.885405  0.484419  0.320712   \n",
       "1072076   35735  37657  False     76.0  1.283847  0.263317  0.451972   \n",
       "1072077   35735  37304  False     56.0  0.000000  0.000000  0.143927   \n",
       "1072078   35735  36322  False     19.0  0.489228  0.111659  0.204982   \n",
       "1072079   35735  36671  False     21.0  0.124626  0.135029  0.090255   \n",
       "\n",
       "         SLIM_BPR  item_popularity  \n",
       "0        0.843104               84  \n",
       "1        0.461293               46  \n",
       "2        0.417259               50  \n",
       "3        0.202158               18  \n",
       "4        0.000000               28  \n",
       "...           ...              ...  \n",
       "1072075  1.233479               37  \n",
       "1072076  2.465509               76  \n",
       "1072077  0.633242               56  \n",
       "1072078  2.025169               19  \n",
       "1072079  0.245957               21  \n",
       "\n",
       "[1072080 rows x 9 columns]"
      ],
      "text/html": [
       "<div>\n",
       "<style scoped>\n",
       "    .dataframe tbody tr th:only-of-type {\n",
       "        vertical-align: middle;\n",
       "    }\n",
       "\n",
       "    .dataframe tbody tr th {\n",
       "        vertical-align: top;\n",
       "    }\n",
       "\n",
       "    .dataframe thead th {\n",
       "        text-align: right;\n",
       "    }\n",
       "</style>\n",
       "<table border=\"1\" class=\"dataframe\">\n",
       "  <thead>\n",
       "    <tr style=\"text-align: right;\">\n",
       "      <th></th>\n",
       "      <th>UserID</th>\n",
       "      <th>ItemID</th>\n",
       "      <th>Label</th>\n",
       "      <th>top_pop</th>\n",
       "      <th>item_cf</th>\n",
       "      <th>item_cbf</th>\n",
       "      <th>rp3beta</th>\n",
       "      <th>SLIM_BPR</th>\n",
       "      <th>item_popularity</th>\n",
       "    </tr>\n",
       "  </thead>\n",
       "  <tbody>\n",
       "    <tr>\n",
       "      <th>0</th>\n",
       "      <td>0</td>\n",
       "      <td>14888</td>\n",
       "      <td>False</td>\n",
       "      <td>84.0</td>\n",
       "      <td>0.596443</td>\n",
       "      <td>0.000000</td>\n",
       "      <td>0.329630</td>\n",
       "      <td>0.843104</td>\n",
       "      <td>84</td>\n",
       "    </tr>\n",
       "    <tr>\n",
       "      <th>1</th>\n",
       "      <td>0</td>\n",
       "      <td>8604</td>\n",
       "      <td>False</td>\n",
       "      <td>46.0</td>\n",
       "      <td>0.125891</td>\n",
       "      <td>0.114287</td>\n",
       "      <td>0.144934</td>\n",
       "      <td>0.461293</td>\n",
       "      <td>46</td>\n",
       "    </tr>\n",
       "    <tr>\n",
       "      <th>2</th>\n",
       "      <td>0</td>\n",
       "      <td>2637</td>\n",
       "      <td>False</td>\n",
       "      <td>50.0</td>\n",
       "      <td>0.156046</td>\n",
       "      <td>0.000000</td>\n",
       "      <td>0.151087</td>\n",
       "      <td>0.417259</td>\n",
       "      <td>50</td>\n",
       "    </tr>\n",
       "    <tr>\n",
       "      <th>3</th>\n",
       "      <td>0</td>\n",
       "      <td>357</td>\n",
       "      <td>False</td>\n",
       "      <td>18.0</td>\n",
       "      <td>0.190027</td>\n",
       "      <td>0.229645</td>\n",
       "      <td>0.193463</td>\n",
       "      <td>0.202158</td>\n",
       "      <td>18</td>\n",
       "    </tr>\n",
       "    <tr>\n",
       "      <th>4</th>\n",
       "      <td>0</td>\n",
       "      <td>28958</td>\n",
       "      <td>False</td>\n",
       "      <td>28.0</td>\n",
       "      <td>0.183764</td>\n",
       "      <td>0.242260</td>\n",
       "      <td>0.140692</td>\n",
       "      <td>0.000000</td>\n",
       "      <td>28</td>\n",
       "    </tr>\n",
       "    <tr>\n",
       "      <th>...</th>\n",
       "      <td>...</td>\n",
       "      <td>...</td>\n",
       "      <td>...</td>\n",
       "      <td>...</td>\n",
       "      <td>...</td>\n",
       "      <td>...</td>\n",
       "      <td>...</td>\n",
       "      <td>...</td>\n",
       "      <td>...</td>\n",
       "    </tr>\n",
       "    <tr>\n",
       "      <th>1072075</th>\n",
       "      <td>35735</td>\n",
       "      <td>37801</td>\n",
       "      <td>True</td>\n",
       "      <td>37.0</td>\n",
       "      <td>0.885405</td>\n",
       "      <td>0.484419</td>\n",
       "      <td>0.320712</td>\n",
       "      <td>1.233479</td>\n",
       "      <td>37</td>\n",
       "    </tr>\n",
       "    <tr>\n",
       "      <th>1072076</th>\n",
       "      <td>35735</td>\n",
       "      <td>37657</td>\n",
       "      <td>False</td>\n",
       "      <td>76.0</td>\n",
       "      <td>1.283847</td>\n",
       "      <td>0.263317</td>\n",
       "      <td>0.451972</td>\n",
       "      <td>2.465509</td>\n",
       "      <td>76</td>\n",
       "    </tr>\n",
       "    <tr>\n",
       "      <th>1072077</th>\n",
       "      <td>35735</td>\n",
       "      <td>37304</td>\n",
       "      <td>False</td>\n",
       "      <td>56.0</td>\n",
       "      <td>0.000000</td>\n",
       "      <td>0.000000</td>\n",
       "      <td>0.143927</td>\n",
       "      <td>0.633242</td>\n",
       "      <td>56</td>\n",
       "    </tr>\n",
       "    <tr>\n",
       "      <th>1072078</th>\n",
       "      <td>35735</td>\n",
       "      <td>36322</td>\n",
       "      <td>False</td>\n",
       "      <td>19.0</td>\n",
       "      <td>0.489228</td>\n",
       "      <td>0.111659</td>\n",
       "      <td>0.204982</td>\n",
       "      <td>2.025169</td>\n",
       "      <td>19</td>\n",
       "    </tr>\n",
       "    <tr>\n",
       "      <th>1072079</th>\n",
       "      <td>35735</td>\n",
       "      <td>36671</td>\n",
       "      <td>False</td>\n",
       "      <td>21.0</td>\n",
       "      <td>0.124626</td>\n",
       "      <td>0.135029</td>\n",
       "      <td>0.090255</td>\n",
       "      <td>0.245957</td>\n",
       "      <td>21</td>\n",
       "    </tr>\n",
       "  </tbody>\n",
       "</table>\n",
       "<p>1072080 rows × 9 columns</p>\n",
       "</div>"
      ]
     },
     "execution_count": 16,
     "metadata": {},
     "output_type": "execute_result"
    }
   ],
   "execution_count": 16
  },
  {
   "metadata": {
    "ExecuteTime": {
     "end_time": "2025-01-03T10:37:54.575980Z",
     "start_time": "2025-01-03T10:37:54.486799Z"
    }
   },
   "cell_type": "code",
   "source": [
    "groups = training_dataframe.groupby(\"UserID\").size().values\n",
    "groups"
   ],
   "id": "fa242e8da81b119b",
   "outputs": [
    {
     "data": {
      "text/plain": [
       "array([30, 30, 30, ..., 30, 30, 30], dtype=int64)"
      ]
     },
     "execution_count": 17,
     "metadata": {},
     "output_type": "execute_result"
    }
   ],
   "execution_count": 17
  },
  {
   "metadata": {
    "ExecuteTime": {
     "end_time": "2025-01-03T10:37:54.719044Z",
     "start_time": "2025-01-03T10:37:54.690523Z"
    }
   },
   "cell_type": "code",
   "source": [
    "n_estimators = 50\n",
    "learning_rate = 1e-1\n",
    "reg_alpha = 1e-1\n",
    "reg_lambda = 1e-1\n",
    "max_depth = 5\n",
    "max_leaves = 0\n",
    "grow_policy = \"depthwise\"\n",
    "objective = \"pairwise\"\n",
    "booster = \"gbtree\"\n",
    "use_user_profile = False\n",
    "random_seed = None\n",
    "\n",
    "XGB_model = XGBRanker(objective='rank:{}'.format(objective),\n",
    "                      n_estimators = int(n_estimators),\n",
    "                      random_state = random_seed,\n",
    "                      learning_rate = learning_rate,\n",
    "                      reg_alpha = reg_alpha,\n",
    "                      reg_lambda = reg_lambda,\n",
    "                      max_depth = int(max_depth),\n",
    "                      max_leaves = int(max_leaves),\n",
    "                      grow_policy = grow_policy,\n",
    "                      verbosity = 0, # 2 if self.verbose else 0,\n",
    "                      booster = booster,\n",
    "                      )"
   ],
   "id": "851655ffa562cad7",
   "outputs": [],
   "execution_count": 18
  },
  {
   "metadata": {
    "ExecuteTime": {
     "end_time": "2025-01-03T10:37:54.858923Z",
     "start_time": "2025-01-03T10:37:54.845924Z"
    }
   },
   "cell_type": "code",
   "source": [
    "'''candidate_recommender = SLIMElasticNetRecommender(controller.URM_train)\n",
    "candidate_recommender.fit(alpha= 0.00022742003969239836, topK= 709, l1_ratio= 0.1488442906776265)\n",
    "candidate_recommender.save_model(folder_path=\"_saved_models\", file_name = \"ModelName.SLIM_ElasticNetTrain\")'''"
   ],
   "id": "fbf7cf84486760d3",
   "outputs": [
    {
     "data": {
      "text/plain": [
       "'candidate_recommender = SLIMElasticNetRecommender(controller.URM_train)\\ncandidate_recommender.fit(alpha= 0.00022742003969239836, topK= 709, l1_ratio= 0.1488442906776265)\\ncandidate_recommender.save_model(folder_path=\"_saved_models\", file_name = \"ModelName.SLIM_ElasticNetTrain\")'"
      ]
     },
     "execution_count": 19,
     "metadata": {},
     "output_type": "execute_result"
    }
   ],
   "execution_count": 19
  },
  {
   "metadata": {
    "ExecuteTime": {
     "end_time": "2025-01-03T10:37:54.890934Z",
     "start_time": "2025-01-03T10:37:54.885934Z"
    }
   },
   "cell_type": "code",
   "source": "",
   "id": "18c2bb64d8e3ea3d",
   "outputs": [],
   "execution_count": null
  },
  {
   "metadata": {
    "ExecuteTime": {
     "end_time": "2025-01-03T10:38:02.452921Z",
     "start_time": "2025-01-03T10:37:54.946455Z"
    }
   },
   "cell_type": "code",
   "source": [
    "# Check the data types of the columns in training_dataframe\n",
    "print(training_dataframe.dtypes)\n",
    "\n",
    "# Convert unsupported data types to supported ones\n",
    "for column in training_dataframe.columns:\n",
    "    if training_dataframe[column].dtype not in [int, float, bool, 'category']:\n",
    "        training_dataframe[column] = training_dataframe[column].astype(float)\n",
    "\n",
    "# Verify the data types after conversion\n",
    "print(training_dataframe.dtypes)\n",
    "y_train = training_dataframe[\"Label\"]\n",
    "X_train = training_dataframe.drop(columns=[\"Label\"])\n",
    "\n",
    "XGB_model.fit(X_train,\n",
    "          y_train,\n",
    "          group=groups,\n",
    "          verbose=True)"
   ],
   "id": "bc8b0a93266b568a",
   "outputs": [
    {
     "name": "stdout",
     "output_type": "stream",
     "text": [
      "UserID               int64\n",
      "ItemID              object\n",
      "Label                 bool\n",
      "top_pop            float64\n",
      "item_cf            float64\n",
      "item_cbf           float64\n",
      "rp3beta            float64\n",
      "SLIM_BPR           float64\n",
      "item_popularity      int32\n",
      "dtype: object\n",
      "UserID             float64\n",
      "ItemID             float64\n",
      "Label                 bool\n",
      "top_pop            float64\n",
      "item_cf            float64\n",
      "item_cbf           float64\n",
      "rp3beta            float64\n",
      "SLIM_BPR           float64\n",
      "item_popularity      int32\n",
      "dtype: object\n"
     ]
    },
    {
     "data": {
      "text/plain": [
       "XGBRanker(base_score=None, booster='gbtree', callbacks=None,\n",
       "          colsample_bylevel=None, colsample_bynode=None, colsample_bytree=None,\n",
       "          device=None, early_stopping_rounds=None, enable_categorical=False,\n",
       "          eval_metric=None, feature_types=None, gamma=None,\n",
       "          grow_policy='depthwise', importance_type=None,\n",
       "          interaction_constraints=None, learning_rate=0.1, max_bin=None,\n",
       "          max_cat_threshold=None, max_cat_to_onehot=None, max_delta_step=None,\n",
       "          max_depth=5, max_leaves=0, min_child_weight=None, missing=nan,\n",
       "          monotone_constraints=None, multi_strategy=None, n_estimators=50,\n",
       "          n_jobs=None, num_parallel_tree=None, objective='rank:pairwise', ...)"
      ]
     },
     "execution_count": 20,
     "metadata": {},
     "output_type": "execute_result"
    }
   ],
   "execution_count": 20
  },
  {
   "metadata": {
    "ExecuteTime": {
     "end_time": "2025-01-03T10:38:02.548440Z",
     "start_time": "2025-01-03T10:38:02.503441Z"
    }
   },
   "cell_type": "code",
   "source": [
    "# Let's say I want to compute the prediction for a group of user-item pairs, for simplicity I will use a slice of the data used\n",
    "# for training because it already contains all the features\n",
    "X_to_predict = X_train[X_train[\"UserID\"] == 10]\n",
    "\n",
    "XGB_model.predict(X_to_predict)"
   ],
   "id": "4dae2003b8b61627",
   "outputs": [
    {
     "data": {
      "text/plain": [
       "array([-0.4630511 , -0.5221202 , -0.3361133 , -0.66000146, -0.52772325,\n",
       "       -0.11037607, -0.7319823 , -0.25174314, -0.7765854 , -0.6903655 ,\n",
       "       -0.50489885, -0.44050306, -0.4333536 , -0.45914742, -0.02388782,\n",
       "       -0.49518135, -0.40030077,  0.42419595,  0.35830188,  0.01412628,\n",
       "        0.05981028, -0.12873758, -0.14736015, -0.04937071, -0.41366297,\n",
       "       -0.28934684, -0.04251342, -0.35703883, -0.42739096, -0.21289133],\n",
       "      dtype=float32)"
      ]
     },
     "execution_count": 21,
     "metadata": {},
     "output_type": "execute_result"
    }
   ],
   "execution_count": 21
  },
  {
   "metadata": {
    "ExecuteTime": {
     "end_time": "2025-01-03T10:38:02.611963Z",
     "start_time": "2025-01-03T10:38:02.598956Z"
    }
   },
   "cell_type": "code",
   "source": "",
   "id": "31e49a308c9e88fb",
   "outputs": [],
   "execution_count": null
  },
  {
   "metadata": {
    "ExecuteTime": {
     "end_time": "2025-01-03T10:38:02.985804Z",
     "start_time": "2025-01-03T10:38:02.661236Z"
    }
   },
   "cell_type": "code",
   "source": [
    "from xgboost import plot_importance\n",
    "\n",
    "plot_importance(XGB_model, importance_type='weight', title='Weight (Frequence)')"
   ],
   "id": "30f662e58a36c07b",
   "outputs": [
    {
     "data": {
      "text/plain": [
       "<AxesSubplot:title={'center':'Weight (Frequence)'}, xlabel='F score', ylabel='Features'>"
      ]
     },
     "execution_count": 22,
     "metadata": {},
     "output_type": "execute_result"
    },
    {
     "data": {
      "text/plain": [
       "<Figure size 640x480 with 1 Axes>"
      ],
      "image/png": "[encoded data removed]"
     },
     "metadata": {},
     "output_type": "display_data"
    }
   ],
   "execution_count": 22
  },
  {
   "metadata": {
    "ExecuteTime": {
     "end_time": "2025-01-03T10:38:03.158514Z",
     "start_time": "2025-01-03T10:38:03.018656Z"
    }
   },
   "cell_type": "code",
   "source": [
    "X_train[\"UserID\"] = X_train[\"UserID\"].astype(\"category\")\n",
    "X_train[\"ItemID\"] = X_train[\"ItemID\"].astype(\"category\")"
   ],
   "id": "633c6a22bd1bc2f9",
   "outputs": [],
   "execution_count": 23
  },
  {
   "metadata": {
    "ExecuteTime": {
     "end_time": "2025-01-03T10:38:16.158431Z",
     "start_time": "2025-01-03T10:38:03.191659Z"
    }
   },
   "cell_type": "code",
   "source": [
    "XGB_model = XGBRanker(objective='rank:{}'.format(objective),\n",
    "                      n_estimators = int(n_estimators),\n",
    "                      random_state = random_seed,\n",
    "                      learning_rate = learning_rate,\n",
    "                      reg_alpha = reg_alpha,\n",
    "                      reg_lambda = reg_lambda,\n",
    "                      max_depth = int(max_depth),\n",
    "                      max_leaves = int(max_leaves),\n",
    "                      grow_policy = grow_policy,\n",
    "                      verbosity = 0, # 2 if self.verbose else 0,\n",
    "                      booster = booster,\n",
    "                      enable_categorical = True,\n",
    "                      tree_method = \"hist\",  # Supported tree methods are `gpu_hist`, `approx`, and `hist`.\n",
    "                      )\n",
    "\n",
    "XGB_model.fit(X_train,\n",
    "          y_train,\n",
    "          group=groups,\n",
    "          verbose=True)"
   ],
   "id": "ee1b19da4c325d3f",
   "outputs": [
    {
     "data": {
      "text/plain": [
       "XGBRanker(base_score=None, booster='gbtree', callbacks=None,\n",
       "          colsample_bylevel=None, colsample_bynode=None, colsample_bytree=None,\n",
       "          device=None, early_stopping_rounds=None, enable_categorical=True,\n",
       "          eval_metric=None, feature_types=None, gamma=None,\n",
       "          grow_policy='depthwise', importance_type=None,\n",
       "          interaction_constraints=None, learning_rate=0.1, max_bin=None,\n",
       "          max_cat_threshold=None, max_cat_to_onehot=None, max_delta_step=None,\n",
       "          max_depth=5, max_leaves=0, min_child_weight=None, missing=nan,\n",
       "          monotone_constraints=None, multi_strategy=None, n_estimators=50,\n",
       "          n_jobs=None, num_parallel_tree=None, objective='rank:pairwise', ...)"
      ]
     },
     "execution_count": 24,
     "metadata": {},
     "output_type": "execute_result"
    }
   ],
   "execution_count": 24
  },
  {
   "metadata": {
    "ExecuteTime": {
     "end_time": "2025-01-03T10:38:16.235947Z",
     "start_time": "2025-01-03T10:38:16.206945Z"
    }
   },
   "cell_type": "code",
   "source": [
    "X_to_predict = X_train[X_train[\"UserID\"] == 10]\n",
    "\n",
    "XGB_model.predict(X_to_predict)"
   ],
   "id": "aac687d0269d3e6d",
   "outputs": [
    {
     "data": {
      "text/plain": [
       "array([-4.15653318e-01, -3.80444050e-01, -1.77042574e-01, -3.34050119e-01,\n",
       "       -2.59669036e-01, -2.61394769e-01, -3.64055216e-01, -3.49155128e-01,\n",
       "       -3.78662109e-01, -3.46304089e-01, -3.69437695e-01, -2.67032772e-01,\n",
       "       -3.05242240e-01, -1.99784502e-01, -1.63087770e-02, -2.50838488e-01,\n",
       "       -1.90633237e-01,  3.13986748e-01,  2.01428130e-01,  5.59336171e-02,\n",
       "       -4.08253341e-04, -1.15818255e-01, -9.64099020e-02, -3.31272595e-02,\n",
       "       -2.24182248e-01, -1.90681696e-01, -4.08253341e-04, -2.02806935e-01,\n",
       "       -3.10294658e-01, -9.79869366e-02], dtype=float32)"
      ]
     },
     "execution_count": 25,
     "metadata": {},
     "output_type": "execute_result"
    }
   ],
   "execution_count": 25
  },
  {
   "metadata": {
    "ExecuteTime": {
     "end_time": "2025-01-03T10:38:16.453514Z",
     "start_time": "2025-01-03T10:38:16.284948Z"
    }
   },
   "cell_type": "code",
   "source": "plot_importance(XGB_model, importance_type='weight', title='Weight (Frequence)')",
   "id": "16e50fa570e42ff9",
   "outputs": [
    {
     "data": {
      "text/plain": [
       "<AxesSubplot:title={'center':'Weight (Frequence)'}, xlabel='F score', ylabel='Features'>"
      ]
     },
     "execution_count": 26,
     "metadata": {},
     "output_type": "execute_result"
    },
    {
     "data": {
      "text/plain": [
       "<Figure size 640x480 with 1 Axes>"
      ],
      "image/png": "[encoded data removed]"
     },
     "metadata": {},
     "output_type": "display_data"
    }
   ],
   "execution_count": 26
  },
  {
   "metadata": {
    "ExecuteTime": {
     "end_time": "2025-01-03T10:39:12.986033Z",
     "start_time": "2025-01-03T10:38:16.501542Z"
    }
   },
   "cell_type": "code",
   "source": [
    "slim1 = SLIMElasticNetRecommender(URM_all)\n",
    "slim1.load_model(folder_path=\"_saved_models\", file_name=\"SLIM_ElasticNetAll\")\n",
    "stacked = sps.vstack([0.6814451172353111 * URM_all, (1 - 0.6814451172353111) * controller.ICM_all.T]).tocsr()\n",
    "slim2 = SLIMElasticNetRecommender(stacked)\n",
    "slim2.load_model(folder_path=\"_saved_models\", file_name=\"SLIMstackedAll1\")\n",
    "bestrp3 = RP3betaRecommender(URM_all)\n",
    "bestrp3.fit(topK= 12 , alpha = 0.25843, beta= 0.357834)\n",
    "hyb1 = HybridOptunable2(URM_all)\n",
    "hyb1.fit(0.27959722573911727,slim1,slim2)\n",
    "ease1 = EASE_R_Recommender(URM_all)\n",
    "ease1.load_model(folder_path=\"_saved_models\", file_name=\"easeall\")\n",
    "hyb2 = HybridOptunable2(URM_all)\n",
    "hyb2.fit(0.18923840370620948,hyb1,bestrp3)\n",
    "hyb3 = ScoresHybridRecommender(controller.URM_train, ease1, hyb2, bestrp3, slim1, slim1)\n",
    "alpha=0.689217356\n",
    "hyb3.fit(alpha,1-alpha,0,0,0)"
   ],
   "id": "851bf3ee939f5214",
   "outputs": [
    {
     "name": "stdout",
     "output_type": "stream",
     "text": [
      "SLIMElasticNetRecommender: Loading model from file '_saved_modelsSLIM_ElasticNetAll'\n",
      "SLIMElasticNetRecommender: Loading complete\n",
      "SLIMElasticNetRecommender: Loading model from file '_saved_modelsSLIMstackedAll1'\n",
      "SLIMElasticNetRecommender: Loading complete\n",
      "RP3betaRecommender: Similarity column 38121 (100.0%), 2447.99 column/sec. Elapsed time 15.57 sec\n",
      "EASE_R_Recommender: Loading model from file '_saved_modelseaseall'\n",
      "EASE_R_Recommender: Loading complete\n"
     ]
    }
   ],
   "execution_count": 27
  },
  {
   "metadata": {
    "ExecuteTime": {
     "end_time": "2025-01-03T11:08:48.657424Z",
     "start_time": "2025-01-03T11:05:40.772487Z"
    }
   },
   "cell_type": "code",
   "source": [
    "user_recommendations_items = []\n",
    "user_recommendations_user_id = []\n",
    "\n",
    "for user_id in tqdm(range(n_users)):\n",
    "    recommendations = hyb3.recommend(user_id, cutoff = cutoff)\n",
    "    \n",
    "    user_recommendations_items.extend(recommendations)\n",
    "    user_recommendations_user_id.extend([user_id]*len(recommendations))"
   ],
   "id": "cb349a82da1b22f5",
   "outputs": [
    {
     "name": "stderr",
     "output_type": "stream",
     "text": [
      "100%|██████████| 35736/35736 [03:07<00:00, 190.21it/s]\n"
     ]
    }
   ],
   "execution_count": 30
  },
  {
   "metadata": {
    "ExecuteTime": {
     "end_time": "2025-01-03T11:20:46.836265Z",
     "start_time": "2025-01-03T11:20:45.562851Z"
    }
   },
   "cell_type": "code",
   "source": [
    "test_dataframe = pd.DataFrame({\"UserID\":user_recommendations_user_id, \"ItemID\":user_recommendations_items})\n",
    "test_dataframe"
   ],
   "id": "5fa62a39efa3af32",
   "outputs": [
    {
     "data": {
      "text/plain": [
       "         UserID  ItemID\n",
       "0             0    2548\n",
       "1             0    2697\n",
       "2             0    7547\n",
       "3             0    9911\n",
       "4             0   14888\n",
       "...         ...     ...\n",
       "1072075   35735   36780\n",
       "1072076   35735   37192\n",
       "1072077   35735   35712\n",
       "1072078   35735   36779\n",
       "1072079   35735   36968\n",
       "\n",
       "[1072080 rows x 2 columns]"
      ],
      "text/html": [
       "<div>\n",
       "<style scoped>\n",
       "    .dataframe tbody tr th:only-of-type {\n",
       "        vertical-align: middle;\n",
       "    }\n",
       "\n",
       "    .dataframe tbody tr th {\n",
       "        vertical-align: top;\n",
       "    }\n",
       "\n",
       "    .dataframe thead th {\n",
       "        text-align: right;\n",
       "    }\n",
       "</style>\n",
       "<table border=\"1\" class=\"dataframe\">\n",
       "  <thead>\n",
       "    <tr style=\"text-align: right;\">\n",
       "      <th></th>\n",
       "      <th>UserID</th>\n",
       "      <th>ItemID</th>\n",
       "    </tr>\n",
       "  </thead>\n",
       "  <tbody>\n",
       "    <tr>\n",
       "      <th>0</th>\n",
       "      <td>0</td>\n",
       "      <td>2548</td>\n",
       "    </tr>\n",
       "    <tr>\n",
       "      <th>1</th>\n",
       "      <td>0</td>\n",
       "      <td>2697</td>\n",
       "    </tr>\n",
       "    <tr>\n",
       "      <th>2</th>\n",
       "      <td>0</td>\n",
       "      <td>7547</td>\n",
       "    </tr>\n",
       "    <tr>\n",
       "      <th>3</th>\n",
       "      <td>0</td>\n",
       "      <td>9911</td>\n",
       "    </tr>\n",
       "    <tr>\n",
       "      <th>4</th>\n",
       "      <td>0</td>\n",
       "      <td>14888</td>\n",
       "    </tr>\n",
       "    <tr>\n",
       "      <th>...</th>\n",
       "      <td>...</td>\n",
       "      <td>...</td>\n",
       "    </tr>\n",
       "    <tr>\n",
       "      <th>1072075</th>\n",
       "      <td>35735</td>\n",
       "      <td>36780</td>\n",
       "    </tr>\n",
       "    <tr>\n",
       "      <th>1072076</th>\n",
       "      <td>35735</td>\n",
       "      <td>37192</td>\n",
       "    </tr>\n",
       "    <tr>\n",
       "      <th>1072077</th>\n",
       "      <td>35735</td>\n",
       "      <td>35712</td>\n",
       "    </tr>\n",
       "    <tr>\n",
       "      <th>1072078</th>\n",
       "      <td>35735</td>\n",
       "      <td>36779</td>\n",
       "    </tr>\n",
       "    <tr>\n",
       "      <th>1072079</th>\n",
       "      <td>35735</td>\n",
       "      <td>36968</td>\n",
       "    </tr>\n",
       "  </tbody>\n",
       "</table>\n",
       "<p>1072080 rows × 2 columns</p>\n",
       "</div>"
      ]
     },
     "execution_count": 36,
     "metadata": {},
     "output_type": "execute_result"
    }
   ],
   "execution_count": 36
  },
  {
   "metadata": {
    "ExecuteTime": {
     "end_time": "2025-01-03T11:21:11.951393Z",
     "start_time": "2025-01-03T11:20:50.035011Z"
    }
   },
   "cell_type": "code",
   "source": [
    "top_pop = TopPop(URM_all)\n",
    "top_pop.fit()\n",
    "item_cf = ItemKNNCFRecommender(URM_all)\n",
    "item_cf.fit(similarity= 'tversky', topK= 5, shrink= 19, tversky_alpha= 0.20343700501082568, tversky_beta= 1.8980319969315242)\n",
    "item_cbf = ItemKNNCBFRecommender(URM_all, ICM_all)\n",
    "item_cbf.load_model(folder_path=\"_saved_models\", file_name=\"ItemKNNCBFRecommender_all\")\n",
    "SLIM_BPR = SLIM_BPR_Cython(URM_all)\n",
    "rp3beta=bestrp3\n",
    "\n",
    "other_algorithms_all = {\n",
    "    \"top_pop\": top_pop,\n",
    "    \"item_cf\": item_cf,\n",
    "    \"item_cbf\": item_cbf,\n",
    "    \"rp3beta\": rp3beta,\n",
    "    \"SLIM_BPR\": slimbpr\n",
    "}"
   ],
   "id": "7003b80042336c84",
   "outputs": [
    {
     "name": "stdout",
     "output_type": "stream",
     "text": [
      "Cython module imported successfully.\n",
      "Similarity column 38121 (100.0%), 1799.84 column/sec. Elapsed time 21.18 sec\n",
      "ItemKNNCBFRecommender: Loading model from file '_saved_modelsItemKNNCBFRecommender_all'\n",
      "ItemKNNCBFRecommender: Loading complete\n"
     ]
    }
   ],
   "execution_count": 37
  },
  {
   "metadata": {
    "jupyter": {
     "is_executing": true
    },
    "ExecuteTime": {
     "start_time": "2025-01-03T11:52:32.610542Z"
    }
   },
   "cell_type": "code",
   "source": [
    "\n",
    "test_dataframe = test_dataframe.set_index('UserID')\n",
    "\n",
    "for user_id in tqdm(range(n_users)):\n",
    "    for rec_label, rec_instance in other_algorithms_all.items():\n",
    "\n",
    "        item_list = test_dataframe.loc[user_id, \"ItemID\"].values.tolist()\n",
    "\n",
    "        all_item_scores = rec_instance._compute_item_score([user_id], items_to_compute = item_list)\n",
    "\n",
    "        test_dataframe.loc[user_id, rec_label] = all_item_scores[0, item_list]\n",
    "\n",
    "test_dataframe = test_dataframe.reset_index()\n",
    "test_dataframe = test_dataframe.rename(columns = {\"index\": \"UserID\"})\n",
    "\n",
    "\n"
   ],
   "id": "c072878ad66913ad",
   "outputs": [
    {
     "name": "stderr",
     "output_type": "stream",
     "text": [
      "  2%|▏         | 753/35736 [00:58<45:27, 12.83it/s]"
     ]
    }
   ],
   "execution_count": null
  },
  {
   "metadata": {},
   "cell_type": "code",
   "outputs": [],
   "execution_count": null,
   "source": [
    "item_popularity = np.ediff1d(sps.csc_matrix(URM_all).indptr)\n",
    "test_dataframe['item_popularity'] = item_popularity[test_dataframe[\"ItemID\"].values.astype(int)]\n",
    "\n",
    "user_popularity = np.ediff1d(sps.csr_matrix(URM_all).indptr)\n",
    "test_dataframe['user_profile_len'] = user_popularity[test_dataframe[\"UserID\"].values.astype(int)]\n",
    "\n",
    "test_dataframe"
   ],
   "id": "25ece7315a130d5d"
  },
  {
   "metadata": {},
   "cell_type": "code",
   "outputs": [],
   "execution_count": null,
   "source": [
    "training_dataframe = training_dataframe.sort_values(\"UserID\").reset_index()\n",
    "training_dataframe.drop(columns = ['index'], inplace=True)\n",
    "training_dataframe"
   ],
   "id": "8f0cbbeab69815aa"
  },
  {
   "metadata": {},
   "cell_type": "code",
   "outputs": [],
   "execution_count": null,
   "source": "X = test_dataframe\n",
   "id": "9ddb5f73b3f0fc0b"
  },
  {
   "metadata": {},
   "cell_type": "code",
   "outputs": [],
   "execution_count": null,
   "source": [
    "predictions = XGB_model.predict(X)\n",
    "predictions"
   ],
   "id": "88671778ba7fbd20"
  },
  {
   "metadata": {},
   "cell_type": "code",
   "outputs": [],
   "execution_count": null,
   "source": [
    "reranked_dataframe = test_dataframe.copy()\n",
    "reranked_dataframe['rating_xgb'] = pd.Series(predictions, index=reranked_dataframe.index)\n",
    "reranked_dataframe"
   ],
   "id": "46105e64e83e06be"
  },
  {
   "metadata": {},
   "cell_type": "code",
   "outputs": [],
   "execution_count": null,
   "source": [
    "reranked_dataframe = reranked_dataframe.sort_values(['UserID','rating_xgb'], ascending=[True, False])\n",
    "reranked_dataframe"
   ],
   "id": "af61c71f97eda4f6"
  },
  {
   "metadata": {},
   "cell_type": "code",
   "outputs": [],
   "execution_count": null,
   "source": [
    "def write_reranked_recommendations(file_name):\n",
    "    recommendations = 'user_id,item_list'\n",
    "    f = open(file_name + \".csv\", \"w\")\n",
    "\n",
    "    for user_id in tqdm(range(n_users)):\n",
    "        recommendations_per_user = reranked_dataframe.loc[reranked_dataframe['UserID'] == user_id].ItemID.values[:10]\n",
    "\n",
    "      \n",
    "\n",
    "\n",
    "    f.write(recommendations_per_user)\n",
    "    f.close()"
   ],
   "id": "3b698667b05b9d1e"
  },
  {
   "metadata": {},
   "cell_type": "code",
   "outputs": [],
   "execution_count": null,
   "source": "write_reranked_recommendations(file_name = \"recomm\")\n",
   "id": "6a8b01f924efe649"
  },
  {
   "metadata": {},
   "cell_type": "code",
   "outputs": [],
   "execution_count": null,
   "source": [
    "\n",
    "submission = pd.read_csv(\"recomm.csv\")\n",
    "submission"
   ],
   "id": "3440de76afd061c5"
  }
 ],
 "metadata": {
  "kernelspec": {
   "display_name": "Python 3 (ipykernel)",
   "language": "python",
   "name": "python3"
  },
  "language_info": {
   "codemirror_mode": {
    "name": "ipython",
    "version": 3
   },
   "file_extension": ".py",
   "mimetype": "text/x-python",
   "name": "python",
   "nbconvert_exporter": "python",
   "pygments_lexer": "ipython3",
   "version": "3.8.20"
  }
 },
 "nbformat": 4,
 "nbformat_minor": 5
}
